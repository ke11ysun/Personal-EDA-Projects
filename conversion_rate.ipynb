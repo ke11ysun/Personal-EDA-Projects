{
 "cells": [
  {
   "cell_type": "code",
   "execution_count": 1,
   "metadata": {},
   "outputs": [],
   "source": [
    "import numpy as np\n",
    "import pandas as pd\n",
    "import matplotlib.pyplot as plt\n",
    "import seaborn as sns\n",
    "%matplotlib inline"
   ]
  },
  {
   "cell_type": "markdown",
   "metadata": {},
   "source": [
    "The goal of this challenge is to build a model that ***predicts conversion rate*** and, based on the model, come up with ideas to ***improve revenue***."
   ]
  },
  {
   "cell_type": "markdown",
   "metadata": {},
   "source": [
    "My goal is practice 1)plotly 2)model selection pipeline."
   ]
  },
  {
   "cell_type": "markdown",
   "metadata": {},
   "source": [
    "- [Load and clean data](#loadandclean)\n",
    "- [Visualizing feature distributions](#distributions)\n",
    " - [Bivariate plots](#bivariate)\n",
    " - [plotly](#plotly)\n",
    "- [Predict conversion](#predict)\n",
    " - [GridSearchCV](#gridsearchcv)\n",
    " - [cross_val_score](#crossvalscore)\n",
    " - [Original features with random forest](#org)\n",
    " - [Drop useless feature and model again](#drop)\n",
    "- [Recommendations](#recommendations)\n",
    "- [Takeaways](#takeaways)"
   ]
  },
  {
   "cell_type": "markdown",
   "metadata": {},
   "source": [
    "### Load and clean\n",
    "<a id='loadandclean'></a>"
   ]
  },
  {
   "cell_type": "code",
   "execution_count": 2,
   "metadata": {},
   "outputs": [
    {
     "data": {
      "text/html": [
       "<div>\n",
       "<style scoped>\n",
       "    .dataframe tbody tr th:only-of-type {\n",
       "        vertical-align: middle;\n",
       "    }\n",
       "\n",
       "    .dataframe tbody tr th {\n",
       "        vertical-align: top;\n",
       "    }\n",
       "\n",
       "    .dataframe thead th {\n",
       "        text-align: right;\n",
       "    }\n",
       "</style>\n",
       "<table border=\"1\" class=\"dataframe\">\n",
       "  <thead>\n",
       "    <tr style=\"text-align: right;\">\n",
       "      <th></th>\n",
       "      <th>country</th>\n",
       "      <th>age</th>\n",
       "      <th>new_user</th>\n",
       "      <th>source</th>\n",
       "      <th>total_pages_visited</th>\n",
       "      <th>converted</th>\n",
       "    </tr>\n",
       "  </thead>\n",
       "  <tbody>\n",
       "    <tr>\n",
       "      <th>0</th>\n",
       "      <td>UK</td>\n",
       "      <td>25</td>\n",
       "      <td>1</td>\n",
       "      <td>Ads</td>\n",
       "      <td>1</td>\n",
       "      <td>0</td>\n",
       "    </tr>\n",
       "    <tr>\n",
       "      <th>1</th>\n",
       "      <td>US</td>\n",
       "      <td>23</td>\n",
       "      <td>1</td>\n",
       "      <td>Seo</td>\n",
       "      <td>5</td>\n",
       "      <td>0</td>\n",
       "    </tr>\n",
       "    <tr>\n",
       "      <th>2</th>\n",
       "      <td>US</td>\n",
       "      <td>28</td>\n",
       "      <td>1</td>\n",
       "      <td>Seo</td>\n",
       "      <td>4</td>\n",
       "      <td>0</td>\n",
       "    </tr>\n",
       "    <tr>\n",
       "      <th>3</th>\n",
       "      <td>China</td>\n",
       "      <td>39</td>\n",
       "      <td>1</td>\n",
       "      <td>Seo</td>\n",
       "      <td>5</td>\n",
       "      <td>0</td>\n",
       "    </tr>\n",
       "    <tr>\n",
       "      <th>4</th>\n",
       "      <td>US</td>\n",
       "      <td>30</td>\n",
       "      <td>1</td>\n",
       "      <td>Seo</td>\n",
       "      <td>6</td>\n",
       "      <td>0</td>\n",
       "    </tr>\n",
       "  </tbody>\n",
       "</table>\n",
       "</div>"
      ],
      "text/plain": [
       "  country  age  new_user source  total_pages_visited  converted\n",
       "0      UK   25         1    Ads                    1          0\n",
       "1      US   23         1    Seo                    5          0\n",
       "2      US   28         1    Seo                    4          0\n",
       "3   China   39         1    Seo                    5          0\n",
       "4      US   30         1    Seo                    6          0"
      ]
     },
     "execution_count": 2,
     "metadata": {},
     "output_type": "execute_result"
    }
   ],
   "source": [
    "path = '/Users/sjx/Desktop/conversion_data.csv'\n",
    "df = pd.read_csv(path)\n",
    "df.head()"
   ]
  },
  {
   "cell_type": "code",
   "execution_count": 4,
   "metadata": {},
   "outputs": [
    {
     "name": "stdout",
     "output_type": "stream",
     "text": [
      "<class 'pandas.core.frame.DataFrame'>\n",
      "RangeIndex: 316200 entries, 0 to 316199\n",
      "Data columns (total 6 columns):\n",
      "country                316200 non-null object\n",
      "age                    316200 non-null int64\n",
      "new_user               316200 non-null int64\n",
      "source                 316200 non-null object\n",
      "total_pages_visited    316200 non-null int64\n",
      "converted              316200 non-null int64\n",
      "dtypes: int64(4), object(2)\n",
      "memory usage: 14.5+ MB\n"
     ]
    }
   ],
   "source": [
    "df.info()"
   ]
  },
  {
   "cell_type": "code",
   "execution_count": 5,
   "metadata": {},
   "outputs": [
    {
     "data": {
      "text/html": [
       "<div>\n",
       "<style scoped>\n",
       "    .dataframe tbody tr th:only-of-type {\n",
       "        vertical-align: middle;\n",
       "    }\n",
       "\n",
       "    .dataframe tbody tr th {\n",
       "        vertical-align: top;\n",
       "    }\n",
       "\n",
       "    .dataframe thead th {\n",
       "        text-align: right;\n",
       "    }\n",
       "</style>\n",
       "<table border=\"1\" class=\"dataframe\">\n",
       "  <thead>\n",
       "    <tr style=\"text-align: right;\">\n",
       "      <th></th>\n",
       "      <th>age</th>\n",
       "      <th>new_user</th>\n",
       "      <th>total_pages_visited</th>\n",
       "      <th>converted</th>\n",
       "    </tr>\n",
       "  </thead>\n",
       "  <tbody>\n",
       "    <tr>\n",
       "      <th>count</th>\n",
       "      <td>316200.000000</td>\n",
       "      <td>316200.000000</td>\n",
       "      <td>316200.000000</td>\n",
       "      <td>316200.000000</td>\n",
       "    </tr>\n",
       "    <tr>\n",
       "      <th>mean</th>\n",
       "      <td>30.569858</td>\n",
       "      <td>0.685465</td>\n",
       "      <td>4.872966</td>\n",
       "      <td>0.032258</td>\n",
       "    </tr>\n",
       "    <tr>\n",
       "      <th>std</th>\n",
       "      <td>8.271802</td>\n",
       "      <td>0.464331</td>\n",
       "      <td>3.341104</td>\n",
       "      <td>0.176685</td>\n",
       "    </tr>\n",
       "    <tr>\n",
       "      <th>min</th>\n",
       "      <td>17.000000</td>\n",
       "      <td>0.000000</td>\n",
       "      <td>1.000000</td>\n",
       "      <td>0.000000</td>\n",
       "    </tr>\n",
       "    <tr>\n",
       "      <th>25%</th>\n",
       "      <td>24.000000</td>\n",
       "      <td>0.000000</td>\n",
       "      <td>2.000000</td>\n",
       "      <td>0.000000</td>\n",
       "    </tr>\n",
       "    <tr>\n",
       "      <th>50%</th>\n",
       "      <td>30.000000</td>\n",
       "      <td>1.000000</td>\n",
       "      <td>4.000000</td>\n",
       "      <td>0.000000</td>\n",
       "    </tr>\n",
       "    <tr>\n",
       "      <th>75%</th>\n",
       "      <td>36.000000</td>\n",
       "      <td>1.000000</td>\n",
       "      <td>7.000000</td>\n",
       "      <td>0.000000</td>\n",
       "    </tr>\n",
       "    <tr>\n",
       "      <th>max</th>\n",
       "      <td>123.000000</td>\n",
       "      <td>1.000000</td>\n",
       "      <td>29.000000</td>\n",
       "      <td>1.000000</td>\n",
       "    </tr>\n",
       "  </tbody>\n",
       "</table>\n",
       "</div>"
      ],
      "text/plain": [
       "                 age       new_user  total_pages_visited      converted\n",
       "count  316200.000000  316200.000000        316200.000000  316200.000000\n",
       "mean       30.569858       0.685465             4.872966       0.032258\n",
       "std         8.271802       0.464331             3.341104       0.176685\n",
       "min        17.000000       0.000000             1.000000       0.000000\n",
       "25%        24.000000       0.000000             2.000000       0.000000\n",
       "50%        30.000000       1.000000             4.000000       0.000000\n",
       "75%        36.000000       1.000000             7.000000       0.000000\n",
       "max       123.000000       1.000000            29.000000       1.000000"
      ]
     },
     "execution_count": 5,
     "metadata": {},
     "output_type": "execute_result"
    }
   ],
   "source": [
    "df.describe()"
   ]
  },
  {
   "cell_type": "code",
   "execution_count": 9,
   "metadata": {},
   "outputs": [
    {
     "name": "stdout",
     "output_type": "stream",
     "text": [
      "\n",
      " country\n",
      "US         178092\n",
      "China       76602\n",
      "UK          48450\n",
      "Germany     13056\n",
      "Name: country, dtype: int64\n",
      "0\n",
      "\n",
      " age\n",
      "30     14346\n",
      "28     14341\n",
      "29     14158\n",
      "27     14084\n",
      "26     13931\n",
      "31     13692\n",
      "32     13507\n",
      "25     13460\n",
      "24     12960\n",
      "33     12631\n",
      "23     12336\n",
      "34     12108\n",
      "22     11701\n",
      "35     11471\n",
      "21     10966\n",
      "36     10779\n",
      "20     10156\n",
      "37      9761\n",
      "19      9349\n",
      "38      8970\n",
      "18      8466\n",
      "39      8202\n",
      "17      7597\n",
      "40      7148\n",
      "41      6401\n",
      "42      5588\n",
      "43      4904\n",
      "44      4224\n",
      "45      3634\n",
      "46      2994\n",
      "47      2504\n",
      "48      2121\n",
      "49      1629\n",
      "50      1356\n",
      "51      1093\n",
      "52       935\n",
      "53       627\n",
      "54       520\n",
      "55       394\n",
      "56       286\n",
      "57       247\n",
      "58       165\n",
      "59       127\n",
      "60        94\n",
      "61        71\n",
      "62        59\n",
      "63        35\n",
      "64        27\n",
      "65        15\n",
      "66         9\n",
      "67         5\n",
      "68         5\n",
      "69         3\n",
      "70         2\n",
      "77         1\n",
      "79         1\n",
      "111        1\n",
      "73         1\n",
      "72         1\n",
      "123        1\n",
      "Name: age, dtype: int64\n",
      "0\n",
      "\n",
      " new_user\n",
      "1    216744\n",
      "0     99456\n",
      "Name: new_user, dtype: int64\n",
      "0\n",
      "\n",
      " source\n",
      "Seo       155040\n",
      "Ads        88740\n",
      "Direct     72420\n",
      "Name: source, dtype: int64\n",
      "0\n",
      "\n",
      " total_pages_visited\n",
      "2     43868\n",
      "3     43829\n",
      "4     41046\n",
      "1     40739\n",
      "5     36308\n",
      "6     30261\n",
      "7     23488\n",
      "8     17522\n",
      "9     12157\n",
      "10     8074\n",
      "11     5394\n",
      "12     3615\n",
      "13     2425\n",
      "14     1811\n",
      "15     1325\n",
      "16     1100\n",
      "17      845\n",
      "18      722\n",
      "19      565\n",
      "20      405\n",
      "21      296\n",
      "22      180\n",
      "23      113\n",
      "24       46\n",
      "25       39\n",
      "26       17\n",
      "27        7\n",
      "29        2\n",
      "28        1\n",
      "Name: total_pages_visited, dtype: int64\n",
      "0\n",
      "\n",
      " converted\n",
      "0    306000\n",
      "1     10200\n",
      "Name: converted, dtype: int64\n",
      "0\n"
     ]
    }
   ],
   "source": [
    "for col in df.columns:\n",
    "    print('\\n', col)\n",
    "    print(df[col].value_counts())\n",
    "    print(df[col].isnull().sum())"
   ]
  },
  {
   "cell_type": "markdown",
   "metadata": {},
   "source": [
    "Some illegal values in age (age > 100)"
   ]
  },
  {
   "cell_type": "code",
   "execution_count": 83,
   "metadata": {},
   "outputs": [
    {
     "data": {
      "text/plain": [
       "(316198, 6)"
      ]
     },
     "execution_count": 83,
     "metadata": {},
     "output_type": "execute_result"
    }
   ],
   "source": [
    "# df[df['age'] > 100].index\n",
    "df.drop(df[df['age'] > 100].index, inplace=True)\n",
    "df.shape"
   ]
  },
  {
   "cell_type": "markdown",
   "metadata": {},
   "source": [
    "### Distributions\n",
    "<a id='distributions'></a>"
   ]
  },
  {
   "cell_type": "code",
   "execution_count": 24,
   "metadata": {},
   "outputs": [],
   "source": [
    "sns.set_palette('RdBu')"
   ]
  },
  {
   "cell_type": "code",
   "execution_count": 25,
   "metadata": {},
   "outputs": [
    {
     "data": {
      "image/png": "[encoded data removed]",
      "text/plain": [
       "<Figure size 720x360 with 2 Axes>"
      ]
     },
     "metadata": {
      "needs_background": "light"
     },
     "output_type": "display_data"
    }
   ],
   "source": [
    "fig, axes = plt.subplots(1, 2, figsize=(10, 5))\n",
    "ax0 = sns.countplot(x='country', data=df, ax=axes[0])\n",
    "ax1 = sns.barplot(x='country', y='converted', data=df, ax=axes[1])"
   ]
  },
  {
   "cell_type": "markdown",
   "metadata": {},
   "source": [
    "Although Germany and UK have lower customer count, the conversion rate of these two countries are very high. Hypothesis: conversion rate might be related to geographical locations, eg. European countries have higher conversion. "
   ]
  },
  {
   "cell_type": "code",
   "execution_count": 26,
   "metadata": {},
   "outputs": [
    {
     "data": {
      "image/png": "[encoded data removed]",
      "text/plain": [
       "<Figure size 720x288 with 2 Axes>"
      ]
     },
     "metadata": {
      "needs_background": "light"
     },
     "output_type": "display_data"
    }
   ],
   "source": [
    "fig, (ax1, ax2) = plt.subplots(1,2,figsize=(10,4))\n",
    "ax1 = sns.distplot(df['age'], rug=True, ax=ax1)\n",
    "ax2 = sns.violinplot(x='converted', y='age', data=df, ax=ax2)"
   ]
  },
  {
   "cell_type": "markdown",
   "metadata": {},
   "source": [
    "Generally speaking, younger people have a higher possibility of conversion, with several peaks between 10 and 50. Looking at the distribution for converted group and not converted group, the majority of conversion happens to 20-30 years old users. Hypothesis: the product is more attractive to young people."
   ]
  },
  {
   "cell_type": "code",
   "execution_count": 31,
   "metadata": {},
   "outputs": [
    {
     "data": {
      "image/png": "[encoded data removed]",
      "text/plain": [
       "<Figure size 720x288 with 2 Axes>"
      ]
     },
     "metadata": {
      "needs_background": "light"
     },
     "output_type": "display_data"
    },
    {
     "name": "stdout",
     "output_type": "stream",
     "text": [
      "converted         0       1\n",
      "age_bin                    \n",
      "0           78904.0  4627.0\n",
      "1          107901.0  3618.0\n",
      "2           79531.0  1539.0\n",
      "3           31999.0   371.0\n",
      "4            6516.0    38.0\n",
      "5            1079.0     5.0\n",
      "6              66.0     NaN\n",
      "7               4.0     NaN\n"
     ]
    }
   ],
   "source": [
    "df['age_bin'] = pd.cut(df['age'], 8).cat.codes\n",
    "fig, (ax1, ax2) = plt.subplots(1,2,figsize=(10,4))\n",
    "ax1 = sns.countplot(x='age_bin', data=df, ax=ax1)\n",
    "tmp = df.groupby(['age_bin', 'converted']).size().unstack()\n",
    "ax2 = tmp.div(tmp.sum(1).astype(float), axis=0).plot.bar(stacked=True, cmap='RdBu', ax=ax2)\n",
    "ax2 = sns.barplot(x=)\n",
    "plt.show()\n",
    "print(tmp)"
   ]
  },
  {
   "cell_type": "markdown",
   "metadata": {},
   "source": [
    "To have a closer look at each age group, how much percentage of users converted within each group. It turns out even in the group with highest conversion rate, there's only about 5% user converted. In most groups there's no converted user. So generally the product doesn't perform well."
   ]
  },
  {
   "cell_type": "code",
   "execution_count": 32,
   "metadata": {},
   "outputs": [
    {
     "data": {
      "image/png": "[encoded data removed]",
      "text/plain": [
       "<Figure size 720x360 with 2 Axes>"
      ]
     },
     "metadata": {
      "needs_background": "light"
     },
     "output_type": "display_data"
    }
   ],
   "source": [
    "fig, axes = plt.subplots(1, 2, figsize=(10, 5))\n",
    "ax0 = sns.countplot(x='new_user', data=df, ax=axes[0])\n",
    "ax1 = sns.barplot(x='new_user', y='converted', data=df, ax=axes[1])"
   ]
  },
  {
   "cell_type": "markdown",
   "metadata": {},
   "source": [
    "Current user base has 1/3 old users and 2/3 new users. The conversion of old users is about 5x of new users. Clearly it is more popular with the old users. Maybe new users cannot find the value of the product because they haven't dig deep enough. We need to make the features more salient to new users."
   ]
  },
  {
   "cell_type": "code",
   "execution_count": 33,
   "metadata": {},
   "outputs": [
    {
     "data": {
      "image/png": "[encoded data removed]",
      "text/plain": [
       "<Figure size 720x288 with 2 Axes>"
      ]
     },
     "metadata": {
      "needs_background": "light"
     },
     "output_type": "display_data"
    }
   ],
   "source": [
    "fig, (ax1, ax2) = plt.subplots(1,2,figsize=(10,4))\n",
    "ax1 = sns.distplot(df['total_pages_visited'], rug=True, ax=ax1)\n",
    "ax2 = sns.violinplot(x='converted', y='total_pages_visited', data=df, ax=ax2)"
   ]
  },
  {
   "cell_type": "markdown",
   "metadata": {},
   "source": [
    "For converted users, average page view is 15. Most users who didn't convert only viewed less than 5 pages. This might be a confirmation of the last hypothesis."
   ]
  },
  {
   "cell_type": "markdown",
   "metadata": {},
   "source": [
    "#### Complemetary: bivariate (just trying out different types of plots)\n",
    "<a id='bivariate'></a>"
   ]
  },
  {
   "cell_type": "code",
   "execution_count": 88,
   "metadata": {},
   "outputs": [
    {
     "data": {
      "image/png": "[encoded data removed]",
      "text/plain": [
       "<Figure size 1080x288 with 3 Axes>"
      ]
     },
     "metadata": {
      "needs_background": "light"
     },
     "output_type": "display_data"
    }
   ],
   "source": [
    "# 1 num, 2 cat\n",
    "fig, axes = plt.subplots(1,3,figsize=(15,4))\n",
    "ax0 = sns.violinplot(x='country', y='age', hue='converted', split=True, data=df, ax=axes[0])\n",
    "ax1 = sns.violinplot(x='new_user', y='age', hue='converted', split=True, data=df, ax=axes[1])\n",
    "ax2 = sns.violinplot(x='new_user', y='total_pages_visited', hue='converted', split=True, data=df, ax=axes[2])"
   ]
  },
  {
   "cell_type": "code",
   "execution_count": 131,
   "metadata": {},
   "outputs": [
    {
     "data": {
      "image/png": "[encoded data removed]",
      "text/plain": [
       "<Figure size 720x576 with 4 Axes>"
      ]
     },
     "metadata": {
      "needs_background": "light"
     },
     "output_type": "display_data"
    }
   ],
   "source": [
    "# 3 cat\n",
    "tmp0 = df.loc[df['converted'] == 0].groupby(['country', 'new_user']).size().unstack()\n",
    "tmp1 = df.loc[df['converted'] == 1].groupby(['country', 'new_user']).size().unstack()\n",
    "\n",
    "fig, axes = plt.subplots(2,2,figsize=(10,8))\n",
    "ax0 = tmp0.plot.bar(ax=axes[0,0])\n",
    "ax1 = tmp0.div(tmp0.sum(1).astype(float), axis=0).plot.bar(stacked=True, ax=axes[0,1])\n",
    "ax2 = tmp1.plot.bar(ax=axes[1,0])\n",
    "ax3 = tmp1.div(tmp1.sum(1).astype(float), axis=0).plot.bar(stacked=True, ax=axes[1,1])"
   ]
  },
  {
   "cell_type": "code",
   "execution_count": 145,
   "metadata": {
    "scrolled": true
   },
   "outputs": [
    {
     "data": {
      "image/png": "[encoded data removed]",
      "text/plain": [
       "<Figure size 432x288 with 1 Axes>"
      ]
     },
     "metadata": {
      "needs_background": "light"
     },
     "output_type": "display_data"
    }
   ],
   "source": [
    "# 2 num, 1 cat \n",
    "tmp0 = df[df['converted'] == 0]\n",
    "tmp1 = df[df['converted'] == 1]\n",
    "ax = sns.kdeplot(tmp0['age'].values, tmp0['total_pages_visited'].values, shade=True, cmap='Blues')\n",
    "ax = sns.kdeplot(tmp1['age'].values, tmp1['total_pages_visited'].values, shade=True, cmap='Reds') # v slow"
   ]
  },
  {
   "cell_type": "code",
   "execution_count": 128,
   "metadata": {},
   "outputs": [
    {
     "data": {
      "text/plain": [
       "<seaborn.axisgrid.FacetGrid at 0x12163d9e8>"
      ]
     },
     "execution_count": 128,
     "metadata": {},
     "output_type": "execute_result"
    },
    {
     "data": {
      "image/png": "[encoded data removed]",
      "text/plain": [
       "<Figure size 432x216 with 2 Axes>"
      ]
     },
     "metadata": {
      "needs_background": "light"
     },
     "output_type": "display_data"
    }
   ],
   "source": [
    "g = sns.FacetGrid(df, col='converted')\n",
    "g.map(plt.scatter, 'age', 'total_pages_visited')"
   ]
  },
  {
   "cell_type": "markdown",
   "metadata": {},
   "source": [
    "<span style='color:green'>Kde plot is very slow. If there are too many data points, don't scatter plot."
   ]
  },
  {
   "cell_type": "code",
   "execution_count": 11,
   "metadata": {},
   "outputs": [
    {
     "data": {
      "text/plain": [
       "<matplotlib.axes._subplots.AxesSubplot at 0x1045f7eb8>"
      ]
     },
     "execution_count": 11,
     "metadata": {},
     "output_type": "execute_result"
    },
    {
     "data": {
      "image/png": "[encoded data removed]",
      "text/plain": [
       "<Figure size 432x288 with 1 Axes>"
      ]
     },
     "metadata": {
      "needs_background": "light"
     },
     "output_type": "display_data"
    }
   ],
   "source": [
    "sns.barplot(x='country', y='new_user', hue='converted', data=df)"
   ]
  },
  {
   "cell_type": "markdown",
   "metadata": {},
   "source": [
    "#### plotly\n",
    "<a id='plotly'></a>"
   ]
  },
  {
   "cell_type": "code",
   "execution_count": 148,
   "metadata": {},
   "outputs": [],
   "source": [
    "import plotly.graph_objs as go\n",
    "import plotly.plotly as py"
   ]
  },
  {
   "cell_type": "code",
   "execution_count": 150,
   "metadata": {
    "scrolled": true
   },
   "outputs": [
    {
     "name": "stdout",
     "output_type": "stream",
     "text": [
      "Aw, snap! We didn't get a username with your request.\n",
      "\n",
      "Don't have an account? https://plot.ly/api_signup\n",
      "\n",
      "Questions? accounts@plot.ly\n"
     ]
    }
   ],
   "source": [
    "tmp = df.iloc[:100]\n",
    "data = [\n",
    "    go.Bar(x=tmp['country'], y=tmp['converted'])\n",
    "]\n",
    "\n",
    "url = py.plot(data)"
   ]
  },
  {
   "cell_type": "markdown",
   "metadata": {},
   "source": [
    "### Predict (classification)\n",
    "<a id='prediction'></a>"
   ]
  },
  {
   "cell_type": "code",
   "execution_count": 40,
   "metadata": {},
   "outputs": [],
   "source": [
    "from sklearn.model_selection import train_test_split\n",
    "from sklearn.model_selection import cross_val_score\n",
    "from sklearn.model_selection import KFold\n",
    "from sklearn.model_selection import GridSearchCV\n",
    "from sklearn.linear_model import LogisticRegression\n",
    "from sklearn.ensemble import RandomForestClassifier\n",
    "from sklearn.ensemble import GradientBoostingClassifier\n",
    "from sklearn.metrics import classification_report\n",
    "from sklearn.metrics import accuracy_score"
   ]
  },
  {
   "cell_type": "markdown",
   "metadata": {},
   "source": [
    "#### Just for practice: GridSearchCV\n",
    "<a id='gridsearchcv'></a>"
   ]
  },
  {
   "cell_type": "code",
   "execution_count": 44,
   "metadata": {},
   "outputs": [
    {
     "data": {
      "text/html": [
       "<div>\n",
       "<style scoped>\n",
       "    .dataframe tbody tr th:only-of-type {\n",
       "        vertical-align: middle;\n",
       "    }\n",
       "\n",
       "    .dataframe tbody tr th {\n",
       "        vertical-align: top;\n",
       "    }\n",
       "\n",
       "    .dataframe thead th {\n",
       "        text-align: right;\n",
       "    }\n",
       "</style>\n",
       "<table border=\"1\" class=\"dataframe\">\n",
       "  <thead>\n",
       "    <tr style=\"text-align: right;\">\n",
       "      <th></th>\n",
       "      <th>age</th>\n",
       "      <th>new_user</th>\n",
       "      <th>total_pages_visited</th>\n",
       "      <th>converted</th>\n",
       "      <th>age_bin</th>\n",
       "      <th>country_China</th>\n",
       "      <th>country_Germany</th>\n",
       "      <th>country_UK</th>\n",
       "      <th>country_US</th>\n",
       "      <th>source_Ads</th>\n",
       "      <th>source_Direct</th>\n",
       "      <th>source_Seo</th>\n",
       "    </tr>\n",
       "  </thead>\n",
       "  <tbody>\n",
       "    <tr>\n",
       "      <th>0</th>\n",
       "      <td>25</td>\n",
       "      <td>1</td>\n",
       "      <td>1</td>\n",
       "      <td>0</td>\n",
       "      <td>1</td>\n",
       "      <td>0</td>\n",
       "      <td>0</td>\n",
       "      <td>1</td>\n",
       "      <td>0</td>\n",
       "      <td>1</td>\n",
       "      <td>0</td>\n",
       "      <td>0</td>\n",
       "    </tr>\n",
       "    <tr>\n",
       "      <th>1</th>\n",
       "      <td>23</td>\n",
       "      <td>1</td>\n",
       "      <td>5</td>\n",
       "      <td>0</td>\n",
       "      <td>0</td>\n",
       "      <td>0</td>\n",
       "      <td>0</td>\n",
       "      <td>0</td>\n",
       "      <td>1</td>\n",
       "      <td>0</td>\n",
       "      <td>0</td>\n",
       "      <td>1</td>\n",
       "    </tr>\n",
       "    <tr>\n",
       "      <th>2</th>\n",
       "      <td>28</td>\n",
       "      <td>1</td>\n",
       "      <td>4</td>\n",
       "      <td>0</td>\n",
       "      <td>1</td>\n",
       "      <td>0</td>\n",
       "      <td>0</td>\n",
       "      <td>0</td>\n",
       "      <td>1</td>\n",
       "      <td>0</td>\n",
       "      <td>0</td>\n",
       "      <td>1</td>\n",
       "    </tr>\n",
       "    <tr>\n",
       "      <th>3</th>\n",
       "      <td>39</td>\n",
       "      <td>1</td>\n",
       "      <td>5</td>\n",
       "      <td>0</td>\n",
       "      <td>2</td>\n",
       "      <td>1</td>\n",
       "      <td>0</td>\n",
       "      <td>0</td>\n",
       "      <td>0</td>\n",
       "      <td>0</td>\n",
       "      <td>0</td>\n",
       "      <td>1</td>\n",
       "    </tr>\n",
       "    <tr>\n",
       "      <th>4</th>\n",
       "      <td>30</td>\n",
       "      <td>1</td>\n",
       "      <td>6</td>\n",
       "      <td>0</td>\n",
       "      <td>1</td>\n",
       "      <td>0</td>\n",
       "      <td>0</td>\n",
       "      <td>0</td>\n",
       "      <td>1</td>\n",
       "      <td>0</td>\n",
       "      <td>0</td>\n",
       "      <td>1</td>\n",
       "    </tr>\n",
       "  </tbody>\n",
       "</table>\n",
       "</div>"
      ],
      "text/plain": [
       "   age  new_user  total_pages_visited  converted  age_bin  country_China  \\\n",
       "0   25         1                    1          0        1              0   \n",
       "1   23         1                    5          0        0              0   \n",
       "2   28         1                    4          0        1              0   \n",
       "3   39         1                    5          0        2              1   \n",
       "4   30         1                    6          0        1              0   \n",
       "\n",
       "   country_Germany  country_UK  country_US  source_Ads  source_Direct  \\\n",
       "0                0           1           0           1              0   \n",
       "1                0           0           1           0              0   \n",
       "2                0           0           1           0              0   \n",
       "3                0           0           0           0              0   \n",
       "4                0           0           1           0              0   \n",
       "\n",
       "   source_Seo  \n",
       "0           0  \n",
       "1           1  \n",
       "2           1  \n",
       "3           1  \n",
       "4           1  "
      ]
     },
     "execution_count": 44,
     "metadata": {},
     "output_type": "execute_result"
    }
   ],
   "source": [
    "# change into numerical for the sake of logistic regression\n",
    "df = pd.get_dummies(df, columns=['country', 'source'])\n",
    "df.head()"
   ]
  },
  {
   "cell_type": "code",
   "execution_count": 45,
   "metadata": {},
   "outputs": [
    {
     "name": "stdout",
     "output_type": "stream",
     "text": [
      "(316198, 10) (316198,)\n",
      "(252958, 10) (63240, 10) (252958,) (63240,)\n"
     ]
    }
   ],
   "source": [
    "x = df.drop(['converted','age_bin'], axis=1)\n",
    "y = df['converted']\n",
    "print(x.shape, y.shape)\n",
    "x_train, x_test, y_train, y_test = train_test_split(x, y, test_size=0.2, random_state=42)\n",
    "print(x_train.shape, x_test.shape, y_train.shape, y_test.shape)"
   ]
  },
  {
   "cell_type": "code",
   "execution_count": 51,
   "metadata": {},
   "outputs": [],
   "source": [
    "lr = LogisticRegression()\n",
    "lr_params = {'penalty':['l1', 'l2'], 'C':[1,10,100,1000]}\n",
    "\n",
    "rf = RandomForestClassifier()\n",
    "xg = GradientBoostingClassifier()\n",
    "tree_params = {'bootstrap': [True, False],\n",
    "             'max_depth': [10, 50, 100],\n",
    "#              'max_features': ['auto', 'sqrt'],\n",
    "#              'min_samples_leaf': [1, 2, 4],\n",
    "#              'min_samples_split': [2, 5, 10],\n",
    "             'n_estimators': [10, 50, 100]}    "
   ]
  },
  {
   "cell_type": "code",
   "execution_count": 52,
   "metadata": {},
   "outputs": [],
   "source": [
    "def tune(clf, params):\n",
    "    print()\n",
    "    print(clf)\n",
    "    gscv = GridSearchCV(clf, params, cv=KFold(5))\n",
    "    gscv.fit(x_train, y_train)\n",
    "    print('Best params:')\n",
    "    print(gscv.best_params_)\n",
    "#     print('\\nAverage scores for each parameter combination:')\n",
    "#     means = clf.cv_results_['mean_test_score']\n",
    "#     for mean, param in zip(means, clf.cv_results_['params']):\n",
    "#         print(mean, param)\n",
    "    print('\\nPredictions:')\n",
    "    preds = gscv.predict(x_test)\n",
    "    print(classification_report(y_test, preds))\n",
    "    print('\\nAccuracy score:', accuracy_score(y_test, preds))\n",
    "    "
   ]
  },
  {
   "cell_type": "markdown",
   "metadata": {},
   "source": [
    "Above code from [sklearn doc](https://scikit-learn.org/stable/auto_examples/model_selection/plot_grid_search_digits.html#sphx-glr-auto-examples-model-selection-plot-grid-search-digits-py). <span style='color:red'>Need to check out more code examples on Kaggle."
   ]
  },
  {
   "cell_type": "code",
   "execution_count": 53,
   "metadata": {
    "scrolled": true
   },
   "outputs": [
    {
     "name": "stdout",
     "output_type": "stream",
     "text": [
      "\n",
      "LogisticRegression(C=1.0, class_weight=None, dual=False, fit_intercept=True,\n",
      "          intercept_scaling=1, max_iter=100, multi_class='ovr', n_jobs=1,\n",
      "          penalty='l2', random_state=None, solver='liblinear', tol=0.0001,\n",
      "          verbose=0, warm_start=False)\n",
      "Best params:\n",
      "{'C': 10, 'penalty': 'l1'}\n",
      "\n",
      "Predictions:\n",
      "             precision    recall  f1-score   support\n",
      "\n",
      "          0       0.99      1.00      0.99     61205\n",
      "          1       0.86      0.69      0.77      2035\n",
      "\n",
      "avg / total       0.99      0.99      0.99     63240\n",
      "\n",
      "\n",
      "Accuracy score: 0.9865591397849462\n",
      "\n",
      "RandomForestClassifier(bootstrap=True, class_weight=None, criterion='gini',\n",
      "            max_depth=None, max_features='auto', max_leaf_nodes=None,\n",
      "            min_impurity_decrease=0.0, min_impurity_split=None,\n",
      "            min_samples_leaf=1, min_samples_split=2,\n",
      "            min_weight_fraction_leaf=0.0, n_estimators=10, n_jobs=1,\n",
      "            oob_score=False, random_state=None, verbose=0,\n",
      "            warm_start=False)\n",
      "Best params:\n",
      "{'bootstrap': True, 'max_depth': 10, 'n_estimators': 10}\n",
      "\n",
      "Predictions:\n",
      "             precision    recall  f1-score   support\n",
      "\n",
      "          0       0.99      1.00      0.99     61205\n",
      "          1       0.85      0.69      0.76      2035\n",
      "\n",
      "avg / total       0.99      0.99      0.99     63240\n",
      "\n",
      "\n",
      "Accuracy score: 0.9860373181530677\n"
     ]
    },
    {
     "ename": "NameError",
     "evalue": "name 'tuen' is not defined",
     "output_type": "error",
     "traceback": [
      "\u001b[0;31m---------------------------------------------------------------------------\u001b[0m",
      "\u001b[0;31mNameError\u001b[0m                                 Traceback (most recent call last)",
      "\u001b[0;32m<ipython-input-53-6d093f0ad609>\u001b[0m in \u001b[0;36m<module>\u001b[0;34m()\u001b[0m\n\u001b[1;32m      1\u001b[0m \u001b[0mtune\u001b[0m\u001b[0;34m(\u001b[0m\u001b[0mlr\u001b[0m\u001b[0;34m,\u001b[0m \u001b[0mlr_params\u001b[0m\u001b[0;34m)\u001b[0m\u001b[0;34m\u001b[0m\u001b[0m\n\u001b[1;32m      2\u001b[0m \u001b[0mtune\u001b[0m\u001b[0;34m(\u001b[0m\u001b[0mrf\u001b[0m\u001b[0;34m,\u001b[0m \u001b[0mtree_params\u001b[0m\u001b[0;34m)\u001b[0m\u001b[0;34m\u001b[0m\u001b[0m\n\u001b[0;32m----> 3\u001b[0;31m \u001b[0mtuen\u001b[0m\u001b[0;34m(\u001b[0m\u001b[0mxg\u001b[0m\u001b[0;34m,\u001b[0m \u001b[0mtree_params\u001b[0m\u001b[0;34m)\u001b[0m\u001b[0;34m\u001b[0m\u001b[0m\n\u001b[0m",
      "\u001b[0;31mNameError\u001b[0m: name 'tuen' is not defined"
     ]
    }
   ],
   "source": [
    "tune(lr, lr_params)\n",
    "tune(rf, tree_params)\n",
    "tune(xg, tree_params)"
   ]
  },
  {
   "cell_type": "markdown",
   "metadata": {},
   "source": [
    "Still, random forest is way slower than logistic regression. <span style='color:red'>Do we need to change string variables into numeric for rf tho?"
   ]
  },
  {
   "cell_type": "markdown",
   "metadata": {},
   "source": [
    "#### Just for practice: cross_val_score\n",
    "<a id='crossvalscore'></a>"
   ]
  },
  {
   "cell_type": "code",
   "execution_count": 71,
   "metadata": {},
   "outputs": [
    {
     "name": "stdout",
     "output_type": "stream",
     "text": [
      "LogisticRegression(C=10, class_weight=None, dual=False, fit_intercept=True,\n",
      "          intercept_scaling=1, max_iter=100, multi_class='ovr', n_jobs=1,\n",
      "          penalty='l1', random_state=None, solver='liblinear', tol=0.0001,\n",
      "          verbose=0, warm_start=False)\n",
      "cross_val_score: [0.98661844 0.98543248 0.98592663 0.98606472 0.98622285]\n",
      "accuracy_score: 0.9865591397849462\n",
      "Feature importance:\n",
      " country_China         -5.974065\n",
      "source_Direct         -3.020326\n",
      "source_Seo            -2.861605\n",
      "source_Ads            -2.860445\n",
      "country_US            -2.775446\n",
      "country_UK            -2.394482\n",
      "country_Germany       -2.199707\n",
      "new_user              -1.742583\n",
      "age                   -0.074557\n",
      "total_pages_visited    0.758600\n",
      "dtype: float64\n"
     ]
    }
   ],
   "source": [
    "lr = LogisticRegression(C=10, penalty='l1')\n",
    "print(lr)\n",
    "print('cross_val_score:', cross_val_score(lr, x_train, y_train, cv=5))\n",
    "preds = lr.fit(x_train, y_train).predict(x_test)\n",
    "print('accuracy_score:', accuracy_score(y_test, preds))\n",
    "fi = pd.Series(lr.coef_[0], index=x_train.columns).sort_values()\n",
    "print('Feature importance:', fi)"
   ]
  },
  {
   "cell_type": "code",
   "execution_count": 72,
   "metadata": {},
   "outputs": [
    {
     "data": {
      "text/plain": [
       "<matplotlib.axes._subplots.AxesSubplot at 0x11db99860>"
      ]
     },
     "execution_count": 72,
     "metadata": {},
     "output_type": "execute_result"
    },
    {
     "data": {
      "image/png": "[encoded data removed]",
      "text/plain": [
       "<Figure size 432x288 with 1 Axes>"
      ]
     },
     "metadata": {
      "needs_background": "light"
     },
     "output_type": "display_data"
    }
   ],
   "source": [
    "fi.plot.bar(cmap='RdBu')"
   ]
  },
  {
   "cell_type": "code",
   "execution_count": 75,
   "metadata": {},
   "outputs": [
    {
     "name": "stdout",
     "output_type": "stream",
     "text": [
      "RandomForestClassifier(bootstrap=True, class_weight=None, criterion='gini',\n",
      "            max_depth=None, max_features='auto', max_leaf_nodes=None,\n",
      "            min_impurity_decrease=0.0, min_impurity_split=None,\n",
      "            min_samples_leaf=1, min_samples_split=2,\n",
      "            min_weight_fraction_leaf=0.0, n_estimators=10, n_jobs=1,\n",
      "            oob_score=False, random_state=None, verbose=0,\n",
      "            warm_start=False)\n",
      "cross_val_score: [0.98412793 0.98315939 0.98351518 0.98402878 0.98479967]\n",
      "accuracy_score: 0.985246679316888\n",
      "Feature importance: country_Germany        0.001846\n",
      "source_Direct          0.002290\n",
      "country_UK             0.002558\n",
      "source_Ads             0.002669\n",
      "source_Seo             0.002813\n",
      "country_US             0.002996\n",
      "country_China          0.028109\n",
      "new_user               0.038028\n",
      "age                    0.108187\n",
      "total_pages_visited    0.810505\n",
      "dtype: float64\n"
     ]
    }
   ],
   "source": [
    "rf = RandomForestClassifier()\n",
    "print(rf)\n",
    "print('cross_val_score:', cross_val_score(rf, x_train, y_train, cv=5))\n",
    "preds = rf.fit(x_train, y_train).predict(x_test)\n",
    "print('accuracy_score:', accuracy_score(y_test, preds))\n",
    "fi = pd.Series(rf.feature_importances_, index=x_train.columns).sort_values()\n",
    "print('Feature importance:', fi)"
   ]
  },
  {
   "cell_type": "code",
   "execution_count": 76,
   "metadata": {},
   "outputs": [
    {
     "data": {
      "text/plain": [
       "<matplotlib.axes._subplots.AxesSubplot at 0x11db12f60>"
      ]
     },
     "execution_count": 76,
     "metadata": {},
     "output_type": "execute_result"
    },
    {
     "data": {
      "image/png": "[encoded data removed]",
      "text/plain": [
       "<Figure size 432x288 with 1 Axes>"
      ]
     },
     "metadata": {
      "needs_background": "light"
     },
     "output_type": "display_data"
    }
   ],
   "source": [
    "fi.plot.bar(cmap='RdBu')"
   ]
  },
  {
   "cell_type": "markdown",
   "metadata": {},
   "source": [
    "<span style='color:red'>The feature importances of logistic regression and random forest classifier are very different (inversed actually).</span> Honestly I don't know how to recommend in this case. But in real takehome challenges I guess I'll just use tree-based models, because of its robustness (no need to turn textual values to numerical, potential mistakes avoided) and ease of interpretation."
   ]
  },
  {
   "cell_type": "markdown",
   "metadata": {},
   "source": [
    "<span style='color:red'>A question: should I encode categorical variables into one-hot then? It seems that one-hot might diffuse feature importance...</span>"
   ]
  },
  {
   "cell_type": "markdown",
   "metadata": {},
   "source": [
    "#### Use the original df and rf\n",
    "<a id='org'></a>"
   ]
  },
  {
   "cell_type": "code",
   "execution_count": 79,
   "metadata": {},
   "outputs": [
    {
     "data": {
      "text/html": [
       "<div>\n",
       "<style scoped>\n",
       "    .dataframe tbody tr th:only-of-type {\n",
       "        vertical-align: middle;\n",
       "    }\n",
       "\n",
       "    .dataframe tbody tr th {\n",
       "        vertical-align: top;\n",
       "    }\n",
       "\n",
       "    .dataframe thead th {\n",
       "        text-align: right;\n",
       "    }\n",
       "</style>\n",
       "<table border=\"1\" class=\"dataframe\">\n",
       "  <thead>\n",
       "    <tr style=\"text-align: right;\">\n",
       "      <th></th>\n",
       "      <th>country</th>\n",
       "      <th>age</th>\n",
       "      <th>new_user</th>\n",
       "      <th>source</th>\n",
       "      <th>total_pages_visited</th>\n",
       "      <th>converted</th>\n",
       "    </tr>\n",
       "  </thead>\n",
       "  <tbody>\n",
       "    <tr>\n",
       "      <th>0</th>\n",
       "      <td>2</td>\n",
       "      <td>25</td>\n",
       "      <td>1</td>\n",
       "      <td>0</td>\n",
       "      <td>1</td>\n",
       "      <td>0</td>\n",
       "    </tr>\n",
       "    <tr>\n",
       "      <th>1</th>\n",
       "      <td>3</td>\n",
       "      <td>23</td>\n",
       "      <td>1</td>\n",
       "      <td>2</td>\n",
       "      <td>5</td>\n",
       "      <td>0</td>\n",
       "    </tr>\n",
       "    <tr>\n",
       "      <th>2</th>\n",
       "      <td>3</td>\n",
       "      <td>28</td>\n",
       "      <td>1</td>\n",
       "      <td>2</td>\n",
       "      <td>4</td>\n",
       "      <td>0</td>\n",
       "    </tr>\n",
       "    <tr>\n",
       "      <th>3</th>\n",
       "      <td>0</td>\n",
       "      <td>39</td>\n",
       "      <td>1</td>\n",
       "      <td>2</td>\n",
       "      <td>5</td>\n",
       "      <td>0</td>\n",
       "    </tr>\n",
       "    <tr>\n",
       "      <th>4</th>\n",
       "      <td>3</td>\n",
       "      <td>30</td>\n",
       "      <td>1</td>\n",
       "      <td>2</td>\n",
       "      <td>6</td>\n",
       "      <td>0</td>\n",
       "    </tr>\n",
       "  </tbody>\n",
       "</table>\n",
       "</div>"
      ],
      "text/plain": [
       "   country  age  new_user  source  total_pages_visited  converted\n",
       "0        2   25         1       0                    1          0\n",
       "1        3   23         1       2                    5          0\n",
       "2        3   28         1       2                    4          0\n",
       "3        0   39         1       2                    5          0\n",
       "4        3   30         1       2                    6          0"
      ]
     },
     "execution_count": 79,
     "metadata": {},
     "output_type": "execute_result"
    }
   ],
   "source": [
    "df = pd.read_csv(path)\n",
    "df.drop(df[df['age'] > 100].index, inplace=True)\n",
    "df['country'] = df['country'].astype('category').cat.codes\n",
    "df['source'] = df['source'].astype('category').cat.codes\n",
    "df.head()"
   ]
  },
  {
   "cell_type": "code",
   "execution_count": 80,
   "metadata": {},
   "outputs": [
    {
     "name": "stdout",
     "output_type": "stream",
     "text": [
      "cross_val_score: [0.98387131 0.98393422 0.98319593 0.98418689 0.9840393 ]\n",
      "accuracy_score: 0.9848197343453511\n",
      "Feature importances: source                 0.016618\n",
      "new_user               0.044774\n",
      "country                0.047310\n",
      "age                    0.106522\n",
      "total_pages_visited    0.784777\n",
      "dtype: float64\n"
     ]
    },
    {
     "data": {
      "text/plain": [
       "<matplotlib.axes._subplots.AxesSubplot at 0x11db20978>"
      ]
     },
     "execution_count": 80,
     "metadata": {},
     "output_type": "execute_result"
    },
    {
     "data": {
      "image/png": "[encoded data removed]",
      "text/plain": [
       "<Figure size 432x288 with 1 Axes>"
      ]
     },
     "metadata": {
      "needs_background": "light"
     },
     "output_type": "display_data"
    }
   ],
   "source": [
    "x_train, x_test, y_train, y_test = train_test_split(df.drop('converted', axis=1), df['converted'])\n",
    "\n",
    "rf = RandomForestClassifier()\n",
    "print('cross_val_score:', cross_val_score(rf, x_train, y_train, cv=5))\n",
    "preds = rf.fit(x_train, y_train).predict(x_test)\n",
    "print('accuracy_score:', accuracy_score(y_test, preds))\n",
    "fi = pd.Series(rf.feature_importances_, index=x_train.columns).sort_values()\n",
    "print('Feature importances:', fi)\n",
    "fi.plot.bar(cmap='RdBu')"
   ]
  },
  {
   "cell_type": "markdown",
   "metadata": {},
   "source": [
    "Umm, not that much difference with one-hot encoding... I guess if there are not too many variables <span style='color:green'>I will use one-hot-encoding then.</span>"
   ]
  },
  {
   "cell_type": "markdown",
   "metadata": {},
   "source": [
    "But it's still hard to do the recommendation because total_page_visited is not something that we can deliberately change from designing side. User likes the product first, then he will view many more pages. It's also possible that as he views more pages, he becomes more in favor of the product. Therefore, it still confirms former hypothesis that our highlight is buried too deep. "
   ]
  },
  {
   "cell_type": "markdown",
   "metadata": {},
   "source": [
    "(can also try do attract older users? as we don't actually know what product it is so not able to offer detailed actionable recommendations... maybe change the layout to be more conservative? but then there's chance to lose young users. idk, i'll refer to the answer.)"
   ]
  },
  {
   "cell_type": "markdown",
   "metadata": {},
   "source": [
    "#### Drop total_pages_visited, balance class weight according to number of samples in each class\n",
    "<a id='drop'></a>"
   ]
  },
  {
   "cell_type": "code",
   "execution_count": 81,
   "metadata": {},
   "outputs": [
    {
     "name": "stdout",
     "output_type": "stream",
     "text": [
      "cross_val_score: [0.7381615  0.74273666 0.74020662 0.75770609 0.73498777]\n",
      "accuracy_score: 0.7399367488931057\n",
      "Feature importances: source      0.015753\n",
      "age         0.232112\n",
      "new_user    0.372774\n",
      "country     0.379362\n",
      "dtype: float64\n"
     ]
    },
    {
     "data": {
      "text/plain": [
       "<matplotlib.axes._subplots.AxesSubplot at 0x127f74f98>"
      ]
     },
     "execution_count": 81,
     "metadata": {},
     "output_type": "execute_result"
    },
    {
     "data": {
      "image/png": "[encoded data removed]",
      "text/plain": [
       "<Figure size 432x288 with 1 Axes>"
      ]
     },
     "metadata": {
      "needs_background": "light"
     },
     "output_type": "display_data"
    }
   ],
   "source": [
    "x_train, x_test, y_train, y_test = train_test_split(df.drop(['converted', 'total_pages_visited'], axis=1), df['converted'])\n",
    "\n",
    "rf = RandomForestClassifier(class_weight='balanced')\n",
    "print('cross_val_score:', cross_val_score(rf, x_train, y_train, cv=5))\n",
    "preds = rf.fit(x_train, y_train).predict(x_test)\n",
    "print('accuracy_score:', accuracy_score(y_test, preds))\n",
    "fi = pd.Series(rf.feature_importances_, index=x_train.columns).sort_values()\n",
    "print('Feature importances:', fi)\n",
    "fi.plot.bar(cmap='RdBu')"
   ]
  },
  {
   "cell_type": "markdown",
   "metadata": {},
   "source": [
    "### Recommendations\n",
    "<a id='recommendations'></a>"
   ]
  },
  {
   "cell_type": "markdown",
   "metadata": {},
   "source": [
    "After weighing, the most important features turn out to be country and new_user. These two are nearly equally important. Age matters too while source is basically irrelevant.\n",
    "<br> \n",
    "- Focus more on European market. While the conversion rate there is much higher, total number of users is much lower than that of the US. The marketing team can come up with some geographic related promotion events, such as discount limited in Germany/UK to attract more European users.\n",
    "- The performance in Chinese market is very bad. It could be that the product information is not translated into Chinese at all or auto-translation does a bad job. For this issue, the product team can check out the product to see how to improve communication with Chinese users. Or the product doesn't fit Chinese culture. Or it is blocked due to censorship.\n",
    "- The product performs well for old users/accounts. Maybe it needs some time to dig up the highlight features, or it might require some practice to get a hold of the product (eg. Photoshop). The marketing team could offer some benefits to new users to attract them, such as discount in first month subscription, user guide or tutorials, etc.\n",
    "- The product is particularly popular with young audience. Almost nobody over 30 converted. If we still want to target at a middle age market, we have to improve the product to be more friendly in layout, content etc., eg. maybe less aggressive in color use, less slangs and more formal expressions, etc."
   ]
  },
  {
   "cell_type": "markdown",
   "metadata": {},
   "source": [
    "Feedback from others' failed takehome challenges:\n",
    "- Discussion of why or whether it \"makes sense\" that those are the influential factors\n",
    "- Valid use of statistics for rigorous definition of \"influential\""
   ]
  },
  {
   "cell_type": "code",
   "execution_count": 156,
   "metadata": {},
   "outputs": [
    {
     "data": {
      "text/plain": [
       "Power_divergenceResult(statistic=62145438.3122732, pvalue=0.0)"
      ]
     },
     "execution_count": 156,
     "metadata": {},
     "output_type": "execute_result"
    }
   ],
   "source": [
    "import scipy.stats as stats\n",
    "\n",
    "stats.chisquare(f_obs = df.loc[df['converted'] == 0, 'country'].value_counts().sort_index(), \n",
    "               f_exp = df.loc[df['converted'] == 1, 'country'].value_counts().sort_index())"
   ]
  },
  {
   "cell_type": "markdown",
   "metadata": {},
   "source": [
    "### Takeaways\n",
    "<a id='takeaways'></a>"
   ]
  },
  {
   "cell_type": "markdown",
   "metadata": {},
   "source": [
    "- sns.set_palette()\n",
    "- This one is still a classification problem -> target: categorical variable, so:\n",
    " - univariate: categorical variable then countplot, map to target by barplot; numerical then histplot, map to target by violin/boxplot\n",
    " - bivariate: 2 cats, hard to visualize <span style='color:green'>(could use bar with hue if target is 0-1)</span>; 1 cat 1 num, violin hue split by target; 2 num, scatter or kde depending on data volum\n",
    "- GridSearchCV: the clf trained is GridSearchCV, not the parame estimator, so cannot plot feature_importances_\n",
    "- Rationalize the most important deatures\n",
    "- Drop some misleading columns then fit the model again to check updated important features\n",
    "- Combine feature importance and previous distribution plots, \"comfirm the distributions\" <span style='color:red'>Python has partial dependence plot too, check out tomorrow</span>\n",
    "- Statistical analysis to verify if there's a real difference, when the difference in the plot is not obvious?\n",
    "- As many insights as possible!! Cover good AND bad segments. Actionable next steps.\n",
    "- <span style='color:red'>Need to talk about if the model \"makes sense\" by analysing the accuracy (this is a imbalance class example)</span>"
   ]
  },
  {
   "cell_type": "markdown",
   "metadata": {},
   "source": [
    "Now deal with the problems I marked as <span style='color:red'>red</span> along the way.\n",
    "<br><br>**? More examples on GridSearchCV ?**\n",
    "<br>Lessons learned from [this kernel](https://www.kaggle.com/jeffd23/scikit-learn-ml-from-start-to-finish) (the comments are pretty to the point!):\n",
    "- Train test imputed in the same way (write a cleaning function!)\n",
    "- Also there is a better way to use dummies: col_dummies = pd.get_dummies(df.col), df[val1] = col_dummies.val1, etc. (from [this kernel](https://www.kaggle.com/hatone/gradientboostingclassifier-with-gridsearchcv))\n",
    "- GridSearchCV: \n",
    " - make_scorer(accuracy_score)\n",
    " - clf = grid_obj.best_estimator_ (otherwise the final param combination! no use to just print out best_params_)\n",
    "- If want to choose one from different models, first cross_val, choose the one with highest score, then train that model with all training samples"
   ]
  },
  {
   "cell_type": "markdown",
   "metadata": {},
   "source": [
    "**? String values for random forest ?**\n",
    "<br>For Python/sklearn, yes, we need to encode them into numerical values. (But for R or WEKA apparently they can handle the situation with raw input, that's lucky.)"
   ]
  },
  {
   "cell_type": "markdown",
   "metadata": {},
   "source": [
    "**? Imputing missing values for test set ?**\n",
    "<br>From various posts it seems ok to impute with mean of training set. Data leakage only happens if you also use test set to calculate the mean.\n",
    "<br>Not about the discrepency between train and test set, but another method of imputation: add an [indicator column](https://www.kaggle.com/dansbecker/handling-missing-values) to \"guess\" less randomly."
   ]
  },
  {
   "cell_type": "markdown",
   "metadata": {},
   "source": [
    "**? Interpretation of coef_ of logistic regression ?**\n",
    "<br>Actually it's not feature importance. It's the weights for each x (feature) in the model, and the values would be bias if the features are not properly scaled. In this case, total_pages_visited has a fat higher value than one-hot encoded variables, so its coef is the largest. \n",
    "<br>Recommed not to use logistic regression. But if required, there is a method to [standardize the coefs (or standard the data itself)](https://stackoverflow.com/a/34052747/9265279)."
   ]
  },
  {
   "cell_type": "markdown",
   "metadata": {},
   "source": [
    "**? Partial dependence plot in python ?**\n",
    "<br>There is [sklearn documentation](https://scikit-learn.org/stable/auto_examples/ensemble/plot_partial_dependence.html) and a lib called [PDPBox](https://towardsdatascience.com/introducing-pdpbox-2aa820afd312). Might need some time to digest, I'll go with basic plotting for now."
   ]
  },
  {
   "cell_type": "code",
   "execution_count": null,
   "metadata": {},
   "outputs": [],
   "source": []
  }
 ],
 "metadata": {
  "kernelspec": {
   "display_name": "Python 3",
   "language": "python",
   "name": "python3"
  },
  "language_info": {
   "codemirror_mode": {
    "name": "ipython",
    "version": 3
   },
   "file_extension": ".py",
   "mimetype": "text/x-python",
   "name": "python",
   "nbconvert_exporter": "python",
   "pygments_lexer": "ipython3",
   "version": "3.6.5"
  }
 },
 "nbformat": 4,
 "nbformat_minor": 2
}
