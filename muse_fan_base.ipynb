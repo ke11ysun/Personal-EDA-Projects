{
 "cells": [
  {
   "cell_type": "code",
   "execution_count": 1,
   "metadata": {},
   "outputs": [],
   "source": [
    "import numpy as np\n",
    "import pandas as pd\n",
    "import matplotlib.pyplot as plt\n",
    "import seaborn as sns\n",
    "%matplotlib inline"
   ]
  },
  {
   "cell_type": "markdown",
   "metadata": {},
   "source": [
    "## (Just a simple) Muse Fan Base Analysis "
   ]
  },
  {
   "cell_type": "markdown",
   "metadata": {},
   "source": [
    "This is a fan base analysis for the British rock band Muse! I'm a fan since 2012 and have been streaming them 7/24 in this winter vacation. I've always been curious about what people like of Muse, and when I saw the poll I though I'd do something fun with the data. The original data is from [this poll](https://www.reddit.com/r/Muse/comments/aepifo/results_for_muse_poll_here/) from **r/Muse**. Shout out for **u/trickfinger96** for letting me use the data!"
   ]
  },
  {
   "cell_type": "code",
   "execution_count": 19,
   "metadata": {},
   "outputs": [
    {
     "data": {
      "text/html": [
       "<div>\n",
       "<style scoped>\n",
       "    .dataframe tbody tr th:only-of-type {\n",
       "        vertical-align: middle;\n",
       "    }\n",
       "\n",
       "    .dataframe tbody tr th {\n",
       "        vertical-align: top;\n",
       "    }\n",
       "\n",
       "    .dataframe thead th {\n",
       "        text-align: right;\n",
       "    }\n",
       "</style>\n",
       "<table border=\"1\" class=\"dataframe\">\n",
       "  <thead>\n",
       "    <tr style=\"text-align: right;\">\n",
       "      <th></th>\n",
       "      <th>Timestamp</th>\n",
       "      <th>What is your favourite Muse album?</th>\n",
       "      <th>What is your 2nd favourite Muse album? (Please don't pick the same one guys!)</th>\n",
       "      <th>What is your least favourite Muse album?</th>\n",
       "      <th>What album contained the very first Muse song you heard? (E.g. if the first song you heard was Starlight, pick BHaR)</th>\n",
       "      <th>What was the first Muse album you listened to in it's entirety?</th>\n",
       "      <th>During what year did you become a Muse fan?</th>\n",
       "      <th>Please select your favourite music genres (min 1)</th>\n",
       "    </tr>\n",
       "  </thead>\n",
       "  <tbody>\n",
       "    <tr>\n",
       "      <th>0</th>\n",
       "      <td>2019/01/09 1:38:56 pm GMT</td>\n",
       "      <td>The Resistance</td>\n",
       "      <td>Origin Of Symmetry</td>\n",
       "      <td>Showbiz</td>\n",
       "      <td>The Resistance</td>\n",
       "      <td>Black Holes &amp; Revelations</td>\n",
       "      <td>2010</td>\n",
       "      <td>Alternative;Electronic;Rock</td>\n",
       "    </tr>\n",
       "    <tr>\n",
       "      <th>1</th>\n",
       "      <td>2019/01/09 1:47:22 pm GMT</td>\n",
       "      <td>Absolution</td>\n",
       "      <td>Simulation Theory</td>\n",
       "      <td>The Resistance</td>\n",
       "      <td>The Resistance</td>\n",
       "      <td>The Resistance</td>\n",
       "      <td>2009</td>\n",
       "      <td>Alternative;Blues;Rock</td>\n",
       "    </tr>\n",
       "    <tr>\n",
       "      <th>2</th>\n",
       "      <td>2019/01/09 1:48:56 pm GMT</td>\n",
       "      <td>The 2nd Law</td>\n",
       "      <td>Drones</td>\n",
       "      <td>Origin Of Symmetry</td>\n",
       "      <td>The 2nd Law</td>\n",
       "      <td>The 2nd Law</td>\n",
       "      <td>2017</td>\n",
       "      <td>Alternative;Classical;Indie;Pop;Rock</td>\n",
       "    </tr>\n",
       "    <tr>\n",
       "      <th>3</th>\n",
       "      <td>2019/01/09 1:49:18 pm GMT</td>\n",
       "      <td>Black Holes &amp; Revelations</td>\n",
       "      <td>Absolution</td>\n",
       "      <td>Simulation Theory</td>\n",
       "      <td>Black Holes &amp; Revelations</td>\n",
       "      <td>Black Holes &amp; Revelations</td>\n",
       "      <td>2006</td>\n",
       "      <td>Alternative;Classical;Rock</td>\n",
       "    </tr>\n",
       "    <tr>\n",
       "      <th>4</th>\n",
       "      <td>2019/01/09 1:49:59 pm GMT</td>\n",
       "      <td>Origin Of Symmetry</td>\n",
       "      <td>The Resistance</td>\n",
       "      <td>Drones</td>\n",
       "      <td>The Resistance</td>\n",
       "      <td>Origin Of Symmetry</td>\n",
       "      <td>2016</td>\n",
       "      <td>Alternative;Indie;Rock</td>\n",
       "    </tr>\n",
       "  </tbody>\n",
       "</table>\n",
       "</div>"
      ],
      "text/plain": [
       "                   Timestamp What is your favourite Muse album?  \\\n",
       "0  2019/01/09 1:38:56 pm GMT                     The Resistance   \n",
       "1  2019/01/09 1:47:22 pm GMT                         Absolution   \n",
       "2  2019/01/09 1:48:56 pm GMT                        The 2nd Law   \n",
       "3  2019/01/09 1:49:18 pm GMT          Black Holes & Revelations   \n",
       "4  2019/01/09 1:49:59 pm GMT                 Origin Of Symmetry   \n",
       "\n",
       "  What is your 2nd favourite Muse album? (Please don't pick the same one guys!)  \\\n",
       "0                                 Origin Of Symmetry                              \n",
       "1                                  Simulation Theory                              \n",
       "2                                             Drones                              \n",
       "3                                         Absolution                              \n",
       "4                                     The Resistance                              \n",
       "\n",
       "  What is your least favourite Muse album?   \\\n",
       "0                                   Showbiz   \n",
       "1                            The Resistance   \n",
       "2                        Origin Of Symmetry   \n",
       "3                         Simulation Theory   \n",
       "4                                    Drones   \n",
       "\n",
       "  What album contained the very first Muse song you heard? (E.g. if the first song you heard was Starlight, pick BHaR)   \\\n",
       "0                                     The Resistance                                                                      \n",
       "1                                     The Resistance                                                                      \n",
       "2                                        The 2nd Law                                                                      \n",
       "3                          Black Holes & Revelations                                                                      \n",
       "4                                     The Resistance                                                                      \n",
       "\n",
       "  What was the first Muse album you listened to in it's entirety?   \\\n",
       "0                          Black Holes & Revelations                 \n",
       "1                                     The Resistance                 \n",
       "2                                        The 2nd Law                 \n",
       "3                          Black Holes & Revelations                 \n",
       "4                                 Origin Of Symmetry                 \n",
       "\n",
       "  During what year did you become a Muse fan?  \\\n",
       "0                                        2010   \n",
       "1                                        2009   \n",
       "2                                        2017   \n",
       "3                                        2006   \n",
       "4                                        2016   \n",
       "\n",
       "  Please select your favourite music genres (min 1)  \n",
       "0                       Alternative;Electronic;Rock  \n",
       "1                            Alternative;Blues;Rock  \n",
       "2              Alternative;Classical;Indie;Pop;Rock  \n",
       "3                        Alternative;Classical;Rock  \n",
       "4                            Alternative;Indie;Rock  "
      ]
     },
     "execution_count": 19,
     "metadata": {},
     "output_type": "execute_result"
    }
   ],
   "source": [
    "df = pd.read_csv('Muse.csv')\n",
    "df.head()"
   ]
  },
  {
   "cell_type": "code",
   "execution_count": 20,
   "metadata": {},
   "outputs": [
    {
     "name": "stdout",
     "output_type": "stream",
     "text": [
      "<class 'pandas.core.frame.DataFrame'>\n",
      "RangeIndex: 1626 entries, 0 to 1625\n",
      "Data columns (total 8 columns):\n",
      "Timestamp                                                                                                                1626 non-null object\n",
      "What is your favourite Muse album?                                                                                       1626 non-null object\n",
      "What is your 2nd favourite Muse album? (Please don't pick the same one guys!)                                            1626 non-null object\n",
      "What is your least favourite Muse album?                                                                                 1626 non-null object\n",
      "What album contained the very first Muse song you heard? (E.g. if the first song you heard was Starlight, pick BHaR)     1626 non-null object\n",
      "What was the first Muse album you listened to in it's entirety?                                                          1626 non-null object\n",
      "During what year did you become a Muse fan?                                                                              1626 non-null object\n",
      "Please select your favourite music genres (min 1)                                                                        1626 non-null object\n",
      "dtypes: object(8)\n",
      "memory usage: 101.7+ KB\n"
     ]
    }
   ],
   "source": [
    "df.info()"
   ]
  },
  {
   "cell_type": "markdown",
   "metadata": {},
   "source": [
    "So these are the questions asked in the Google forms. We totally have 1627 fans from the subreddit responded."
   ]
  },
  {
   "cell_type": "markdown",
   "metadata": {},
   "source": [
    "### Some cleaning"
   ]
  },
  {
   "cell_type": "code",
   "execution_count": 21,
   "metadata": {},
   "outputs": [
    {
     "data": {
      "text/html": [
       "<div>\n",
       "<style scoped>\n",
       "    .dataframe tbody tr th:only-of-type {\n",
       "        vertical-align: middle;\n",
       "    }\n",
       "\n",
       "    .dataframe tbody tr th {\n",
       "        vertical-align: top;\n",
       "    }\n",
       "\n",
       "    .dataframe thead th {\n",
       "        text-align: right;\n",
       "    }\n",
       "</style>\n",
       "<table border=\"1\" class=\"dataframe\">\n",
       "  <thead>\n",
       "    <tr style=\"text-align: right;\">\n",
       "      <th></th>\n",
       "      <th>fav</th>\n",
       "      <th>fav2</th>\n",
       "      <th>least</th>\n",
       "      <th>first_song</th>\n",
       "      <th>first_album</th>\n",
       "      <th>year</th>\n",
       "      <th>genre</th>\n",
       "    </tr>\n",
       "  </thead>\n",
       "  <tbody>\n",
       "    <tr>\n",
       "      <th>0</th>\n",
       "      <td>The Resistance</td>\n",
       "      <td>Origin Of Symmetry</td>\n",
       "      <td>Showbiz</td>\n",
       "      <td>The Resistance</td>\n",
       "      <td>Black Holes &amp; Revelations</td>\n",
       "      <td>2010</td>\n",
       "      <td>Alternative;Electronic;Rock</td>\n",
       "    </tr>\n",
       "    <tr>\n",
       "      <th>1</th>\n",
       "      <td>Absolution</td>\n",
       "      <td>Simulation Theory</td>\n",
       "      <td>The Resistance</td>\n",
       "      <td>The Resistance</td>\n",
       "      <td>The Resistance</td>\n",
       "      <td>2009</td>\n",
       "      <td>Alternative;Blues;Rock</td>\n",
       "    </tr>\n",
       "    <tr>\n",
       "      <th>2</th>\n",
       "      <td>The 2nd Law</td>\n",
       "      <td>Drones</td>\n",
       "      <td>Origin Of Symmetry</td>\n",
       "      <td>The 2nd Law</td>\n",
       "      <td>The 2nd Law</td>\n",
       "      <td>2017</td>\n",
       "      <td>Alternative;Classical;Indie;Pop;Rock</td>\n",
       "    </tr>\n",
       "    <tr>\n",
       "      <th>3</th>\n",
       "      <td>Black Holes &amp; Revelations</td>\n",
       "      <td>Absolution</td>\n",
       "      <td>Simulation Theory</td>\n",
       "      <td>Black Holes &amp; Revelations</td>\n",
       "      <td>Black Holes &amp; Revelations</td>\n",
       "      <td>2006</td>\n",
       "      <td>Alternative;Classical;Rock</td>\n",
       "    </tr>\n",
       "    <tr>\n",
       "      <th>4</th>\n",
       "      <td>Origin Of Symmetry</td>\n",
       "      <td>The Resistance</td>\n",
       "      <td>Drones</td>\n",
       "      <td>The Resistance</td>\n",
       "      <td>Origin Of Symmetry</td>\n",
       "      <td>2016</td>\n",
       "      <td>Alternative;Indie;Rock</td>\n",
       "    </tr>\n",
       "  </tbody>\n",
       "</table>\n",
       "</div>"
      ],
      "text/plain": [
       "                         fav                fav2               least  \\\n",
       "0             The Resistance  Origin Of Symmetry             Showbiz   \n",
       "1                 Absolution   Simulation Theory      The Resistance   \n",
       "2                The 2nd Law              Drones  Origin Of Symmetry   \n",
       "3  Black Holes & Revelations          Absolution   Simulation Theory   \n",
       "4         Origin Of Symmetry      The Resistance              Drones   \n",
       "\n",
       "                  first_song                first_album  year  \\\n",
       "0             The Resistance  Black Holes & Revelations  2010   \n",
       "1             The Resistance             The Resistance  2009   \n",
       "2                The 2nd Law                The 2nd Law  2017   \n",
       "3  Black Holes & Revelations  Black Holes & Revelations  2006   \n",
       "4             The Resistance         Origin Of Symmetry  2016   \n",
       "\n",
       "                                  genre  \n",
       "0           Alternative;Electronic;Rock  \n",
       "1                Alternative;Blues;Rock  \n",
       "2  Alternative;Classical;Indie;Pop;Rock  \n",
       "3            Alternative;Classical;Rock  \n",
       "4                Alternative;Indie;Rock  "
      ]
     },
     "execution_count": 21,
     "metadata": {},
     "output_type": "execute_result"
    }
   ],
   "source": [
    "df.drop('Timestamp', axis=1, inplace=True)\n",
    "df.columns = ['fav', 'fav2', 'least', 'first_song', 'first_album', 'year', 'genre']\n",
    "df.head()"
   ]
  },
  {
   "cell_type": "markdown",
   "metadata": {},
   "source": [
    "Dropped the Timestamp. Changed column names to be easier for reference later."
   ]
  },
  {
   "cell_type": "code",
   "execution_count": 22,
   "metadata": {
    "scrolled": true
   },
   "outputs": [
    {
     "data": {
      "text/plain": [
       "Origin Of Symmetry           529\n",
       "Absolution                   410\n",
       "Black Holes & Revelations    351\n",
       "The Resistance               119\n",
       "The 2nd Law                   61\n",
       "Showbiz                       55\n",
       "Drones                        51\n",
       "Simulation Theory             50\n",
       "Name: fav, dtype: int64"
      ]
     },
     "execution_count": 22,
     "metadata": {},
     "output_type": "execute_result"
    }
   ],
   "source": [
    "df['fav'].value_counts()"
   ]
  },
  {
   "cell_type": "code",
   "execution_count": 23,
   "metadata": {},
   "outputs": [
    {
     "data": {
      "text/html": [
       "<div>\n",
       "<style scoped>\n",
       "    .dataframe tbody tr th:only-of-type {\n",
       "        vertical-align: middle;\n",
       "    }\n",
       "\n",
       "    .dataframe tbody tr th {\n",
       "        vertical-align: top;\n",
       "    }\n",
       "\n",
       "    .dataframe thead th {\n",
       "        text-align: right;\n",
       "    }\n",
       "</style>\n",
       "<table border=\"1\" class=\"dataframe\">\n",
       "  <thead>\n",
       "    <tr style=\"text-align: right;\">\n",
       "      <th></th>\n",
       "      <th>fav</th>\n",
       "      <th>fav2</th>\n",
       "      <th>least</th>\n",
       "      <th>first_song</th>\n",
       "      <th>first_album</th>\n",
       "      <th>year</th>\n",
       "      <th>genre</th>\n",
       "    </tr>\n",
       "  </thead>\n",
       "  <tbody>\n",
       "    <tr>\n",
       "      <th>0</th>\n",
       "      <td>5</td>\n",
       "      <td>2</td>\n",
       "      <td>1</td>\n",
       "      <td>5.0</td>\n",
       "      <td>4</td>\n",
       "      <td>2010</td>\n",
       "      <td>Alternative;Electronic;Rock</td>\n",
       "    </tr>\n",
       "    <tr>\n",
       "      <th>1</th>\n",
       "      <td>3</td>\n",
       "      <td>8</td>\n",
       "      <td>5</td>\n",
       "      <td>5.0</td>\n",
       "      <td>5</td>\n",
       "      <td>2009</td>\n",
       "      <td>Alternative;Blues;Rock</td>\n",
       "    </tr>\n",
       "    <tr>\n",
       "      <th>2</th>\n",
       "      <td>6</td>\n",
       "      <td>7</td>\n",
       "      <td>2</td>\n",
       "      <td>6.0</td>\n",
       "      <td>6</td>\n",
       "      <td>2017</td>\n",
       "      <td>Alternative;Classical;Indie;Pop;Rock</td>\n",
       "    </tr>\n",
       "    <tr>\n",
       "      <th>3</th>\n",
       "      <td>4</td>\n",
       "      <td>3</td>\n",
       "      <td>8</td>\n",
       "      <td>4.0</td>\n",
       "      <td>4</td>\n",
       "      <td>2006</td>\n",
       "      <td>Alternative;Classical;Rock</td>\n",
       "    </tr>\n",
       "    <tr>\n",
       "      <th>4</th>\n",
       "      <td>2</td>\n",
       "      <td>5</td>\n",
       "      <td>7</td>\n",
       "      <td>5.0</td>\n",
       "      <td>2</td>\n",
       "      <td>2016</td>\n",
       "      <td>Alternative;Indie;Rock</td>\n",
       "    </tr>\n",
       "  </tbody>\n",
       "</table>\n",
       "</div>"
      ],
      "text/plain": [
       "   fav  fav2  least  first_song  first_album  year  \\\n",
       "0    5     2      1         5.0            4  2010   \n",
       "1    3     8      5         5.0            5  2009   \n",
       "2    6     7      2         6.0            6  2017   \n",
       "3    4     3      8         4.0            4  2006   \n",
       "4    2     5      7         5.0            2  2016   \n",
       "\n",
       "                                  genre  \n",
       "0           Alternative;Electronic;Rock  \n",
       "1                Alternative;Blues;Rock  \n",
       "2  Alternative;Classical;Indie;Pop;Rock  \n",
       "3            Alternative;Classical;Rock  \n",
       "4                Alternative;Indie;Rock  "
      ]
     },
     "execution_count": 23,
     "metadata": {},
     "output_type": "execute_result"
    }
   ],
   "source": [
    "albums = {'Showbiz':1, \n",
    "          'Origin Of Symmetry':2, \n",
    "          'Absolution':3, \n",
    "          'Black Holes & Revelations':4, \n",
    "          'The Resistance':5, \n",
    "          'The 2nd Law':6, \n",
    "          'Drones':7, \n",
    "          'Simulation Theory':8}\n",
    "\n",
    "for col in ['fav', 'fav2', 'least', 'first_song', 'first_album']:\n",
    "    df[col] = df[col].map(albums)\n",
    "    \n",
    "df.head()"
   ]
  },
  {
   "cell_type": "code",
   "execution_count": 25,
   "metadata": {},
   "outputs": [],
   "source": [
    "df.loc[df['year'] == 'Pre-1999', 'year'] = 1998\n",
    "df['year'] = df['year'].astype('int64')"
   ]
  },
  {
   "cell_type": "code",
   "execution_count": 32,
   "metadata": {},
   "outputs": [
    {
     "data": {
      "text/html": [
       "<div>\n",
       "<style scoped>\n",
       "    .dataframe tbody tr th:only-of-type {\n",
       "        vertical-align: middle;\n",
       "    }\n",
       "\n",
       "    .dataframe tbody tr th {\n",
       "        vertical-align: top;\n",
       "    }\n",
       "\n",
       "    .dataframe thead th {\n",
       "        text-align: right;\n",
       "    }\n",
       "</style>\n",
       "<table border=\"1\" class=\"dataframe\">\n",
       "  <thead>\n",
       "    <tr style=\"text-align: right;\">\n",
       "      <th></th>\n",
       "      <th>fav</th>\n",
       "      <th>fav2</th>\n",
       "      <th>least</th>\n",
       "      <th>first_song</th>\n",
       "      <th>first_album</th>\n",
       "      <th>year</th>\n",
       "      <th>genre</th>\n",
       "    </tr>\n",
       "  </thead>\n",
       "  <tbody>\n",
       "    <tr>\n",
       "      <th>0</th>\n",
       "      <td>5</td>\n",
       "      <td>2</td>\n",
       "      <td>1</td>\n",
       "      <td>5</td>\n",
       "      <td>4</td>\n",
       "      <td>2010</td>\n",
       "      <td>Alternative;Electronic;Rock</td>\n",
       "    </tr>\n",
       "    <tr>\n",
       "      <th>1</th>\n",
       "      <td>3</td>\n",
       "      <td>8</td>\n",
       "      <td>5</td>\n",
       "      <td>5</td>\n",
       "      <td>5</td>\n",
       "      <td>2009</td>\n",
       "      <td>Alternative;Blues;Rock</td>\n",
       "    </tr>\n",
       "    <tr>\n",
       "      <th>2</th>\n",
       "      <td>6</td>\n",
       "      <td>7</td>\n",
       "      <td>2</td>\n",
       "      <td>6</td>\n",
       "      <td>6</td>\n",
       "      <td>2017</td>\n",
       "      <td>Alternative;Classical;Indie;Pop;Rock</td>\n",
       "    </tr>\n",
       "    <tr>\n",
       "      <th>3</th>\n",
       "      <td>4</td>\n",
       "      <td>3</td>\n",
       "      <td>8</td>\n",
       "      <td>4</td>\n",
       "      <td>4</td>\n",
       "      <td>2006</td>\n",
       "      <td>Alternative;Classical;Rock</td>\n",
       "    </tr>\n",
       "    <tr>\n",
       "      <th>4</th>\n",
       "      <td>2</td>\n",
       "      <td>5</td>\n",
       "      <td>7</td>\n",
       "      <td>5</td>\n",
       "      <td>2</td>\n",
       "      <td>2016</td>\n",
       "      <td>Alternative;Indie;Rock</td>\n",
       "    </tr>\n",
       "  </tbody>\n",
       "</table>\n",
       "</div>"
      ],
      "text/plain": [
       "   fav  fav2  least  first_song  first_album  year  \\\n",
       "0    5     2      1           5            4  2010   \n",
       "1    3     8      5           5            5  2009   \n",
       "2    6     7      2           6            6  2017   \n",
       "3    4     3      8           4            4  2006   \n",
       "4    2     5      7           5            2  2016   \n",
       "\n",
       "                                  genre  \n",
       "0           Alternative;Electronic;Rock  \n",
       "1                Alternative;Blues;Rock  \n",
       "2  Alternative;Classical;Indie;Pop;Rock  \n",
       "3            Alternative;Classical;Rock  \n",
       "4                Alternative;Indie;Rock  "
      ]
     },
     "execution_count": 32,
     "metadata": {},
     "output_type": "execute_result"
    }
   ],
   "source": [
    "df['first_song'].fillna(value=df['first_song'].value_counts().reset_index()['index'][0], inplace=True)\n",
    "df['first_song'] = df['first_song'].astype('int64')\n",
    "df.head()"
   ]
  },
  {
   "cell_type": "markdown",
   "metadata": {},
   "source": [
    "Mapped the record names to the sequence of release. Changed some data types to int64."
   ]
  },
  {
   "cell_type": "code",
   "execution_count": 35,
   "metadata": {},
   "outputs": [
    {
     "data": {
      "text/plain": [
       "3    861\n",
       "2    574\n",
       "1    191\n",
       "Name: fan_era, dtype: int64"
      ]
     },
     "execution_count": 35,
     "metadata": {},
     "output_type": "execute_result"
    }
   ],
   "source": [
    "# era1: showbiz, oos\n",
    "# era2: bh&r, resistance\n",
    "# era3: t2l, drones, st\n",
    "\n",
    "df['fan_era'] = 1\n",
    "df.loc[df['year'].between(2006, 2011), 'fan_era'] = 2\n",
    "df.loc[df['year'].between(2012, 2020), 'fan_era'] = 3\n",
    "df['fan_era'].value_counts()"
   ]
  },
  {
   "cell_type": "markdown",
   "metadata": {},
   "source": [
    "According to converntion, the career of Muse can be separated into 3 eras: pre-2006 (Showbiz, Origin of Symmetry, Absolution), I'd call it gothic and quirky era; 2006-2011 (Blackhole and Revelations, The Resistance), the conspiracy era; and 2012-now (The 2nd Law, Drones, Simulation Theory), ...catchy era (well). "
   ]
  },
  {
   "cell_type": "code",
   "execution_count": 42,
   "metadata": {
    "scrolled": true
   },
   "outputs": [
    {
     "data": {
      "text/plain": [
       "{'Acoustic/singer songwriter ',\n",
       " \"All of the above and more (especially fond nowadays of contemporary classical like Jóhann Jóhannsson's Orphée.\",\n",
       " 'Alt-rock, punk rock etc. ',\n",
       " 'Alternative',\n",
       " 'Ambient',\n",
       " 'Ambient/Noise',\n",
       " 'Bluegrass',\n",
       " 'Blues',\n",
       " 'Broadway',\n",
       " 'Christian Worship',\n",
       " 'Classical',\n",
       " 'Classical rock',\n",
       " 'Country',\n",
       " 'Cyberpunk (basically a version of electronic) ',\n",
       " 'Dance',\n",
       " 'Dark wave',\n",
       " 'Drum n Bass',\n",
       " 'Electronic',\n",
       " 'Experimental',\n",
       " 'Folk',\n",
       " 'Funk',\n",
       " 'Funk Rock',\n",
       " 'Funk, Experimental',\n",
       " 'Gothic',\n",
       " 'Gregorian chanting ',\n",
       " 'Grunge, Psychedelic Rock, Shoegaze',\n",
       " 'Hard rock',\n",
       " 'Hip Hop',\n",
       " 'Hip Hop / Rap',\n",
       " 'Hip-Hop',\n",
       " 'Hip-hop',\n",
       " 'Indie',\n",
       " 'Industrial',\n",
       " 'Industrial Metal',\n",
       " 'J-Pop',\n",
       " 'J-rock',\n",
       " 'Jazz',\n",
       " 'K-pop',\n",
       " 'Kpop',\n",
       " 'Kpop lol',\n",
       " 'Literally all',\n",
       " 'Metal',\n",
       " 'Metalcore',\n",
       " 'Minimalism',\n",
       " 'Musical theater ',\n",
       " 'New wave',\n",
       " 'No preference',\n",
       " 'Original soundtracks',\n",
       " 'Pop',\n",
       " 'Pop punk',\n",
       " 'Post hardcore, electronicore',\n",
       " 'Post-punk',\n",
       " 'Post-rock',\n",
       " 'Prog',\n",
       " 'Prog Rock',\n",
       " 'Prog Rock/Metal',\n",
       " 'Prog rock',\n",
       " 'Progressive',\n",
       " 'Progressive Rock',\n",
       " 'Progressive Rock/Metal',\n",
       " 'Progressive rock',\n",
       " 'Punk',\n",
       " 'Punk-rock and Grunge babyy',\n",
       " 'Punk/emo',\n",
       " 'Rap',\n",
       " 'Reggae',\n",
       " 'Reggaeton ',\n",
       " 'Rock',\n",
       " 'Salsa',\n",
       " 'Shoegaze',\n",
       " 'Some kinds of folk :)',\n",
       " 'Soul',\n",
       " 'Soundtrack.',\n",
       " \"Spotify claims it's punk\",\n",
       " 'Symphonic',\n",
       " 'Synth & Funk',\n",
       " 'Synthpop',\n",
       " 'Synthwave',\n",
       " 'Vaporwave',\n",
       " 'ambient',\n",
       " 'anarcho-folk-punk',\n",
       " \"don't have one\",\n",
       " 'folk',\n",
       " 'hip-hop',\n",
       " 'progressive',\n",
       " 'punk'}"
      ]
     },
     "execution_count": 42,
     "metadata": {},
     "output_type": "execute_result"
    }
   ],
   "source": [
    "genres = set()\n",
    "for _, row in df.iterrows():\n",
    "    genre = row['genre'].split(';')\n",
    "    for g in genre:\n",
    "        if g not in genres:\n",
    "            genres.add(g)\n",
    "genres"
   ]
  },
  {
   "cell_type": "code",
   "execution_count": 54,
   "metadata": {
    "scrolled": true
   },
   "outputs": [
    {
     "name": "stdout",
     "output_type": "stream",
     "text": [
      "\n",
      "acoustic\n",
      "0    1625\n",
      "1       1\n",
      "Name: acoustic, dtype: int64\n",
      "\n",
      "alternative\n",
      "1    1268\n",
      "0     358\n",
      "Name: alternative, dtype: int64\n",
      "\n",
      "blues\n",
      "0    1487\n",
      "1     139\n",
      "Name: blues, dtype: int64\n",
      "\n",
      "classical\n",
      "0    1288\n",
      "1     338\n",
      "Name: classical, dtype: int64\n",
      "\n",
      "country\n",
      "0    1602\n",
      "1      24\n",
      "Name: country, dtype: int64\n",
      "\n",
      "electronic\n",
      "0    1165\n",
      "1     461\n",
      "Name: electronic, dtype: int64\n",
      "\n",
      "hip hop\n",
      "0    1381\n",
      "1     245\n",
      "Name: hip hop, dtype: int64\n",
      "\n",
      "rap\n",
      "0    1381\n",
      "1     245\n",
      "Name: rap, dtype: int64\n",
      "\n",
      "pop\n",
      "0    1293\n",
      "1     333\n",
      "Name: pop, dtype: int64\n",
      "\n",
      "latin\n",
      "0    1626\n",
      "Name: latin, dtype: int64\n",
      "\n",
      "rock\n",
      "1    1418\n",
      "0     208\n",
      "Name: rock, dtype: int64\n",
      "\n",
      "metal\n",
      "0    1049\n",
      "1     577\n",
      "Name: metal, dtype: int64\n",
      "\n",
      "prog\n",
      "0    1607\n",
      "1      19\n",
      "Name: prog, dtype: int64\n",
      "\n",
      "punk\n",
      "0    1606\n",
      "1      20\n",
      "Name: punk, dtype: int64\n",
      "\n",
      "grunge\n",
      "0    1624\n",
      "1       2\n",
      "Name: grunge, dtype: int64\n"
     ]
    }
   ],
   "source": [
    "genre_col = ['acoustic', 'alternative', 'blues', 'classical', 'country', 'electronic', 'hip hop', 'rap', 'pop', 'latin', \n",
    "             'rock', 'metal', 'prog', 'punk', 'grunge']    # umm biased for rock subgenres ofc\n",
    "for col in genre_col:\n",
    "    df[col] = 0\n",
    "    df.loc[df['genre'].str.contains(col), col] = 1\n",
    "    print('\\n' + col)\n",
    "    print(df[col].value_counts())    # if too few counts then won't use this genre, some special genres"
   ]
  },
  {
   "cell_type": "code",
   "execution_count": 63,
   "metadata": {
    "scrolled": true
   },
   "outputs": [
    {
     "data": {
      "text/html": [
       "<div>\n",
       "<style scoped>\n",
       "    .dataframe tbody tr th:only-of-type {\n",
       "        vertical-align: middle;\n",
       "    }\n",
       "\n",
       "    .dataframe tbody tr th {\n",
       "        vertical-align: top;\n",
       "    }\n",
       "\n",
       "    .dataframe thead th {\n",
       "        text-align: right;\n",
       "    }\n",
       "</style>\n",
       "<table border=\"1\" class=\"dataframe\">\n",
       "  <thead>\n",
       "    <tr style=\"text-align: right;\">\n",
       "      <th></th>\n",
       "      <th>fav</th>\n",
       "      <th>fav2</th>\n",
       "      <th>least</th>\n",
       "      <th>first_song</th>\n",
       "      <th>first_album</th>\n",
       "      <th>year</th>\n",
       "      <th>genre</th>\n",
       "      <th>fan_era</th>\n",
       "      <th>alternative</th>\n",
       "      <th>blues</th>\n",
       "      <th>classical</th>\n",
       "      <th>country</th>\n",
       "      <th>electronic</th>\n",
       "      <th>hip hop</th>\n",
       "      <th>rap</th>\n",
       "      <th>pop</th>\n",
       "      <th>rock</th>\n",
       "      <th>metal</th>\n",
       "      <th>prog</th>\n",
       "      <th>punk</th>\n",
       "    </tr>\n",
       "  </thead>\n",
       "  <tbody>\n",
       "    <tr>\n",
       "      <th>0</th>\n",
       "      <td>5</td>\n",
       "      <td>2</td>\n",
       "      <td>1</td>\n",
       "      <td>5</td>\n",
       "      <td>4</td>\n",
       "      <td>2010</td>\n",
       "      <td>alternative;electronic;rock</td>\n",
       "      <td>2</td>\n",
       "      <td>1</td>\n",
       "      <td>0</td>\n",
       "      <td>0</td>\n",
       "      <td>0</td>\n",
       "      <td>1</td>\n",
       "      <td>0</td>\n",
       "      <td>0</td>\n",
       "      <td>0</td>\n",
       "      <td>1</td>\n",
       "      <td>0</td>\n",
       "      <td>0</td>\n",
       "      <td>0</td>\n",
       "    </tr>\n",
       "    <tr>\n",
       "      <th>1</th>\n",
       "      <td>3</td>\n",
       "      <td>8</td>\n",
       "      <td>5</td>\n",
       "      <td>5</td>\n",
       "      <td>5</td>\n",
       "      <td>2009</td>\n",
       "      <td>alternative;blues;rock</td>\n",
       "      <td>2</td>\n",
       "      <td>1</td>\n",
       "      <td>1</td>\n",
       "      <td>0</td>\n",
       "      <td>0</td>\n",
       "      <td>0</td>\n",
       "      <td>0</td>\n",
       "      <td>0</td>\n",
       "      <td>0</td>\n",
       "      <td>1</td>\n",
       "      <td>0</td>\n",
       "      <td>0</td>\n",
       "      <td>0</td>\n",
       "    </tr>\n",
       "    <tr>\n",
       "      <th>2</th>\n",
       "      <td>6</td>\n",
       "      <td>7</td>\n",
       "      <td>2</td>\n",
       "      <td>6</td>\n",
       "      <td>6</td>\n",
       "      <td>2017</td>\n",
       "      <td>alternative;classical;indie;pop;rock</td>\n",
       "      <td>3</td>\n",
       "      <td>1</td>\n",
       "      <td>0</td>\n",
       "      <td>1</td>\n",
       "      <td>0</td>\n",
       "      <td>0</td>\n",
       "      <td>0</td>\n",
       "      <td>0</td>\n",
       "      <td>1</td>\n",
       "      <td>1</td>\n",
       "      <td>0</td>\n",
       "      <td>0</td>\n",
       "      <td>0</td>\n",
       "    </tr>\n",
       "    <tr>\n",
       "      <th>3</th>\n",
       "      <td>4</td>\n",
       "      <td>3</td>\n",
       "      <td>8</td>\n",
       "      <td>4</td>\n",
       "      <td>4</td>\n",
       "      <td>2006</td>\n",
       "      <td>alternative;classical;rock</td>\n",
       "      <td>2</td>\n",
       "      <td>1</td>\n",
       "      <td>0</td>\n",
       "      <td>1</td>\n",
       "      <td>0</td>\n",
       "      <td>0</td>\n",
       "      <td>0</td>\n",
       "      <td>0</td>\n",
       "      <td>0</td>\n",
       "      <td>1</td>\n",
       "      <td>0</td>\n",
       "      <td>0</td>\n",
       "      <td>0</td>\n",
       "    </tr>\n",
       "    <tr>\n",
       "      <th>4</th>\n",
       "      <td>2</td>\n",
       "      <td>5</td>\n",
       "      <td>7</td>\n",
       "      <td>5</td>\n",
       "      <td>2</td>\n",
       "      <td>2016</td>\n",
       "      <td>alternative;indie;rock</td>\n",
       "      <td>3</td>\n",
       "      <td>1</td>\n",
       "      <td>0</td>\n",
       "      <td>0</td>\n",
       "      <td>0</td>\n",
       "      <td>0</td>\n",
       "      <td>0</td>\n",
       "      <td>0</td>\n",
       "      <td>0</td>\n",
       "      <td>1</td>\n",
       "      <td>0</td>\n",
       "      <td>0</td>\n",
       "      <td>0</td>\n",
       "    </tr>\n",
       "  </tbody>\n",
       "</table>\n",
       "</div>"
      ],
      "text/plain": [
       "   fav  fav2  least  first_song  first_album  year  \\\n",
       "0    5     2      1           5            4  2010   \n",
       "1    3     8      5           5            5  2009   \n",
       "2    6     7      2           6            6  2017   \n",
       "3    4     3      8           4            4  2006   \n",
       "4    2     5      7           5            2  2016   \n",
       "\n",
       "                                  genre  fan_era  alternative  blues  \\\n",
       "0           alternative;electronic;rock        2            1      0   \n",
       "1                alternative;blues;rock        2            1      1   \n",
       "2  alternative;classical;indie;pop;rock        3            1      0   \n",
       "3            alternative;classical;rock        2            1      0   \n",
       "4                alternative;indie;rock        3            1      0   \n",
       "\n",
       "   classical  country  electronic  hip hop  rap  pop  rock  metal  prog  punk  \n",
       "0          0        0           1        0    0    0     1      0     0     0  \n",
       "1          0        0           0        0    0    0     1      0     0     0  \n",
       "2          1        0           0        0    0    1     1      0     0     0  \n",
       "3          1        0           0        0    0    0     1      0     0     0  \n",
       "4          0        0           0        0    0    0     1      0     0     0  "
      ]
     },
     "execution_count": 63,
     "metadata": {},
     "output_type": "execute_result"
    }
   ],
   "source": [
    "df.drop(['acoustic', 'grunge', 'latin'], axis=1, inplace=True)\n",
    "df.head()"
   ]
  },
  {
   "cell_type": "markdown",
   "metadata": {},
   "source": [
    "Now deal with the genre preferences. This is a textual entry in the Google forms so it is a bit difficult to clean it up. I first found out all the distinctive values fans entered, and add variables for those relatively popular and large genres with one-hot encoding. Personally, I love metal and prog, and rock generally, so I left a few subgenres for rock 🤘."
   ]
  },
  {
   "cell_type": "markdown",
   "metadata": {},
   "source": [
    "### Some simple figures"
   ]
  },
  {
   "cell_type": "markdown",
   "metadata": {},
   "source": [
    "Most of the variables here are categorical, and they don't seem to interact with each other particularly closely. So basic univariate analysis would be enough to see the distributions."
   ]
  },
  {
   "cell_type": "code",
   "execution_count": 77,
   "metadata": {},
   "outputs": [
    {
     "data": {
      "image/png": "[encoded data removed]",
      "text/plain": [
       "<Figure size 720x1152 with 8 Axes>"
      ]
     },
     "metadata": {
      "needs_background": "light"
     },
     "output_type": "display_data"
    }
   ],
   "source": [
    "sns.set_palette('RdBu')\n",
    "\n",
    "fig, axes = plt.subplots(4, 2, figsize=(10,16))\n",
    "ax0 = sns.countplot(df['fav'], ax=axes[0,0])\n",
    "ax1 = sns.countplot(df['fav2'], ax=axes[0,1])\n",
    "ax2 = sns.countplot(df['first_song'], ax=axes[1,0])\n",
    "ax3 = sns.countplot(df['first_album'], ax=axes[1,1])\n",
    "ax4 = sns.countplot(df['year'], ax=axes[2,0])\n",
    "ax4.set_xticklabels([n for n in range(1998, 2020)], rotation=45)\n",
    "ax5 = sns.distplot(df['year'], ax=axes[2,1])\n",
    "ax6 = sns.countplot(df['fan_era'], ax=axes[3,0])\n",
    "ax7 = sns.countplot(df['least'], ax=axes[3,1])"
   ]
  },
  {
   "cell_type": "markdown",
   "metadata": {},
   "source": [
    "Some conclusions here:\n",
    "- From the first row: generally people love OOS, Absolution and BH&R.\n",
    "- From the second row: looks like Muse got their fame or major fan base growth around BH&R, because most people's first Muse song is from there and it's also the first album listened to in its integrity. (I guess the song would be Supermassive Blackhole!)\n",
    "- From the third row, we can see a surge in the number of fans at around 2009 and 2015. Umm, 2009 was the release of The Resistance, which is a critical album too. Here's a little anecdote: [China banned them because of Uprising from this album](https://kroq.radio.com/blogs/kevin-bean-show/muse-uprising-china) (btw I'm from China). 2015 was the release of Drones.\n",
    "- From the fourth row, we see the distribution of 3-tier fans. They are really becoming famous..."
   ]
  },
  {
   "cell_type": "markdown",
   "metadata": {},
   "source": [
    "I myself am a fan since 2012, so I belong to the second tier. The first song I've listened to is Madness from The 2nd Law, but the album turns out to be my least favorite one. My favorite album is Original of Symmetry, it involves a bit of conspiracy theory too, and the same concept of the [album art](https://en.wikipedia.org/wiki/Origin_of_Symmetry) is used in the latest Black Mirror interactive episode [Bandersnatch](https://www.netflix.com/title/80988062). As I love their older stuff, I want to check if my taste aligns better with the early fans."
   ]
  },
  {
   "cell_type": "code",
   "execution_count": 93,
   "metadata": {},
   "outputs": [
    {
     "data": {
      "text/plain": [
       "<matplotlib.axes._subplots.AxesSubplot at 0x125c271d0>"
      ]
     },
     "execution_count": 93,
     "metadata": {},
     "output_type": "execute_result"
    },
    {
     "data": {
      "image/png": "[encoded data removed]",
      "text/plain": [
       "<Figure size 432x288 with 1 Axes>"
      ]
     },
     "metadata": {
      "needs_background": "light"
     },
     "output_type": "display_data"
    }
   ],
   "source": [
    "tmp = df.groupby(['fan_era', 'fav']).size().unstack()\n",
    "tmp.div(tmp.sum(1).astype('float'), axis=0).plot.bar(stacked=True, cmap='inferno')"
   ]
  },
  {
   "cell_type": "markdown",
   "metadata": {},
   "source": [
    "Here we can see, as new fans join the club, new albums are being favored more. It is not very clear to see, but the overall favorite albums are the same for different fan groups (OOS, Absolution and BH&R). But apparantly old fans love old stuff better, and it is reasonable."
   ]
  },
  {
   "cell_type": "markdown",
   "metadata": {},
   "source": [
    "I'm also curious about what genres old fans like. I personally like metal and prog, a lot. I've been listening to those heavy and progressive stuff since junior high as an angst teenage, from there I digged out Muse because in certain sense, they are the most progressive and heavy one among \"Britpop\". (And they were gothic in early days, very popular in Japan.) So I want to check how do fans like these genres specifically."
   ]
  },
  {
   "cell_type": "code",
   "execution_count": 111,
   "metadata": {},
   "outputs": [
    {
     "data": {
      "text/plain": [
       "<matplotlib.axes._subplots.AxesSubplot at 0x129040e48>"
      ]
     },
     "execution_count": 111,
     "metadata": {},
     "output_type": "execute_result"
    },
    {
     "data": {
      "image/png": "[encoded data removed]",
      "text/plain": [
       "<Figure size 720x288 with 2 Axes>"
      ]
     },
     "metadata": {
      "needs_background": "light"
     },
     "output_type": "display_data"
    }
   ],
   "source": [
    "fig, axes = plt.subplots(1,2,figsize=(10, 4))\n",
    "tmp0 = df.groupby(['fan_era', 'metal']).size().unstack()\n",
    "tmp0.div(tmp0.sum(1).astype('float'), axis=0).plot.bar(stacked=True, ax=axes[0])\n",
    "tmp1 = df.groupby(['fan_era', 'prog']).size().unstack()\n",
    "tmp1.div(tmp1.sum(1).astype('float'), axis=0).plot.bar(stacked=True, ax=axes[1])"
   ]
  },
  {
   "cell_type": "code",
   "execution_count": 113,
   "metadata": {},
   "outputs": [
    {
     "data": {
      "text/plain": [
       "2    4\n",
       "3    3\n",
       "5    1\n",
       "4    1\n",
       "Name: fav, dtype: int64"
      ]
     },
     "execution_count": 113,
     "metadata": {},
     "output_type": "execute_result"
    }
   ],
   "source": [
    "df.loc[(df['metal'] == 1) & (df['prog'] == 1), 'fav'].value_counts()"
   ]
  },
  {
   "cell_type": "markdown",
   "metadata": {},
   "source": [
    "Turns out, old fans like metal better than new fans! But only 9 fans voted for prog in this survey, still good to know."
   ]
  },
  {
   "cell_type": "markdown",
   "metadata": {},
   "source": [
    "### Side notes"
   ]
  },
  {
   "cell_type": "markdown",
   "metadata": {},
   "source": [
    "This is just a very very simple and tiny analysis on a subset of fans, but I still got some interesting observations. I think this kind of analysis might be meaningful too, if carried out on a larger scale, whether for the band's profit or for making friends as a fan. I'm not doing this for any utilitarian reasons, I just love Muse.\n",
    "<br> About research related to music, I know a very intriguing research by Dr Nadia Azar from University of Windsor, it's about [biomechanism of drummers](http://www.uwindsor.ca/dailynews/2017-12-21/breaking-down-beat-studying-biomechanics-drummers). I wish someday I'd have the chance to do something as cool as that!"
   ]
  },
  {
   "cell_type": "code",
   "execution_count": null,
   "metadata": {},
   "outputs": [],
   "source": []
  }
 ],
 "metadata": {
  "kernelspec": {
   "display_name": "Python 3",
   "language": "python",
   "name": "python3"
  },
  "language_info": {
   "codemirror_mode": {
    "name": "ipython",
    "version": 3
   },
   "file_extension": ".py",
   "mimetype": "text/x-python",
   "name": "python",
   "nbconvert_exporter": "python",
   "pygments_lexer": "ipython3",
   "version": "3.6.5"
  }
 },
 "nbformat": 4,
 "nbformat_minor": 2
}
