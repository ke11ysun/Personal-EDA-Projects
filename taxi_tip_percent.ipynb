{
 "cells": [
  {
   "cell_type": "markdown",
   "metadata": {},
   "source": [
    "# Data science challenge - Trips!"
   ]
  },
  {
   "cell_type": "markdown",
   "metadata": {},
   "source": [
    "In this notebook, we will explore the dataset of NYC green taxi trips for September 2015. Along with the questions, I will carry out data observation, cleaning, imputation, feature engineering, and finally setup a predictive model for estimating tip percentage from selected feature variables. There will be hypothesis, insights and potential future exploration mentioned along the way. Enjoy!"
   ]
  },
  {
   "cell_type": "code",
   "execution_count": 1,
   "metadata": {},
   "outputs": [],
   "source": [
    "%matplotlib inline\n",
    "import matplotlib.pyplot as plt\n",
    "import pandas as pd\n",
    "import numpy as np\n",
    "import seaborn as sns\n",
    "import os\n",
    "from scipy import stats"
   ]
  },
  {
   "cell_type": "markdown",
   "metadata": {},
   "source": [
    "## <span style=\"color:DarkTurquoise\">Q1: rows and columns loaded</span>"
   ]
  },
  {
   "cell_type": "markdown",
   "metadata": {},
   "source": [
    "### Load and observe data"
   ]
  },
  {
   "cell_type": "markdown",
   "metadata": {},
   "source": [
    "You can access the data [here](http://www.nyc.gov/html/tlc/html/about/trip_record_data.shtml). This [data dictionary](http://www.nyc.gov/html/tlc/downloads/pdf/data_dictionary_trip_records_green.pdf) explains the meaning of the variables. Please put the downloaded data file into the current directory to make sure the path file is correct."
   ]
  },
  {
   "cell_type": "code",
   "execution_count": 2,
   "metadata": {},
   "outputs": [],
   "source": [
    "path = 'green_tripdata_2015-09.csv'\n",
    "if os.path.exists(path):\n",
    "    green = pd.read_csv(path)"
   ]
  },
  {
   "cell_type": "code",
   "execution_count": 3,
   "metadata": {},
   "outputs": [
    {
     "data": {
      "text/html": [
       "<div>\n",
       "<style scoped>\n",
       "    .dataframe tbody tr th:only-of-type {\n",
       "        vertical-align: middle;\n",
       "    }\n",
       "\n",
       "    .dataframe tbody tr th {\n",
       "        vertical-align: top;\n",
       "    }\n",
       "\n",
       "    .dataframe thead th {\n",
       "        text-align: right;\n",
       "    }\n",
       "</style>\n",
       "<table border=\"1\" class=\"dataframe\">\n",
       "  <thead>\n",
       "    <tr style=\"text-align: right;\">\n",
       "      <th></th>\n",
       "      <th>VendorID</th>\n",
       "      <th>lpep_pickup_datetime</th>\n",
       "      <th>Lpep_dropoff_datetime</th>\n",
       "      <th>Store_and_fwd_flag</th>\n",
       "      <th>RateCodeID</th>\n",
       "      <th>Pickup_longitude</th>\n",
       "      <th>Pickup_latitude</th>\n",
       "      <th>Dropoff_longitude</th>\n",
       "      <th>Dropoff_latitude</th>\n",
       "      <th>Passenger_count</th>\n",
       "      <th>...</th>\n",
       "      <th>Fare_amount</th>\n",
       "      <th>Extra</th>\n",
       "      <th>MTA_tax</th>\n",
       "      <th>Tip_amount</th>\n",
       "      <th>Tolls_amount</th>\n",
       "      <th>Ehail_fee</th>\n",
       "      <th>improvement_surcharge</th>\n",
       "      <th>Total_amount</th>\n",
       "      <th>Payment_type</th>\n",
       "      <th>Trip_type</th>\n",
       "    </tr>\n",
       "  </thead>\n",
       "  <tbody>\n",
       "    <tr>\n",
       "      <th>0</th>\n",
       "      <td>2</td>\n",
       "      <td>2015-09-01 00:02:34</td>\n",
       "      <td>2015-09-01 00:02:38</td>\n",
       "      <td>N</td>\n",
       "      <td>5</td>\n",
       "      <td>-73.979485</td>\n",
       "      <td>40.684956</td>\n",
       "      <td>-73.979431</td>\n",
       "      <td>40.685020</td>\n",
       "      <td>1</td>\n",
       "      <td>...</td>\n",
       "      <td>7.8</td>\n",
       "      <td>0.0</td>\n",
       "      <td>0.0</td>\n",
       "      <td>1.95</td>\n",
       "      <td>0.0</td>\n",
       "      <td>NaN</td>\n",
       "      <td>0.0</td>\n",
       "      <td>9.75</td>\n",
       "      <td>1</td>\n",
       "      <td>2.0</td>\n",
       "    </tr>\n",
       "    <tr>\n",
       "      <th>1</th>\n",
       "      <td>2</td>\n",
       "      <td>2015-09-01 00:04:20</td>\n",
       "      <td>2015-09-01 00:04:24</td>\n",
       "      <td>N</td>\n",
       "      <td>5</td>\n",
       "      <td>-74.010796</td>\n",
       "      <td>40.912216</td>\n",
       "      <td>-74.010780</td>\n",
       "      <td>40.912212</td>\n",
       "      <td>1</td>\n",
       "      <td>...</td>\n",
       "      <td>45.0</td>\n",
       "      <td>0.0</td>\n",
       "      <td>0.0</td>\n",
       "      <td>0.00</td>\n",
       "      <td>0.0</td>\n",
       "      <td>NaN</td>\n",
       "      <td>0.0</td>\n",
       "      <td>45.00</td>\n",
       "      <td>1</td>\n",
       "      <td>2.0</td>\n",
       "    </tr>\n",
       "    <tr>\n",
       "      <th>2</th>\n",
       "      <td>2</td>\n",
       "      <td>2015-09-01 00:01:50</td>\n",
       "      <td>2015-09-01 00:04:24</td>\n",
       "      <td>N</td>\n",
       "      <td>1</td>\n",
       "      <td>-73.921410</td>\n",
       "      <td>40.766708</td>\n",
       "      <td>-73.914413</td>\n",
       "      <td>40.764687</td>\n",
       "      <td>1</td>\n",
       "      <td>...</td>\n",
       "      <td>4.0</td>\n",
       "      <td>0.5</td>\n",
       "      <td>0.5</td>\n",
       "      <td>0.50</td>\n",
       "      <td>0.0</td>\n",
       "      <td>NaN</td>\n",
       "      <td>0.3</td>\n",
       "      <td>5.80</td>\n",
       "      <td>1</td>\n",
       "      <td>1.0</td>\n",
       "    </tr>\n",
       "    <tr>\n",
       "      <th>3</th>\n",
       "      <td>2</td>\n",
       "      <td>2015-09-01 00:02:36</td>\n",
       "      <td>2015-09-01 00:06:42</td>\n",
       "      <td>N</td>\n",
       "      <td>1</td>\n",
       "      <td>-73.921387</td>\n",
       "      <td>40.766678</td>\n",
       "      <td>-73.931427</td>\n",
       "      <td>40.771584</td>\n",
       "      <td>1</td>\n",
       "      <td>...</td>\n",
       "      <td>5.0</td>\n",
       "      <td>0.5</td>\n",
       "      <td>0.5</td>\n",
       "      <td>0.00</td>\n",
       "      <td>0.0</td>\n",
       "      <td>NaN</td>\n",
       "      <td>0.3</td>\n",
       "      <td>6.30</td>\n",
       "      <td>2</td>\n",
       "      <td>1.0</td>\n",
       "    </tr>\n",
       "    <tr>\n",
       "      <th>4</th>\n",
       "      <td>2</td>\n",
       "      <td>2015-09-01 00:00:14</td>\n",
       "      <td>2015-09-01 00:04:20</td>\n",
       "      <td>N</td>\n",
       "      <td>1</td>\n",
       "      <td>-73.955482</td>\n",
       "      <td>40.714046</td>\n",
       "      <td>-73.944412</td>\n",
       "      <td>40.714729</td>\n",
       "      <td>1</td>\n",
       "      <td>...</td>\n",
       "      <td>5.0</td>\n",
       "      <td>0.5</td>\n",
       "      <td>0.5</td>\n",
       "      <td>0.00</td>\n",
       "      <td>0.0</td>\n",
       "      <td>NaN</td>\n",
       "      <td>0.3</td>\n",
       "      <td>6.30</td>\n",
       "      <td>2</td>\n",
       "      <td>1.0</td>\n",
       "    </tr>\n",
       "  </tbody>\n",
       "</table>\n",
       "<p>5 rows × 21 columns</p>\n",
       "</div>"
      ],
      "text/plain": [
       "   VendorID lpep_pickup_datetime Lpep_dropoff_datetime Store_and_fwd_flag  \\\n",
       "0         2  2015-09-01 00:02:34   2015-09-01 00:02:38                  N   \n",
       "1         2  2015-09-01 00:04:20   2015-09-01 00:04:24                  N   \n",
       "2         2  2015-09-01 00:01:50   2015-09-01 00:04:24                  N   \n",
       "3         2  2015-09-01 00:02:36   2015-09-01 00:06:42                  N   \n",
       "4         2  2015-09-01 00:00:14   2015-09-01 00:04:20                  N   \n",
       "\n",
       "   RateCodeID  Pickup_longitude  Pickup_latitude  Dropoff_longitude  \\\n",
       "0           5        -73.979485        40.684956         -73.979431   \n",
       "1           5        -74.010796        40.912216         -74.010780   \n",
       "2           1        -73.921410        40.766708         -73.914413   \n",
       "3           1        -73.921387        40.766678         -73.931427   \n",
       "4           1        -73.955482        40.714046         -73.944412   \n",
       "\n",
       "   Dropoff_latitude  Passenger_count     ...      Fare_amount  Extra  MTA_tax  \\\n",
       "0         40.685020                1     ...              7.8    0.0      0.0   \n",
       "1         40.912212                1     ...             45.0    0.0      0.0   \n",
       "2         40.764687                1     ...              4.0    0.5      0.5   \n",
       "3         40.771584                1     ...              5.0    0.5      0.5   \n",
       "4         40.714729                1     ...              5.0    0.5      0.5   \n",
       "\n",
       "   Tip_amount  Tolls_amount  Ehail_fee  improvement_surcharge  Total_amount  \\\n",
       "0        1.95           0.0        NaN                    0.0          9.75   \n",
       "1        0.00           0.0        NaN                    0.0         45.00   \n",
       "2        0.50           0.0        NaN                    0.3          5.80   \n",
       "3        0.00           0.0        NaN                    0.3          6.30   \n",
       "4        0.00           0.0        NaN                    0.3          6.30   \n",
       "\n",
       "   Payment_type  Trip_type   \n",
       "0             1         2.0  \n",
       "1             1         2.0  \n",
       "2             1         1.0  \n",
       "3             2         1.0  \n",
       "4             2         1.0  \n",
       "\n",
       "[5 rows x 21 columns]"
      ]
     },
     "execution_count": 3,
     "metadata": {},
     "output_type": "execute_result"
    }
   ],
   "source": [
    "green.head()"
   ]
  },
  {
   "cell_type": "markdown",
   "metadata": {},
   "source": [
    "Note: we could observe different naming conventions in the column names. Some start with lowercase letter (lpep_pickup_datetime) while most start with uppercase letter. Some use underline while others use camel style. it's not necessary to deal with it for now, later in data cleaning I will add new variables and change some column names."
   ]
  },
  {
   "cell_type": "code",
   "execution_count": 4,
   "metadata": {},
   "outputs": [
    {
     "name": "stdout",
     "output_type": "stream",
     "text": [
      "<class 'pandas.core.frame.DataFrame'>\n",
      "RangeIndex: 1494926 entries, 0 to 1494925\n",
      "Data columns (total 21 columns):\n",
      "VendorID                 1494926 non-null int64\n",
      "lpep_pickup_datetime     1494926 non-null object\n",
      "Lpep_dropoff_datetime    1494926 non-null object\n",
      "Store_and_fwd_flag       1494926 non-null object\n",
      "RateCodeID               1494926 non-null int64\n",
      "Pickup_longitude         1494926 non-null float64\n",
      "Pickup_latitude          1494926 non-null float64\n",
      "Dropoff_longitude        1494926 non-null float64\n",
      "Dropoff_latitude         1494926 non-null float64\n",
      "Passenger_count          1494926 non-null int64\n",
      "Trip_distance            1494926 non-null float64\n",
      "Fare_amount              1494926 non-null float64\n",
      "Extra                    1494926 non-null float64\n",
      "MTA_tax                  1494926 non-null float64\n",
      "Tip_amount               1494926 non-null float64\n",
      "Tolls_amount             1494926 non-null float64\n",
      "Ehail_fee                0 non-null float64\n",
      "improvement_surcharge    1494926 non-null float64\n",
      "Total_amount             1494926 non-null float64\n",
      "Payment_type             1494926 non-null int64\n",
      "Trip_type                1494922 non-null float64\n",
      "dtypes: float64(14), int64(4), object(3)\n",
      "memory usage: 239.5+ MB\n"
     ]
    }
   ],
   "source": [
    "green.info()"
   ]
  },
  {
   "cell_type": "markdown",
   "metadata": {},
   "source": [
    "Note: Ehail_fee has all nan values, so there should be no worries to drop this column; there are 1494926 rows, 21 columns; there are nan values in Trip_type; lpep_pickup_datetime/Lpep_dropoff_datetime should be changed into datetime, and Store_and_fwd_flag is the only categorical variable."
   ]
  },
  {
   "cell_type": "markdown",
   "metadata": {},
   "source": [
    "### <span style=\"color:DarkTurquoise\">Answer to Q1: there are 1494926 rows and 21 columns in the original dataset.</span>"
   ]
  },
  {
   "cell_type": "code",
   "execution_count": 5,
   "metadata": {},
   "outputs": [
    {
     "data": {
      "text/html": [
       "<div>\n",
       "<style scoped>\n",
       "    .dataframe tbody tr th:only-of-type {\n",
       "        vertical-align: middle;\n",
       "    }\n",
       "\n",
       "    .dataframe tbody tr th {\n",
       "        vertical-align: top;\n",
       "    }\n",
       "\n",
       "    .dataframe thead th {\n",
       "        text-align: right;\n",
       "    }\n",
       "</style>\n",
       "<table border=\"1\" class=\"dataframe\">\n",
       "  <thead>\n",
       "    <tr style=\"text-align: right;\">\n",
       "      <th></th>\n",
       "      <th>VendorID</th>\n",
       "      <th>RateCodeID</th>\n",
       "      <th>Pickup_longitude</th>\n",
       "      <th>Pickup_latitude</th>\n",
       "      <th>Dropoff_longitude</th>\n",
       "      <th>Dropoff_latitude</th>\n",
       "      <th>Passenger_count</th>\n",
       "      <th>Trip_distance</th>\n",
       "      <th>Fare_amount</th>\n",
       "      <th>Extra</th>\n",
       "      <th>MTA_tax</th>\n",
       "      <th>Tip_amount</th>\n",
       "      <th>Tolls_amount</th>\n",
       "      <th>Ehail_fee</th>\n",
       "      <th>improvement_surcharge</th>\n",
       "      <th>Total_amount</th>\n",
       "      <th>Payment_type</th>\n",
       "      <th>Trip_type</th>\n",
       "    </tr>\n",
       "  </thead>\n",
       "  <tbody>\n",
       "    <tr>\n",
       "      <th>count</th>\n",
       "      <td>1.494926e+06</td>\n",
       "      <td>1.494926e+06</td>\n",
       "      <td>1.494926e+06</td>\n",
       "      <td>1.494926e+06</td>\n",
       "      <td>1.494926e+06</td>\n",
       "      <td>1.494926e+06</td>\n",
       "      <td>1.494926e+06</td>\n",
       "      <td>1.494926e+06</td>\n",
       "      <td>1.494926e+06</td>\n",
       "      <td>1.494926e+06</td>\n",
       "      <td>1.494926e+06</td>\n",
       "      <td>1.494926e+06</td>\n",
       "      <td>1.494926e+06</td>\n",
       "      <td>0.0</td>\n",
       "      <td>1.494926e+06</td>\n",
       "      <td>1.494926e+06</td>\n",
       "      <td>1.494926e+06</td>\n",
       "      <td>1.494922e+06</td>\n",
       "    </tr>\n",
       "    <tr>\n",
       "      <th>mean</th>\n",
       "      <td>1.782045e+00</td>\n",
       "      <td>1.097653e+00</td>\n",
       "      <td>-7.383084e+01</td>\n",
       "      <td>4.069114e+01</td>\n",
       "      <td>-7.383728e+01</td>\n",
       "      <td>4.069291e+01</td>\n",
       "      <td>1.370598e+00</td>\n",
       "      <td>2.968141e+00</td>\n",
       "      <td>1.254320e+01</td>\n",
       "      <td>3.512800e-01</td>\n",
       "      <td>4.866408e-01</td>\n",
       "      <td>1.235727e+00</td>\n",
       "      <td>1.231047e-01</td>\n",
       "      <td>NaN</td>\n",
       "      <td>2.920991e-01</td>\n",
       "      <td>1.503215e+01</td>\n",
       "      <td>1.540559e+00</td>\n",
       "      <td>1.022353e+00</td>\n",
       "    </tr>\n",
       "    <tr>\n",
       "      <th>std</th>\n",
       "      <td>4.128570e-01</td>\n",
       "      <td>6.359437e-01</td>\n",
       "      <td>2.776082e+00</td>\n",
       "      <td>1.530882e+00</td>\n",
       "      <td>2.677911e+00</td>\n",
       "      <td>1.476698e+00</td>\n",
       "      <td>1.039426e+00</td>\n",
       "      <td>3.076621e+00</td>\n",
       "      <td>1.008278e+01</td>\n",
       "      <td>3.663096e-01</td>\n",
       "      <td>8.504473e-02</td>\n",
       "      <td>2.431476e+00</td>\n",
       "      <td>8.910137e-01</td>\n",
       "      <td>NaN</td>\n",
       "      <td>5.074009e-02</td>\n",
       "      <td>1.155316e+01</td>\n",
       "      <td>5.232935e-01</td>\n",
       "      <td>1.478288e-01</td>\n",
       "    </tr>\n",
       "    <tr>\n",
       "      <th>min</th>\n",
       "      <td>1.000000e+00</td>\n",
       "      <td>1.000000e+00</td>\n",
       "      <td>-8.331908e+01</td>\n",
       "      <td>0.000000e+00</td>\n",
       "      <td>-8.342784e+01</td>\n",
       "      <td>0.000000e+00</td>\n",
       "      <td>0.000000e+00</td>\n",
       "      <td>0.000000e+00</td>\n",
       "      <td>-4.750000e+02</td>\n",
       "      <td>-1.000000e+00</td>\n",
       "      <td>-5.000000e-01</td>\n",
       "      <td>-5.000000e+01</td>\n",
       "      <td>-1.529000e+01</td>\n",
       "      <td>NaN</td>\n",
       "      <td>-3.000000e-01</td>\n",
       "      <td>-4.750000e+02</td>\n",
       "      <td>1.000000e+00</td>\n",
       "      <td>1.000000e+00</td>\n",
       "    </tr>\n",
       "    <tr>\n",
       "      <th>25%</th>\n",
       "      <td>2.000000e+00</td>\n",
       "      <td>1.000000e+00</td>\n",
       "      <td>-7.395961e+01</td>\n",
       "      <td>4.069895e+01</td>\n",
       "      <td>-7.396782e+01</td>\n",
       "      <td>4.069878e+01</td>\n",
       "      <td>1.000000e+00</td>\n",
       "      <td>1.100000e+00</td>\n",
       "      <td>6.500000e+00</td>\n",
       "      <td>0.000000e+00</td>\n",
       "      <td>5.000000e-01</td>\n",
       "      <td>0.000000e+00</td>\n",
       "      <td>0.000000e+00</td>\n",
       "      <td>NaN</td>\n",
       "      <td>3.000000e-01</td>\n",
       "      <td>8.160000e+00</td>\n",
       "      <td>1.000000e+00</td>\n",
       "      <td>1.000000e+00</td>\n",
       "    </tr>\n",
       "    <tr>\n",
       "      <th>50%</th>\n",
       "      <td>2.000000e+00</td>\n",
       "      <td>1.000000e+00</td>\n",
       "      <td>-7.394536e+01</td>\n",
       "      <td>4.074674e+01</td>\n",
       "      <td>-7.394504e+01</td>\n",
       "      <td>4.074728e+01</td>\n",
       "      <td>1.000000e+00</td>\n",
       "      <td>1.980000e+00</td>\n",
       "      <td>9.500000e+00</td>\n",
       "      <td>5.000000e-01</td>\n",
       "      <td>5.000000e-01</td>\n",
       "      <td>0.000000e+00</td>\n",
       "      <td>0.000000e+00</td>\n",
       "      <td>NaN</td>\n",
       "      <td>3.000000e-01</td>\n",
       "      <td>1.176000e+01</td>\n",
       "      <td>2.000000e+00</td>\n",
       "      <td>1.000000e+00</td>\n",
       "    </tr>\n",
       "    <tr>\n",
       "      <th>75%</th>\n",
       "      <td>2.000000e+00</td>\n",
       "      <td>1.000000e+00</td>\n",
       "      <td>-7.391748e+01</td>\n",
       "      <td>4.080255e+01</td>\n",
       "      <td>-7.391013e+01</td>\n",
       "      <td>4.079015e+01</td>\n",
       "      <td>1.000000e+00</td>\n",
       "      <td>3.740000e+00</td>\n",
       "      <td>1.550000e+01</td>\n",
       "      <td>5.000000e-01</td>\n",
       "      <td>5.000000e-01</td>\n",
       "      <td>2.000000e+00</td>\n",
       "      <td>0.000000e+00</td>\n",
       "      <td>NaN</td>\n",
       "      <td>3.000000e-01</td>\n",
       "      <td>1.830000e+01</td>\n",
       "      <td>2.000000e+00</td>\n",
       "      <td>1.000000e+00</td>\n",
       "    </tr>\n",
       "    <tr>\n",
       "      <th>max</th>\n",
       "      <td>2.000000e+00</td>\n",
       "      <td>9.900000e+01</td>\n",
       "      <td>0.000000e+00</td>\n",
       "      <td>4.317726e+01</td>\n",
       "      <td>0.000000e+00</td>\n",
       "      <td>4.279934e+01</td>\n",
       "      <td>9.000000e+00</td>\n",
       "      <td>6.031000e+02</td>\n",
       "      <td>5.805000e+02</td>\n",
       "      <td>1.200000e+01</td>\n",
       "      <td>5.000000e-01</td>\n",
       "      <td>3.000000e+02</td>\n",
       "      <td>9.575000e+01</td>\n",
       "      <td>NaN</td>\n",
       "      <td>3.000000e-01</td>\n",
       "      <td>5.813000e+02</td>\n",
       "      <td>5.000000e+00</td>\n",
       "      <td>2.000000e+00</td>\n",
       "    </tr>\n",
       "  </tbody>\n",
       "</table>\n",
       "</div>"
      ],
      "text/plain": [
       "           VendorID    RateCodeID  Pickup_longitude  Pickup_latitude  \\\n",
       "count  1.494926e+06  1.494926e+06      1.494926e+06     1.494926e+06   \n",
       "mean   1.782045e+00  1.097653e+00     -7.383084e+01     4.069114e+01   \n",
       "std    4.128570e-01  6.359437e-01      2.776082e+00     1.530882e+00   \n",
       "min    1.000000e+00  1.000000e+00     -8.331908e+01     0.000000e+00   \n",
       "25%    2.000000e+00  1.000000e+00     -7.395961e+01     4.069895e+01   \n",
       "50%    2.000000e+00  1.000000e+00     -7.394536e+01     4.074674e+01   \n",
       "75%    2.000000e+00  1.000000e+00     -7.391748e+01     4.080255e+01   \n",
       "max    2.000000e+00  9.900000e+01      0.000000e+00     4.317726e+01   \n",
       "\n",
       "       Dropoff_longitude  Dropoff_latitude  Passenger_count  Trip_distance  \\\n",
       "count       1.494926e+06      1.494926e+06     1.494926e+06   1.494926e+06   \n",
       "mean       -7.383728e+01      4.069291e+01     1.370598e+00   2.968141e+00   \n",
       "std         2.677911e+00      1.476698e+00     1.039426e+00   3.076621e+00   \n",
       "min        -8.342784e+01      0.000000e+00     0.000000e+00   0.000000e+00   \n",
       "25%        -7.396782e+01      4.069878e+01     1.000000e+00   1.100000e+00   \n",
       "50%        -7.394504e+01      4.074728e+01     1.000000e+00   1.980000e+00   \n",
       "75%        -7.391013e+01      4.079015e+01     1.000000e+00   3.740000e+00   \n",
       "max         0.000000e+00      4.279934e+01     9.000000e+00   6.031000e+02   \n",
       "\n",
       "        Fare_amount         Extra       MTA_tax    Tip_amount  Tolls_amount  \\\n",
       "count  1.494926e+06  1.494926e+06  1.494926e+06  1.494926e+06  1.494926e+06   \n",
       "mean   1.254320e+01  3.512800e-01  4.866408e-01  1.235727e+00  1.231047e-01   \n",
       "std    1.008278e+01  3.663096e-01  8.504473e-02  2.431476e+00  8.910137e-01   \n",
       "min   -4.750000e+02 -1.000000e+00 -5.000000e-01 -5.000000e+01 -1.529000e+01   \n",
       "25%    6.500000e+00  0.000000e+00  5.000000e-01  0.000000e+00  0.000000e+00   \n",
       "50%    9.500000e+00  5.000000e-01  5.000000e-01  0.000000e+00  0.000000e+00   \n",
       "75%    1.550000e+01  5.000000e-01  5.000000e-01  2.000000e+00  0.000000e+00   \n",
       "max    5.805000e+02  1.200000e+01  5.000000e-01  3.000000e+02  9.575000e+01   \n",
       "\n",
       "       Ehail_fee  improvement_surcharge  Total_amount  Payment_type  \\\n",
       "count        0.0           1.494926e+06  1.494926e+06  1.494926e+06   \n",
       "mean         NaN           2.920991e-01  1.503215e+01  1.540559e+00   \n",
       "std          NaN           5.074009e-02  1.155316e+01  5.232935e-01   \n",
       "min          NaN          -3.000000e-01 -4.750000e+02  1.000000e+00   \n",
       "25%          NaN           3.000000e-01  8.160000e+00  1.000000e+00   \n",
       "50%          NaN           3.000000e-01  1.176000e+01  2.000000e+00   \n",
       "75%          NaN           3.000000e-01  1.830000e+01  2.000000e+00   \n",
       "max          NaN           3.000000e-01  5.813000e+02  5.000000e+00   \n",
       "\n",
       "         Trip_type   \n",
       "count  1.494922e+06  \n",
       "mean   1.022353e+00  \n",
       "std    1.478288e-01  \n",
       "min    1.000000e+00  \n",
       "25%    1.000000e+00  \n",
       "50%    1.000000e+00  \n",
       "75%    1.000000e+00  \n",
       "max    2.000000e+00  "
      ]
     },
     "execution_count": 5,
     "metadata": {},
     "output_type": "execute_result"
    }
   ],
   "source": [
    "green.describe()"
   ]
  },
  {
   "cell_type": "markdown",
   "metadata": {},
   "source": [
    "Note: for numerical variables, illegal values can be observed. According to the [data dictionary](http://www.nyc.gov/html/tlc/downloads/pdf/data_dictionary_trip_records_green.pdf), RateCodeID has a range of 1 to 6, a value of 99 appears as max; we could also drop the rows with a 0 Passenger_count/Trip_distance since those won't be related to tips, but I will look closer at these variables later; Extra should only contain values of 0.5 or 1, 1.2 appeared as max; negative values appear in Fare_amount/Extra/MTA-tax/Tip_amount/Tolls_amount/improvement_surcharge/Total_amount."
   ]
  },
  {
   "cell_type": "code",
   "execution_count": 6,
   "metadata": {},
   "outputs": [
    {
     "name": "stdout",
     "output_type": "stream",
     "text": [
      "rows: 1494926\n",
      "cols: 21\n",
      "Index(['VendorID', 'lpep_pickup_datetime', 'Lpep_dropoff_datetime',\n",
      "       'Store_and_fwd_flag', 'RateCodeID', 'Pickup_longitude',\n",
      "       'Pickup_latitude', 'Dropoff_longitude', 'Dropoff_latitude',\n",
      "       'Passenger_count', 'Trip_distance', 'Fare_amount', 'Extra', 'MTA_tax',\n",
      "       'Tip_amount', 'Tolls_amount', 'Ehail_fee', 'improvement_surcharge',\n",
      "       'Total_amount', 'Payment_type', 'Trip_type '],\n",
      "      dtype='object')\n"
     ]
    }
   ],
   "source": [
    "print('rows:', green.shape[0])\n",
    "print('cols:', len(green.columns))\n",
    "print(green.columns)"
   ]
  },
  {
   "cell_type": "markdown",
   "metadata": {},
   "source": [
    "Note: there is a space in 'Trip_type '."
   ]
  },
  {
   "cell_type": "markdown",
   "metadata": {},
   "source": [
    "### Dealing with the problem found in observation"
   ]
  },
  {
   "cell_type": "code",
   "execution_count": 7,
   "metadata": {},
   "outputs": [
    {
     "data": {
      "text/plain": [
       "(1494926, 20)"
      ]
     },
     "execution_count": 7,
     "metadata": {},
     "output_type": "execute_result"
    }
   ],
   "source": [
    "# drop Ehail_fee\n",
    "green.drop('Ehail_fee', axis=1, inplace=True)\n",
    "green.shape"
   ]
  },
  {
   "cell_type": "code",
   "execution_count": 8,
   "metadata": {},
   "outputs": [
    {
     "name": "stdout",
     "output_type": "stream",
     "text": [
      "datetime64[ns] datetime64[ns] (1494926, 20)\n"
     ]
    }
   ],
   "source": [
    "# change lpep_pickup_datetime/Lpep_dropoff_datetime to datetime\n",
    "green['pickup_time'] = pd.to_datetime(green.lpep_pickup_datetime)\n",
    "green['dropoff_time'] = pd.to_datetime(green.Lpep_dropoff_datetime)\n",
    "green.drop('lpep_pickup_datetime', axis=1, inplace=True)\n",
    "green.drop('Lpep_dropoff_datetime', axis=1, inplace=True)\n",
    "print(green['pickup_time'].dtypes, green['dropoff_time'].dtypes, green.shape)"
   ]
  },
  {
   "cell_type": "code",
   "execution_count": 9,
   "metadata": {},
   "outputs": [
    {
     "name": "stdout",
     "output_type": "stream",
     "text": [
      "0    1486192\n",
      "1       8734\n",
      "Name: flag_cat, dtype: int64\n",
      "(1494926, 20)\n"
     ]
    }
   ],
   "source": [
    "# change Store_and_fwd_flag into categorical \n",
    "green['flag_cat'] = green['Store_and_fwd_flag'].astype('category').cat.codes\n",
    "print(green['flag_cat'].value_counts())\n",
    "green.drop('Store_and_fwd_flag', axis=1, inplace=True)\n",
    "print(green.shape)"
   ]
  },
  {
   "cell_type": "code",
   "execution_count": 10,
   "metadata": {},
   "outputs": [
    {
     "data": {
      "text/plain": [
       "0"
      ]
     },
     "execution_count": 10,
     "metadata": {},
     "output_type": "execute_result"
    }
   ],
   "source": [
    "# imputation of Trip_type: fill nan with the most frequent value\n",
    "green.rename(columns={'Trip_type ':'Trip_type'}, inplace=True)\n",
    "green['Trip_type'].fillna(value=green['Trip_type'].value_counts().reset_index()['index'][0], inplace=True)\n",
    "green.isnull().sum().sum()"
   ]
  },
  {
   "cell_type": "code",
   "execution_count": 11,
   "metadata": {},
   "outputs": [
    {
     "data": {
      "text/plain": [
       "1    1454470\n",
       "5      33943\n",
       "2       4435\n",
       "3       1117\n",
       "4        925\n",
       "6         36\n",
       "Name: RateCodeID, dtype: int64"
      ]
     },
     "execution_count": 11,
     "metadata": {},
     "output_type": "execute_result"
    }
   ],
   "source": [
    "# imputation of RateCodeID: change illegal value to the most frequent value\n",
    "green.loc[green[green['RateCodeID'] > 6].index, 'RateCodeID'] = green['RateCodeID'].value_counts().reset_index()['index'][0]\n",
    "green['RateCodeID'].value_counts()"
   ]
  },
  {
   "cell_type": "code",
   "execution_count": 12,
   "metadata": {
    "scrolled": true
   },
   "outputs": [
    {
     "data": {
      "text/html": [
       "<div>\n",
       "<style scoped>\n",
       "    .dataframe tbody tr th:only-of-type {\n",
       "        vertical-align: middle;\n",
       "    }\n",
       "\n",
       "    .dataframe tbody tr th {\n",
       "        vertical-align: top;\n",
       "    }\n",
       "\n",
       "    .dataframe thead th {\n",
       "        text-align: right;\n",
       "    }\n",
       "</style>\n",
       "<table border=\"1\" class=\"dataframe\">\n",
       "  <thead>\n",
       "    <tr style=\"text-align: right;\">\n",
       "      <th></th>\n",
       "      <th>VendorID</th>\n",
       "      <th>RateCodeID</th>\n",
       "      <th>Pickup_longitude</th>\n",
       "      <th>Pickup_latitude</th>\n",
       "      <th>Dropoff_longitude</th>\n",
       "      <th>Dropoff_latitude</th>\n",
       "      <th>Passenger_count</th>\n",
       "      <th>Trip_distance</th>\n",
       "      <th>Fare_amount</th>\n",
       "      <th>Extra</th>\n",
       "      <th>MTA_tax</th>\n",
       "      <th>Tip_amount</th>\n",
       "      <th>Tolls_amount</th>\n",
       "      <th>improvement_surcharge</th>\n",
       "      <th>Total_amount</th>\n",
       "      <th>Payment_type</th>\n",
       "      <th>Trip_type</th>\n",
       "      <th>pickup_time</th>\n",
       "      <th>dropoff_time</th>\n",
       "      <th>flag_cat</th>\n",
       "    </tr>\n",
       "  </thead>\n",
       "  <tbody>\n",
       "    <tr>\n",
       "      <th>1097</th>\n",
       "      <td>1</td>\n",
       "      <td>5</td>\n",
       "      <td>-73.921661</td>\n",
       "      <td>40.706581</td>\n",
       "      <td>-73.895645</td>\n",
       "      <td>40.703232</td>\n",
       "      <td>0</td>\n",
       "      <td>1.70</td>\n",
       "      <td>0.0</td>\n",
       "      <td>0.0</td>\n",
       "      <td>0.0</td>\n",
       "      <td>0.0</td>\n",
       "      <td>0.0</td>\n",
       "      <td>0.0</td>\n",
       "      <td>0.0</td>\n",
       "      <td>2</td>\n",
       "      <td>2.0</td>\n",
       "      <td>2015-09-01 00:44:17</td>\n",
       "      <td>2015-09-01 00:51:18</td>\n",
       "      <td>0</td>\n",
       "    </tr>\n",
       "    <tr>\n",
       "      <th>2129</th>\n",
       "      <td>1</td>\n",
       "      <td>5</td>\n",
       "      <td>-73.931175</td>\n",
       "      <td>40.702847</td>\n",
       "      <td>-74.017197</td>\n",
       "      <td>40.642117</td>\n",
       "      <td>0</td>\n",
       "      <td>9.80</td>\n",
       "      <td>0.0</td>\n",
       "      <td>0.0</td>\n",
       "      <td>0.0</td>\n",
       "      <td>0.0</td>\n",
       "      <td>0.0</td>\n",
       "      <td>0.0</td>\n",
       "      <td>0.0</td>\n",
       "      <td>2</td>\n",
       "      <td>2.0</td>\n",
       "      <td>2015-09-01 01:07:25</td>\n",
       "      <td>2015-09-01 01:27:51</td>\n",
       "      <td>0</td>\n",
       "    </tr>\n",
       "    <tr>\n",
       "      <th>2551</th>\n",
       "      <td>2</td>\n",
       "      <td>5</td>\n",
       "      <td>-73.953094</td>\n",
       "      <td>40.680672</td>\n",
       "      <td>-73.897552</td>\n",
       "      <td>40.677704</td>\n",
       "      <td>0</td>\n",
       "      <td>3.52</td>\n",
       "      <td>20.0</td>\n",
       "      <td>0.0</td>\n",
       "      <td>0.0</td>\n",
       "      <td>0.0</td>\n",
       "      <td>0.0</td>\n",
       "      <td>0.0</td>\n",
       "      <td>20.0</td>\n",
       "      <td>2</td>\n",
       "      <td>2.0</td>\n",
       "      <td>2015-09-01 02:21:00</td>\n",
       "      <td>2015-09-01 02:33:33</td>\n",
       "      <td>0</td>\n",
       "    </tr>\n",
       "    <tr>\n",
       "      <th>5572</th>\n",
       "      <td>1</td>\n",
       "      <td>5</td>\n",
       "      <td>-73.925659</td>\n",
       "      <td>40.838451</td>\n",
       "      <td>-73.923317</td>\n",
       "      <td>40.816864</td>\n",
       "      <td>0</td>\n",
       "      <td>2.00</td>\n",
       "      <td>0.0</td>\n",
       "      <td>0.0</td>\n",
       "      <td>0.0</td>\n",
       "      <td>0.0</td>\n",
       "      <td>0.0</td>\n",
       "      <td>0.0</td>\n",
       "      <td>0.0</td>\n",
       "      <td>2</td>\n",
       "      <td>2.0</td>\n",
       "      <td>2015-09-01 07:52:57</td>\n",
       "      <td>2015-09-01 08:05:09</td>\n",
       "      <td>0</td>\n",
       "    </tr>\n",
       "    <tr>\n",
       "      <th>10310</th>\n",
       "      <td>1</td>\n",
       "      <td>5</td>\n",
       "      <td>-73.948143</td>\n",
       "      <td>40.837135</td>\n",
       "      <td>-73.942070</td>\n",
       "      <td>40.842621</td>\n",
       "      <td>0</td>\n",
       "      <td>0.60</td>\n",
       "      <td>0.0</td>\n",
       "      <td>0.0</td>\n",
       "      <td>0.0</td>\n",
       "      <td>0.0</td>\n",
       "      <td>0.0</td>\n",
       "      <td>0.0</td>\n",
       "      <td>0.0</td>\n",
       "      <td>2</td>\n",
       "      <td>2.0</td>\n",
       "      <td>2015-09-01 09:04:28</td>\n",
       "      <td>2015-09-01 09:08:16</td>\n",
       "      <td>0</td>\n",
       "    </tr>\n",
       "  </tbody>\n",
       "</table>\n",
       "</div>"
      ],
      "text/plain": [
       "       VendorID  RateCodeID  Pickup_longitude  Pickup_latitude  \\\n",
       "1097          1           5        -73.921661        40.706581   \n",
       "2129          1           5        -73.931175        40.702847   \n",
       "2551          2           5        -73.953094        40.680672   \n",
       "5572          1           5        -73.925659        40.838451   \n",
       "10310         1           5        -73.948143        40.837135   \n",
       "\n",
       "       Dropoff_longitude  Dropoff_latitude  Passenger_count  Trip_distance  \\\n",
       "1097          -73.895645         40.703232                0           1.70   \n",
       "2129          -74.017197         40.642117                0           9.80   \n",
       "2551          -73.897552         40.677704                0           3.52   \n",
       "5572          -73.923317         40.816864                0           2.00   \n",
       "10310         -73.942070         40.842621                0           0.60   \n",
       "\n",
       "       Fare_amount  Extra  MTA_tax  Tip_amount  Tolls_amount  \\\n",
       "1097           0.0    0.0      0.0         0.0           0.0   \n",
       "2129           0.0    0.0      0.0         0.0           0.0   \n",
       "2551          20.0    0.0      0.0         0.0           0.0   \n",
       "5572           0.0    0.0      0.0         0.0           0.0   \n",
       "10310          0.0    0.0      0.0         0.0           0.0   \n",
       "\n",
       "       improvement_surcharge  Total_amount  Payment_type  Trip_type  \\\n",
       "1097                     0.0           0.0             2        2.0   \n",
       "2129                     0.0           0.0             2        2.0   \n",
       "2551                     0.0          20.0             2        2.0   \n",
       "5572                     0.0           0.0             2        2.0   \n",
       "10310                    0.0           0.0             2        2.0   \n",
       "\n",
       "              pickup_time        dropoff_time  flag_cat  \n",
       "1097  2015-09-01 00:44:17 2015-09-01 00:51:18         0  \n",
       "2129  2015-09-01 01:07:25 2015-09-01 01:27:51         0  \n",
       "2551  2015-09-01 02:21:00 2015-09-01 02:33:33         0  \n",
       "5572  2015-09-01 07:52:57 2015-09-01 08:05:09         0  \n",
       "10310 2015-09-01 09:04:28 2015-09-01 09:08:16         0  "
      ]
     },
     "execution_count": 12,
     "metadata": {},
     "output_type": "execute_result"
    }
   ],
   "source": [
    "# observe rows with 0 Passenger_count\n",
    "zero_p = green.loc[green['Passenger_count'] == 0]\n",
    "zero_p.head()"
   ]
  },
  {
   "cell_type": "markdown",
   "metadata": {},
   "source": [
    "Note: while Passenger_count = 0, some of the rows still have non-zero Fare_amount (and even pickup/dropoff time), so I assume some of the rows might have a wrong Passenger_count value. I will have a closer look at the following variables to verify this assumption."
   ]
  },
  {
   "cell_type": "code",
   "execution_count": 13,
   "metadata": {
    "scrolled": true
   },
   "outputs": [
    {
     "name": "stdout",
     "output_type": "stream",
     "text": [
      "5    432\n",
      "1      4\n",
      "3      3\n",
      "2      1\n",
      "Name: RateCodeID, dtype: int64\n",
      " 0.00      172\n",
      " 10.00      18\n",
      " 8.00       18\n",
      " 12.00      16\n",
      " 15.00      15\n",
      " 7.00        8\n",
      " 20.00       8\n",
      " 40.00       7\n",
      " 13.00       7\n",
      " 18.82       5\n",
      " 22.00       4\n",
      " 45.00       4\n",
      " 25.00       4\n",
      " 9.50        4\n",
      " 13.50       4\n",
      " 18.00       4\n",
      " 11.00       4\n",
      " 6.50        4\n",
      " 0.01        4\n",
      " 10.50       4\n",
      " 9.00        4\n",
      " 7.50        4\n",
      " 3.50        3\n",
      " 8.50        3\n",
      " 14.00       3\n",
      " 30.00       3\n",
      " 6.00        3\n",
      " 32.00       3\n",
      " 5.50        3\n",
      " 38.50       2\n",
      "          ... \n",
      " 35.50       1\n",
      " 26.00       1\n",
      " 66.00       1\n",
      " 65.50       1\n",
      " 44.00       1\n",
      " 88.50       1\n",
      " 14.44       1\n",
      " 30.50       1\n",
      "-12.00       1\n",
      " 54.00       1\n",
      " 15.50       1\n",
      "-1.00        1\n",
      " 132.00      1\n",
      "-132.00      1\n",
      " 45.50       1\n",
      " 12.35       1\n",
      " 32.50       1\n",
      " 17.58       1\n",
      "-3.00        1\n",
      " 92.00       1\n",
      "-13.00       1\n",
      " 19.26       1\n",
      " 41.00       1\n",
      " 16.50       1\n",
      " 21.50       1\n",
      " 19.00       1\n",
      " 58.26       1\n",
      " 31.00       1\n",
      " 0.27        1\n",
      " 14.46       1\n",
      "Name: Fare_amount, Length: 104, dtype: int64\n",
      "2    272\n",
      "1    155\n",
      "3     11\n",
      "4      2\n",
      "Name: Payment_type, dtype: int64\n"
     ]
    }
   ],
   "source": [
    "for col in ['RateCodeID', 'Fare_amount', 'Payment_type']:\n",
    "    print(zero_p[col].value_counts())"
   ]
  },
  {
   "cell_type": "markdown",
   "metadata": {},
   "source": [
    "Note: from this observation, I think we can safely drop the rows with 0 Fare_amount. For other rows, I will fill Passenger_count with median. Also, except from negative Fare_amount, values smaller than 2.5 appear. The starting price of NYC Green Taxi is $2.5 according to NYC.gov, so these values are also illegal."
   ]
  },
  {
   "cell_type": "code",
   "execution_count": 14,
   "metadata": {},
   "outputs": [
    {
     "name": "stdout",
     "output_type": "stream",
     "text": [
      "# rows to drop: 572\n",
      "# rows to drop: 172\n",
      "(1494182, 20)\n",
      "1.0    1255582\n",
      "2.0     114983\n",
      "5.0      57904\n",
      "3.0      33804\n",
      "6.0      22091\n",
      "4.0       9760\n",
      "8.0         29\n",
      "9.0         15\n",
      "7.0         14\n",
      "Name: Passenger_count, dtype: int64\n"
     ]
    }
   ],
   "source": [
    "idx_to_drop = green.loc[(green['Fare_amount'] > 0) & (green['Fare_amount'] < 2.5)].index\n",
    "print('# rows to drop:', len(idx_to_drop))\n",
    "green.drop([idx for idx in idx_to_drop], inplace=True)\n",
    "\n",
    "idx_to_drop = green.loc[(green['Passenger_count'] == 0) & (green['Fare_amount'] == 0)].index\n",
    "print('# rows to drop:', len(idx_to_drop))\n",
    "green.drop([idx for idx in idx_to_drop], inplace=True)\n",
    "\n",
    "print(green.shape)\n",
    "green.loc[green[green['Passenger_count'] == 0].index, 'Passenger_count'] = green['Passenger_count'].median()\n",
    "print(green['Passenger_count'].value_counts())"
   ]
  },
  {
   "cell_type": "markdown",
   "metadata": {},
   "source": [
    "Note: for the remaining 0 Passenger_count rows, I impute with median value. But not that fast! As Q4 requires a predictive model, it's better do the imputation after a train-test split on the whole dataset to avoid data leakage. "
   ]
  },
  {
   "cell_type": "code",
   "execution_count": 15,
   "metadata": {},
   "outputs": [
    {
     "data": {
      "text/plain": [
       "(20245, 20)"
      ]
     },
     "execution_count": 15,
     "metadata": {},
     "output_type": "execute_result"
    }
   ],
   "source": [
    "# observe rows with 0 Trip_distance\n",
    "zero_d = green.loc[green['Trip_distance'] == 0]\n",
    "zero_d.shape"
   ]
  },
  {
   "cell_type": "markdown",
   "metadata": {},
   "source": [
    "Note: after filtering 0 Fare_amount there are still many rows with 0 Trip_distance. As Q2 asks for its distribution, I will deal with this variable later."
   ]
  },
  {
   "cell_type": "code",
   "execution_count": 16,
   "metadata": {},
   "outputs": [
    {
     "name": "stdout",
     "output_type": "stream",
     "text": [
      " 0.0    683784\n",
      " 0.5    566412\n",
      " 1.0    242728\n",
      "-0.5       889\n",
      "-1.0       365\n",
      "Name: Extra, dtype: int64 (1494178, 20)\n"
     ]
    }
   ],
   "source": [
    "# imputation of Extra\n",
    "green.drop([idx for idx in green.loc[(green['Extra'].abs() != 1) & (green['Extra'].abs() != 0.5) & (green['Extra'] != 0)].index], inplace=True)\n",
    "print(green['Extra'].value_counts(), green.shape)"
   ]
  },
  {
   "cell_type": "code",
   "execution_count": 17,
   "metadata": {},
   "outputs": [
    {
     "name": "stdout",
     "output_type": "stream",
     "text": [
      "Check # negative values:\n",
      "Fare_amount 0\n",
      "Extra 0\n",
      "MTA_tax 0\n",
      "Tip_amount 0\n",
      "Tolls_amount 0\n",
      "improvement_surcharge 0\n",
      "Total_amount 0\n"
     ]
    }
   ],
   "source": [
    "# deal with negative values\n",
    "print('Check # negative values:')\n",
    "for col in ['Fare_amount', 'Extra', 'MTA_tax','Tip_amount', 'Tolls_amount', 'improvement_surcharge', 'Total_amount']:\n",
    "    green[col] = green[col].abs()\n",
    "    print(col, len(green[green[col] < 0].index))"
   ]
  },
  {
   "cell_type": "markdown",
   "metadata": {},
   "source": [
    "## <span style=\"color:DarkTurquoise\">Q2: histogram of Trip_distance</span>"
   ]
  },
  {
   "cell_type": "code",
   "execution_count": 18,
   "metadata": {},
   "outputs": [
    {
     "data": {
      "text/plain": [
       "<matplotlib.axes._subplots.AxesSubplot at 0x1140537f0>"
      ]
     },
     "execution_count": 18,
     "metadata": {},
     "output_type": "execute_result"
    },
    {
     "data": {
      "image/png": "[encoded data removed]",
      "text/plain": [
       "<Figure size 432x288 with 1 Axes>"
      ]
     },
     "metadata": {
      "needs_background": "light"
     },
     "output_type": "display_data"
    }
   ],
   "source": [
    "# green['Trip_distance'].plot(kind='hist', bins=50)\n",
    "plt.title('Histogram of Trip_distance')\n",
    "plt.xlabel('Trip_distance')\n",
    "plt.ylabel('Count')\n",
    "plt.xlim((green['Trip_distance'].min(), green['Trip_distance'].max()))\n",
    "\n",
    "sns.distplot(green['Trip_distance'], bins=50, kde=False)"
   ]
  },
  {
   "cell_type": "markdown",
   "metadata": {},
   "source": [
    "Note: a long tail is observed, which means there are outlier trip with unusually long distance. Excluding the outliers who are 3 standard deviation from mean, the distribution looks as follows."
   ]
  },
  {
   "cell_type": "markdown",
   "metadata": {},
   "source": [
    "## <span style=\"color:DarkTurquoise\">The graph below is the most representative distribution of Trip_distance.</span>"
   ]
  },
  {
   "cell_type": "markdown",
   "metadata": {},
   "source": [
    "The idea of identifying outlier at beyond 3 standard deviation comes from [this post](https://github.com/kthouz/NYC_Green_Taxi)."
   ]
  },
  {
   "cell_type": "code",
   "execution_count": 19,
   "metadata": {},
   "outputs": [
    {
     "data": {
      "text/plain": [
       "<matplotlib.axes._subplots.AxesSubplot at 0x114032b70>"
      ]
     },
     "execution_count": 19,
     "metadata": {},
     "output_type": "execute_result"
    },
    {
     "data": {
      "image/png": "[encoded data removed]",
      "text/plain": [
       "<Figure size 432x288 with 1 Axes>"
      ]
     },
     "metadata": {
      "needs_background": "light"
     },
     "output_type": "display_data"
    }
   ],
   "source": [
    "v = green['Trip_distance']\n",
    "outliers = (v - v.mean()).abs() > v.std()*3\n",
    "# v[~outliers].plot(kind='hist', bins=50)\n",
    "plt.title('Histogram of Trip_distance without outliers')\n",
    "plt.xlabel('Trip_distance')\n",
    "plt.ylabel('Count')\n",
    "plt.xlim((v[~outliers].min(), v[~outliers].max()))\n",
    "sns.distplot(v[~outliers], bins=50)"
   ]
  },
  {
   "cell_type": "markdown",
   "metadata": {},
   "source": [
    "### <span style=\"color:DarkTurquoise\"><br>Answer to Q2:</br><br> </br><br>Structure: the distribution is highly right-skewed, which means a large proportion people take taxi for a short distance, and as the distance to destination become longer, the frequency of such trips become lower.</br>  <br> </br><br>Hypothesis: this aligns well with the real life scenario, the phenomenon might follows a lognormal distribution.</br></span>"
   ]
  },
  {
   "cell_type": "code",
   "execution_count": 20,
   "metadata": {},
   "outputs": [
    {
     "data": {
      "image/png": "[encoded data removed]",
      "text/plain": [
       "<Figure size 720x288 with 2 Axes>"
      ]
     },
     "metadata": {
      "needs_background": "light"
     },
     "output_type": "display_data"
    }
   ],
   "source": [
    "fig, [ax1, ax2] = plt.subplots(1, 2, figsize=(10,4), sharey=True)\n",
    "green['Trip_distance'].plot(kind='hist', bins=50, ax=ax1)\n",
    "ax1.set_title('Trip_distance with outliers')\n",
    "ax1.set_xlabel('Trip_distance')\n",
    "ax1.set_ylabel('Count')\n",
    "\n",
    "v = green['Trip_distance']\n",
    "outliers = (v - v.mean()).abs() > v.std()*3\n",
    "v[~outliers].plot(kind='hist', bins=50, ax=ax2)\n",
    "ax2.set_title('Trip_distance without outliers')\n",
    "ax2.set_xlabel('Trip_distance')\n",
    "\n",
    "plt.tight_layout()"
   ]
  },
  {
   "cell_type": "markdown",
   "metadata": {},
   "source": [
    "Note: this is a complementary comparison. Although this side-by-side comparison cannot illustrate the distribution of Trip_distance so well, we can observe the impact of outliers. Notice the count of the highest bar from the left graph is approximately the sum of count from the right graph. For the clear illustration for distribution, please refer to the last block of codes."
   ]
  },
  {
   "cell_type": "markdown",
   "metadata": {},
   "source": [
    "## <span style=\"color:DarkTurquoise\">Q3-1: mean and median trip distance grouped by hour of day</span>"
   ]
  },
  {
   "cell_type": "code",
   "execution_count": 21,
   "metadata": {
    "scrolled": true
   },
   "outputs": [
    {
     "name": "stdout",
     "output_type": "stream",
     "text": [
      "    mean_dist  median_dist\n",
      "0    3.116141         2.20\n",
      "1    3.017833         2.12\n",
      "2    3.046598         2.14\n",
      "3    3.194429         2.20\n",
      "4    3.525938         2.36\n",
      "5    4.135145         2.90\n",
      "6    4.057262         2.85\n",
      "7    3.284835         2.17\n",
      "8    3.047975         1.98\n",
      "9    2.999596         1.96\n",
      "10   2.944422         1.92\n",
      "11   2.912562         1.88\n",
      "12   2.904905         1.89\n",
      "13   2.880259         1.84\n",
      "14   2.866145         1.83\n",
      "15   2.857249         1.81\n",
      "16   2.781190         1.80\n",
      "17   2.679822         1.78\n",
      "18   2.653856         1.80\n",
      "19   2.715991         1.85\n",
      "20   2.777105         1.90\n",
      "21   2.999758         2.03\n",
      "22   3.185496         2.20\n",
      "23   3.191918         2.22\n"
     ]
    },
    {
     "data": {
      "text/plain": [
       "(0, 23)"
      ]
     },
     "execution_count": 21,
     "metadata": {},
     "output_type": "execute_result"
    },
    {
     "data": {
      "image/png": "[encoded data removed]",
      "text/plain": [
       "<Figure size 432x288 with 1 Axes>"
      ]
     },
     "metadata": {
      "needs_background": "light"
     },
     "output_type": "display_data"
    }
   ],
   "source": [
    "green['pickup_hour'] = green['pickup_time'].dt.hour\n",
    "grp = green.groupby('pickup_hour')['Trip_distance']\n",
    "\n",
    "mean_dist = grp.mean()\n",
    "median_dist = grp.median()\n",
    "mmt = pd.concat([mean_dist, median_dist], axis=1).reset_index().drop('pickup_hour', axis=1)\n",
    "mmt.columns = ['mean_dist', 'median_dist']\n",
    "print(mmt)\n",
    "\n",
    "mmt.plot(kind='area')\n",
    "plt.title('Mean and median Trip_distance by hour')\n",
    "plt.xlabel('Hour')\n",
    "plt.ylabel('Trip_distance')\n",
    "plt.xticks(np.arange(24))\n",
    "plt.xlim((0,23))\n",
    "\n",
    "# table = green.pivot_table(index='pickup_hour', values='Trip_distance', aggfunc=('mean', 'median'))\n",
    "# table.columns = ['mean_dist', 'median_dist']\n",
    "# print(table)"
   ]
  },
  {
   "cell_type": "markdown",
   "metadata": {},
   "source": [
    "## <span style=\"color:DarkTurquoise\">Q3-2: trip to airports</span>"
   ]
  },
  {
   "cell_type": "markdown",
   "metadata": {},
   "source": [
    "Note: as observed from [data dictionary](http://www.nyc.gov/html/tlc/downloads/pdf/data_dictionary_trip_records_green.pdf), LGA airport is not included in RateCodeID, so we have to manually find out from the latitude and longitude. I choose bottom-left/upper-right corner of a rectangle as an estimation of the LGA area. This estimation will be risky as it may include area that is not a taxi dropoff spot. As the number of trips to LGA is similar to the number of trips to JFK/EWR with LGA being more popular among the 3, the estimation might be probable."
   ]
  },
  {
   "cell_type": "code",
   "execution_count": 22,
   "metadata": {},
   "outputs": [
    {
     "name": "stdout",
     "output_type": "stream",
     "text": [
      "# trips to airports:\n",
      "0    1484449\n",
      "2       4435\n",
      "1       4177\n",
      "3       1117\n",
      "Name: airport, dtype: int64\n",
      "\n",
      "For each airport:\n",
      "airport\n",
      "0    12.420651\n",
      "1    18.513773\n",
      "2    51.788952\n",
      "3    49.690242\n",
      "Name: Fare_amount, dtype: float64\n",
      "\n",
      "Overall:\n",
      "9729\n",
      "37.26179771816219\n"
     ]
    }
   ],
   "source": [
    "# estimate LGA coordinates\n",
    "mask = (((green['Dropoff_latitude'] >= 40.768423) & \n",
    "          (green['Dropoff_latitude'] <= 40.773098) & \n",
    "          (green['Dropoff_longitude'] >= -73.884783) & \n",
    "          (green['Dropoff_longitude'] <= -73.865387)) |\n",
    "        ((green['Pickup_latitude'] >= 40.768423) & \n",
    "          (green['Pickup_latitude'] <= 40.773098) & \n",
    "          (green['Pickup_longitude'] >= -73.884783) & \n",
    "          (green['Pickup_longitude'] <= -73.865387)))\n",
    "\n",
    "# add new column to specify airports\n",
    "# Non-airport:0, LGA:1, JFK:2, EWR:3\n",
    "green['airport'] = 0\n",
    "green.loc[green[mask].index, 'airport'] = 1\n",
    "green.loc[green[green['RateCodeID'] == 2].index, 'airport'] = 2\n",
    "green.loc[green[green['RateCodeID'] == 3].index, 'airport'] = 3\n",
    "print('# trips to airports:')\n",
    "print(green['airport'].value_counts())\n",
    "\n",
    "print('\\nFor each airport:')\n",
    "print(green.groupby('airport')['Fare_amount'].mean())\n",
    "print('\\nOverall:')\n",
    "airport = green[green['airport'] != 0]\n",
    "print(airport.shape[0])\n",
    "print(airport['Fare_amount'].mean())"
   ]
  },
  {
   "cell_type": "markdown",
   "metadata": {},
   "source": [
    "### <span style=\"color:DarkTurquoise\">Answer to Q3-2: # transactions to LGA/JFK/EWR are 4177, 4435, 1117; average fare are 18.513773, 51.788952, 49.690242 accordingly.</span>"
   ]
  },
  {
   "cell_type": "markdown",
   "metadata": {},
   "source": [
    "### Other interesting characteristics \n",
    "### - proportion of airport trips"
   ]
  },
  {
   "cell_type": "code",
   "execution_count": 23,
   "metadata": {},
   "outputs": [
    {
     "data": {
      "image/png": "[encoded data removed]",
      "text/plain": [
       "<Figure size 720x288 with 2 Axes>"
      ]
     },
     "metadata": {},
     "output_type": "display_data"
    }
   ],
   "source": [
    "# proportion of airport trips\n",
    "labels1 = ['Non-airport', 'Airport']\n",
    "sizes1 = [len(green[green['airport'] == 0].index), green.shape[0] - len(green[green['airport'] == 0].index)]\n",
    "explode1 = (0,0.1)\n",
    "\n",
    "labels2 = ['JFK', 'LGA', 'EWR']\n",
    "sizes2 = green['airport'].value_counts()[1:]\n",
    "\n",
    "fig1, [ax1, ax2] = plt.subplots(1, 2, figsize=(10,4))\n",
    "ax1.pie(sizes1, explode=explode1, labels=labels1, autopct='%1.1f%%', startangle=90)\n",
    "ax1.axis('equal')\n",
    "ax1.set_title('Airport vs Non-airport trips')\n",
    "ax2.pie(sizes2, labels=labels2, autopct='%1.1f%%', startangle=90)\n",
    "ax2.axis('equal')\n",
    "ax2.set_title('Proportion of trips to different airports')\n",
    "plt.show()"
   ]
  },
  {
   "cell_type": "markdown",
   "metadata": {},
   "source": [
    "### - proportion of payment types"
   ]
  },
  {
   "cell_type": "code",
   "execution_count": 24,
   "metadata": {},
   "outputs": [
    {
     "data": {
      "image/png": "[encoded data removed]",
      "text/plain": [
       "<Figure size 720x288 with 2 Axes>"
      ]
     },
     "metadata": {},
     "output_type": "display_data"
    }
   ],
   "source": [
    "# proportion of payment types\n",
    "non_airport = green[green['airport'] == 0]\n",
    "\n",
    "labels = ['Credit card', 'Cash', 'Others']\n",
    "cnt1 = non_airport['Payment_type'].value_counts().sort_index()\n",
    "cnt2 = airport['Payment_type'].value_counts().sort_index()\n",
    "sizes1 = [cnt1[1], cnt1[2], cnt1[3:].sum()]\n",
    "sizes2 = [cnt2[1], cnt2[2], cnt2[3:].sum()]\n",
    "\n",
    "fig, [ax1, ax2] = plt.subplots(1, 2, figsize=(10, 4))\n",
    "ax1.pie(sizes1, labels=labels, autopct='%1.1f%%', startangle=90)\n",
    "ax1.axis('equal')\n",
    "ax1.set_title('Payment_type for non-airport trips')\n",
    "ax2.pie(sizes2, labels=labels, autopct='%1.1f%%', startangle=90)\n",
    "ax2.axis('equal')\n",
    "ax2.set_title('Payment_type for airport trips')\n",
    "plt.show()"
   ]
  },
  {
   "cell_type": "markdown",
   "metadata": {},
   "source": [
    "### - proportion of trip types"
   ]
  },
  {
   "cell_type": "code",
   "execution_count": 25,
   "metadata": {},
   "outputs": [
    {
     "data": {
      "image/png": "[encoded data removed]",
      "text/plain": [
       "<Figure size 720x288 with 2 Axes>"
      ]
     },
     "metadata": {},
     "output_type": "display_data"
    }
   ],
   "source": [
    "# proportion of trip types\n",
    "labels = ['Street-hail', 'Dispatch']\n",
    "sizes1 = non_airport['Trip_type'].value_counts().sort_index()\n",
    "sizes2 = airport['Trip_type'].value_counts().sort_index()\n",
    "\n",
    "fig, [ax1, ax2] = plt.subplots(1, 2, figsize=(10, 4))\n",
    "ax1.pie(sizes1, labels=labels, autopct='%1.1f%%', startangle=90)\n",
    "ax1.axis('equal')\n",
    "ax1.set_title('Trip_type for non-airport trips')\n",
    "ax2.pie(sizes2, labels=labels, autopct='%1.1f%%', startangle=90)\n",
    "ax2.axis('equal')\n",
    "ax2.set_title('Trip_type for airport trips')\n",
    "plt.show()"
   ]
  },
  {
   "cell_type": "markdown",
   "metadata": {},
   "source": [
    "Note: I thought there might be more people use credit card/call dispatch to go to airports, because these trips could be pre-aranged according to flight time. However, it turns out there is not much discrepancy between non-airport and airport trips for these two factors."
   ]
  },
  {
   "cell_type": "markdown",
   "metadata": {},
   "source": [
    "### - trip distance distribution"
   ]
  },
  {
   "cell_type": "markdown",
   "metadata": {},
   "source": [
    "Note: recall I haven't deal with the trips with 0 Trip_distance in the data cleaning step. Here I want to estimate Trip_distance from Fare_amount with an intuitive linear regression, because according to [Taxicab Rate of Fare](http://www.nyc.gov/html/tlc/html/passenger/taxicab_rate.shtml), amount of fare increases linearly as trip distance increases. Also, I only used data of airport trips to fit the model due to computation cost. Afterwards, I infer Trip_distance with a 0 value for both non-airport and airport trips. "
   ]
  },
  {
   "cell_type": "markdown",
   "metadata": {},
   "source": [
    "<span style=\"color:red\">Mistake: still, in order to avoid data leakage in Q4, I should make a copy of the dataframe for the purpose of illustrating the distribution, and will carry out same imputaiton on the train set again later.</span>"
   ]
  },
  {
   "cell_type": "code",
   "execution_count": 26,
   "metadata": {},
   "outputs": [
    {
     "name": "stdout",
     "output_type": "stream",
     "text": [
      "Relationship between Fare_amount and Trip_distance: y=0.2x+0.4\n"
     ]
    },
    {
     "data": {
      "image/png": "[encoded data removed]",
      "text/plain": [
       "<Figure size 360x360 with 1 Axes>"
      ]
     },
     "metadata": {
      "needs_background": "light"
     },
     "output_type": "display_data"
    }
   ],
   "source": [
    "# fare~distance regression\n",
    "d = airport[(airport['Trip_distance'] != 0) & (airport['Trip_distance'] - airport['Trip_distance'].mean() <= airport['Trip_distance'].std() * 3)]\n",
    "slope, intercept, r_value, p_value, std_err = stats.linregress(d['Fare_amount'], d['Trip_distance'])\n",
    "sns.lmplot(x='Fare_amount', y='Trip_distance', data=d)\n",
    "print('Relationship between Fare_amount and Trip_distance: y={0:.1f}x+{1:.1f}'.format(slope, intercept))"
   ]
  },
  {
   "cell_type": "code",
   "execution_count": 27,
   "metadata": {},
   "outputs": [
    {
     "name": "stdout",
     "output_type": "stream",
     "text": [
      "# trips with 0 Trip_distance: 20243\n",
      "    Trip_distance  Fare_amount\n",
      "0            1.96          7.8\n",
      "1            9.40         45.0\n",
      "28           1.10          3.5\n",
      "31          10.80         52.0\n",
      "44           2.20          9.0\n"
     ]
    }
   ],
   "source": [
    "# impute Trip_distance from Fare_amount\n",
    "idx = green[green['Trip_distance'] == 0].index\n",
    "print('# trips with 0 Trip_distance:', len(idx))\n",
    "green.loc[idx, 'Trip_distance'] = 0.2 * green.loc[idx, 'Fare_amount'] + 0.4\n",
    "print(green.loc[idx, ['Trip_distance', 'Fare_amount']].head())"
   ]
  },
  {
   "cell_type": "code",
   "execution_count": 28,
   "metadata": {},
   "outputs": [
    {
     "data": {
      "text/plain": [
       "(0, 32.8)"
      ]
     },
     "execution_count": 28,
     "metadata": {},
     "output_type": "execute_result"
    },
    {
     "data": {
      "image/png": "[encoded data removed]",
      "text/plain": [
       "<Figure size 720x288 with 2 Axes>"
      ]
     },
     "metadata": {
      "needs_background": "light"
     },
     "output_type": "display_data"
    }
   ],
   "source": [
    "# trip distance distribution for non-airport and airport trips\n",
    "airport_non_zero = green[green['airport'] != 0]\n",
    "non_airport_non_zero = green[green['airport'] == 0]\n",
    "v1 = airport_non_zero['Trip_distance']\n",
    "v1 = v1[~((v1 - v1.mean() > v1.std() * 3))]\n",
    "v2 = non_airport_non_zero['Trip_distance']\n",
    "v2 = v2[~((v2 - v2.mean() > v2.std() * 3))]\n",
    "fig, [ax1, ax2] = plt.subplots(1,2,figsize=(10,4), sharey=True)\n",
    "v1.plot(kind='hist', bins=50, density=True, ax=ax1)\n",
    "v2.plot(kind='hist', bins=50, density=True, ax=ax2)\n",
    "plt.suptitle('Trip distance distribution')\n",
    "ax1.set_xlabel('airport')\n",
    "ax1.set_ylabel('%')\n",
    "ax1.set_xlim((0, v1.max()))\n",
    "ax2.set_xlabel('non_airport')\n",
    "ax2.set_xlim((0, v1.max()))"
   ]
  },
  {
   "cell_type": "markdown",
   "metadata": {},
   "source": [
    "Note: with estimated Trip_distance, there isn't a huge spike at 0 value in both graphs anymore, which is more a realistic situation. From the airport trip graph, we can observe spikes at around 4, 11, 18 miles, which might correspond to different destination airports."
   ]
  },
  {
   "cell_type": "markdown",
   "metadata": {},
   "source": [
    "### - pickup hour distribution"
   ]
  },
  {
   "cell_type": "code",
   "execution_count": 30,
   "metadata": {},
   "outputs": [
    {
     "data": {
      "text/plain": [
       "<matplotlib.legend.Legend at 0x114525f60>"
      ]
     },
     "execution_count": 30,
     "metadata": {},
     "output_type": "execute_result"
    },
    {
     "data": {
      "image/png": "[encoded data removed]",
      "text/plain": [
       "<Figure size 432x288 with 1 Axes>"
      ]
     },
     "metadata": {
      "needs_background": "light"
     },
     "output_type": "display_data"
    }
   ],
   "source": [
    "airport['pickup_hour'].value_counts(normalize=True).sort_index().plot()\n",
    "non_airport['pickup_hour'].value_counts(normalize=True).sort_index().plot()\n",
    "plt.title('Pickup hour distribution')\n",
    "plt.xlabel('Hour')\n",
    "plt.xlim((0,23))\n",
    "plt.xticks(np.arange(24))\n",
    "plt.ylabel('%')\n",
    "plt.legend(['airport', 'non_airport'])"
   ]
  },
  {
   "cell_type": "markdown",
   "metadata": {},
   "source": [
    "Note: it might be that most people buy flight departing in the evening, so the number of trips peaks at the afternoon pickup hours. "
   ]
  },
  {
   "cell_type": "markdown",
   "metadata": {},
   "source": [
    "## <span style=\"color:DarkTurquoise\">Q4-1: tip as percentage of total fare</span>"
   ]
  },
  {
   "cell_type": "code",
   "execution_count": 31,
   "metadata": {},
   "outputs": [
    {
     "name": "stdout",
     "output_type": "stream",
     "text": [
      "count    1.490170e+06\n",
      "mean     6.655879e+00\n",
      "std      8.873516e+00\n",
      "min      0.000000e+00\n",
      "25%      0.000000e+00\n",
      "50%      0.000000e+00\n",
      "75%      1.666667e+01\n",
      "max      1.000000e+02\n",
      "Name: Tip_percent, dtype: float64\n"
     ]
    }
   ],
   "source": [
    "green['Tip_percent'] = green['Tip_amount']/green['Total_amount']*100\n",
    "print(green['Tip_percent'].describe())"
   ]
  },
  {
   "cell_type": "code",
   "execution_count": 32,
   "metadata": {},
   "outputs": [
    {
     "name": "stdout",
     "output_type": "stream",
     "text": [
      "# trips with nan Tip_percent 4008\n",
      "(1490170, 23)\n"
     ]
    }
   ],
   "source": [
    "print('# trips with nan Tip_percent', len(green[green['Tip_percent'].isnull() == True].index))\n",
    "green.dropna(subset=['Tip_percent'], inplace=True)\n",
    "print(green.shape)"
   ]
  },
  {
   "cell_type": "markdown",
   "metadata": {},
   "source": [
    "Note: there still are nan in Tip_percent. Having a closer look, for these rows, Fare_amount/Tip_amount/Total_amount are all 0s. Although with the linear regression between Fare_amount and Trip_distance, it is possible to estimate Fare_amount for these rows, but still we cannot guess Tip_amount out of blue. Thus, I choose to drop these rows."
   ]
  },
  {
   "cell_type": "markdown",
   "metadata": {},
   "source": [
    "## <span style=\"color:DarkTurquoise\">Q4-2: predictive model for tip percentage</span>"
   ]
  },
  {
   "cell_type": "markdown",
   "metadata": {},
   "source": [
    "### Prepare more meaningful factors for the model"
   ]
  },
  {
   "cell_type": "code",
   "execution_count": 33,
   "metadata": {},
   "outputs": [
    {
     "data": {
      "text/plain": [
       "Index(['VendorID', 'RateCodeID', 'Pickup_longitude', 'Pickup_latitude',\n",
       "       'Dropoff_longitude', 'Dropoff_latitude', 'Passenger_count',\n",
       "       'Trip_distance', 'Fare_amount', 'Extra', 'MTA_tax', 'Tip_amount',\n",
       "       'Tolls_amount', 'improvement_surcharge', 'Total_amount', 'Payment_type',\n",
       "       'Trip_type', 'pickup_time', 'dropoff_time', 'flag_cat', 'pickup_hour',\n",
       "       'airport', 'Tip_percent'],\n",
       "      dtype='object')"
      ]
     },
     "execution_count": 33,
     "metadata": {},
     "output_type": "execute_result"
    }
   ],
   "source": [
    "green.columns"
   ]
  },
  {
   "cell_type": "code",
   "execution_count": 34,
   "metadata": {},
   "outputs": [
    {
     "name": "stdout",
     "output_type": "stream",
     "text": [
      "4    434190\n",
      "1    386337\n",
      "2    345688\n",
      "3    318056\n",
      "0      5899\n",
      "Name: direction, dtype: int64\n",
      "(1490170, 21)\n"
     ]
    }
   ],
   "source": [
    "# group by different time window\n",
    "green['pickup_date'] = green['pickup_time'].dt.day\n",
    "green['dropoff_hour'] = green['dropoff_time'].dt.hour\n",
    "green['dropoff_date'] = green['dropoff_time'].dt.day\n",
    "\n",
    "# direction\n",
    "green['direction'] = 0\n",
    "green.loc[(green['Dropoff_longitude'] - green['Pickup_longitude'] > 0) & (green['Dropoff_latitude'] - green['Pickup_latitude'] > 0), 'direction'] = 1\n",
    "green.loc[(green['Dropoff_longitude'] - green['Pickup_longitude'] > 0) & (green['Dropoff_latitude'] - green['Pickup_latitude'] < 0), 'direction'] = 2\n",
    "green.loc[(green['Dropoff_longitude'] - green['Pickup_longitude'] < 0) & (green['Dropoff_latitude'] - green['Pickup_latitude'] > 0), 'direction'] = 3\n",
    "green.loc[(green['Dropoff_longitude'] - green['Pickup_longitude'] < 0) & (green['Dropoff_latitude'] - green['Pickup_latitude'] < 0), 'direction'] = 4\n",
    "print(green['direction'].value_counts())\n",
    "\n",
    "# drop highly correlated factors to reduce noise\n",
    "pickup_time = green['pickup_time']\n",
    "dropoff_time = green['dropoff_time']\n",
    "green.drop(['Pickup_longitude', 'Pickup_latitude', 'Dropoff_longitude', 'Dropoff_latitude', 'pickup_time', 'dropoff_time'], axis=1, inplace=True)\n",
    "print(green.shape)"
   ]
  },
  {
   "cell_type": "code",
   "execution_count": 36,
   "metadata": {},
   "outputs": [
    {
     "name": "stdout",
     "output_type": "stream",
     "text": [
      "\n",
      " VendorID\n",
      "2    1167996\n",
      "1     322174\n",
      "Name: VendorID, dtype: int64\n",
      "False    1490170\n",
      "Name: VendorID, dtype: int64\n",
      "\n",
      " flag_cat\n",
      "0    1481601\n",
      "1       8569\n",
      "Name: flag_cat, dtype: int64\n",
      "False    1490170\n",
      "Name: flag_cat, dtype: int64\n",
      "\n",
      " RateCodeID\n",
      "1    1453668\n",
      "5      30014\n",
      "2       4417\n",
      "3       1115\n",
      "4        920\n",
      "6         36\n",
      "Name: RateCodeID, dtype: int64\n",
      "False    1490170\n",
      "Name: RateCodeID, dtype: int64\n",
      "\n",
      " Passenger_count\n",
      "1.0    1252287\n",
      "2.0     114524\n",
      "5.0      57854\n",
      "3.0      33662\n",
      "6.0      22087\n",
      "4.0       9702\n",
      "8.0         29\n",
      "7.0         14\n",
      "9.0         11\n",
      "Name: Passenger_count, dtype: int64\n",
      "False    1490170\n",
      "Name: Passenger_count, dtype: int64\n",
      "\n",
      " Payment_type\n",
      "2    779578\n",
      "1    700935\n",
      "3      5261\n",
      "4      4324\n",
      "5        72\n",
      "Name: Payment_type, dtype: int64\n",
      "False    1490170\n",
      "Name: Payment_type, dtype: int64\n",
      "\n",
      " Trip_type\n",
      "1.0    1460603\n",
      "2.0      29567\n",
      "Name: Trip_type, dtype: int64\n",
      "False    1490170\n",
      "Name: Trip_type, dtype: int64\n",
      "\n",
      " pickup_hour\n",
      "18    97064\n",
      "19    95971\n",
      "20    90607\n",
      "17    87808\n",
      "21    86363\n",
      "22    84513\n",
      "23    79635\n",
      "16    78895\n",
      "15    73527\n",
      "0     67007\n",
      "14    66405\n",
      "9     61785\n",
      "8     58694\n",
      "12    57582\n",
      "13    57250\n",
      "10    57182\n",
      "11    56519\n",
      "1     53642\n",
      "7     41730\n",
      "2     41108\n",
      "3     31531\n",
      "4     26297\n",
      "6     22475\n",
      "5     16580\n",
      "Name: pickup_hour, dtype: int64\n",
      "False    1490170\n",
      "Name: pickup_hour, dtype: int64\n",
      "\n",
      " pickup_date\n",
      "19    68176\n",
      "12    66807\n",
      "26    65444\n",
      "5     58659\n",
      "18    57361\n",
      "20    57043\n",
      "11    56490\n",
      "13    55358\n",
      "27    54698\n",
      "25    54002\n",
      "4     53922\n",
      "6     52969\n",
      "10    52881\n",
      "17    49794\n",
      "3     48179\n",
      "16    46661\n",
      "9     46642\n",
      "30    46495\n",
      "29    43505\n",
      "2     43260\n",
      "8     42832\n",
      "21    42122\n",
      "7     41940\n",
      "28    41693\n",
      "1     41399\n",
      "23    41036\n",
      "15    41020\n",
      "22    40719\n",
      "24    40028\n",
      "14    39035\n",
      "Name: pickup_date, dtype: int64\n",
      "False    1490170\n",
      "Name: pickup_date, dtype: int64\n",
      "\n",
      " dropoff_hour\n",
      "18    97244\n",
      "19    96538\n",
      "20    93565\n",
      "21    86307\n",
      "17    85327\n",
      "22    84409\n",
      "23    81134\n",
      "16    77745\n",
      "0     72900\n",
      "15    71269\n",
      "14    63356\n",
      "9     62406\n",
      "10    58961\n",
      "12    57764\n",
      "13    57016\n",
      "1     56656\n",
      "11    55927\n",
      "8     54885\n",
      "2     43392\n",
      "7     35766\n",
      "3     32436\n",
      "4     27845\n",
      "6     19758\n",
      "5     17564\n",
      "Name: dropoff_hour, dtype: int64\n",
      "False    1490170\n",
      "Name: dropoff_hour, dtype: int64\n",
      "\n",
      " dropoff_date\n",
      "19    67890\n",
      "12    66575\n",
      "26    65027\n",
      "5     58586\n",
      "20    57791\n",
      "18    56881\n",
      "11    56039\n",
      "13    55924\n",
      "27    55410\n",
      "4     53591\n",
      "25    53444\n",
      "6     53172\n",
      "10    52706\n",
      "17    49552\n",
      "3     48042\n",
      "16    46608\n",
      "30    46467\n",
      "9     46413\n",
      "29    43439\n",
      "2     43187\n",
      "8     42823\n",
      "21    42485\n",
      "7     42320\n",
      "28    42048\n",
      "1     41613\n",
      "15    41004\n",
      "23    40967\n",
      "22    40705\n",
      "24    40030\n",
      "14    39431\n",
      "Name: dropoff_date, dtype: int64\n",
      "False    1490170\n",
      "Name: dropoff_date, dtype: int64\n",
      "\n",
      " airport\n",
      "0    1480477\n",
      "2       4417\n",
      "1       4161\n",
      "3       1115\n",
      "Name: airport, dtype: int64\n",
      "False    1490170\n",
      "Name: airport, dtype: int64\n",
      "\n",
      " direction\n",
      "4    434190\n",
      "1    386337\n",
      "2    345688\n",
      "3    318056\n",
      "0      5899\n",
      "Name: direction, dtype: int64\n",
      "False    1490170\n",
      "Name: direction, dtype: int64\n",
      "\n",
      " Trip_distance\n",
      "False    1490170\n",
      "Name: Trip_distance, dtype: int64\n",
      "\n",
      " Fare_amount\n",
      "False    1490170\n",
      "Name: Fare_amount, dtype: int64\n",
      "\n",
      " Extra\n",
      "False    1490170\n",
      "Name: Extra, dtype: int64\n",
      "\n",
      " MTA_tax\n",
      "False    1490170\n",
      "Name: MTA_tax, dtype: int64\n",
      "\n",
      " Tip_amount\n",
      "False    1490170\n",
      "Name: Tip_amount, dtype: int64\n",
      "\n",
      " Tolls_amount\n",
      "False    1490170\n",
      "Name: Tolls_amount, dtype: int64\n",
      "\n",
      " improvement_surcharge\n",
      "False    1490170\n",
      "Name: improvement_surcharge, dtype: int64\n",
      "\n",
      " Total_amount\n",
      "False    1490170\n",
      "Name: Total_amount, dtype: int64\n",
      "\n",
      " Tip_percent\n",
      "False    1490170\n",
      "Name: Tip_percent, dtype: int64\n"
     ]
    }
   ],
   "source": [
    "# check illegal and null values\n",
    "col_discrete = ['VendorID','flag_cat','RateCodeID','Passenger_count','Payment_type','Trip_type','pickup_hour', 'pickup_date', 'dropoff_hour', 'dropoff_date', 'airport', 'direction']\n",
    "col_continuous = ['Trip_distance', 'Fare_amount', 'Extra', 'MTA_tax','Tip_amount', 'Tolls_amount', 'improvement_surcharge', 'Total_amount', 'Tip_percent']\n",
    "\n",
    "for col in col_discrete:\n",
    "    print('\\n',col)\n",
    "    print(green[col].value_counts())\n",
    "    print(green[col].isnull().value_counts())\n",
    "for col in col_continuous:\n",
    "    print('\\n',col)\n",
    "    print(green[col].isnull().value_counts())"
   ]
  },
  {
   "cell_type": "code",
   "execution_count": 37,
   "metadata": {},
   "outputs": [
    {
     "data": {
      "image/png": "[encoded data removed]",
      "text/plain": [
       "<Figure size 432x288 with 2 Axes>"
      ]
     },
     "metadata": {
      "needs_background": "light"
     },
     "output_type": "display_data"
    }
   ],
   "source": [
    "ordered_col = ['VendorID', 'RateCodeID', 'flag_cat', 'Passenger_count',\n",
    "       'Trip_distance', 'Fare_amount', 'Extra', 'MTA_tax', 'Tip_amount',\n",
    "       'Tolls_amount', 'improvement_surcharge', 'Total_amount', 'Payment_type',\n",
    "       'Trip_type', 'pickup_hour', 'pickup_date', 'dropoff_hour',  'dropoff_date', 'direction', \n",
    "       'airport', 'Tip_percent']\n",
    "green = green[ordered_col]\n",
    "\n",
    "corr = green.corr()\n",
    "factor_mask = np.zeros_like(corr, dtype=np.bool)\n",
    "factor_mask[np.triu_indices_from(factor_mask)] = True\n",
    "sns.heatmap(corr, vmax = .8, square=True, cmap = 'afmhot', mask=factor_mask)\n",
    "\n",
    "plt.show()"
   ]
  },
  {
   "cell_type": "markdown",
   "metadata": {},
   "source": [
    "Note: from the last line of this correlation map, we can observe the following: Tip_percent is highly correlated to Payment_type, Tip_amount; there's also correlation between Tip_percent and Total_amount, RateCodeID, Trip_type. Some of the factor groups are also highly correlated, such as Trip_type, MTA_tax, improvement_surcharge."
   ]
  },
  {
   "cell_type": "markdown",
   "metadata": {},
   "source": [
    "### Model setup"
   ]
  },
  {
   "cell_type": "code",
   "execution_count": 38,
   "metadata": {},
   "outputs": [],
   "source": [
    "from sklearn.model_selection import train_test_split\n",
    "\n",
    "features = np.asarray(green.drop('Tip_percent', axis=1))\n",
    "labels = np.asarray(green['Tip_percent'])\n",
    "train_features, test_features, train_labels, test_labels = train_test_split(features, labels)"
   ]
  },
  {
   "cell_type": "code",
   "execution_count": 39,
   "metadata": {},
   "outputs": [
    {
     "name": "stdout",
     "output_type": "stream",
     "text": [
      "Performance (r2 score): 0.999781562270028\n"
     ]
    }
   ],
   "source": [
    "from sklearn.ensemble import RandomForestRegressor\n",
    "from sklearn.metrics import r2_score\n",
    "\n",
    "regr = RandomForestRegressor(n_estimators=100, random_state=10).fit(train_features, train_labels)\n",
    "preds = regr.predict(test_features)\n",
    "\n",
    "print('Performance (r2 score):', r2_score(test_labels, preds))"
   ]
  },
  {
   "cell_type": "markdown",
   "metadata": {},
   "source": [
    "Note: first, to estimate a continuous value Tip_percent from a series of variables, this should be a regression problem. Second, as there are still multiple factors that are highly correlated, I choose random forest regressor to deal with feature selection robustly. Third, for metrics, r2 score is chosen to evaluation how 'close' the regression prediction is to the true target value. "
   ]
  },
  {
   "cell_type": "markdown",
   "metadata": {},
   "source": [
    "For this result, I highly doubt that the model overfitted. Possible reason could be: model overfits on noise instead of signal; trees become too deep; data leakage caused by regression imputation. For future work, a more thorough analysis of features should be carried out;  a grid search on hyperparameters such as max_depth, max_features, min_samples_leaf would be helpful; train-test split before major imputation is carried out and only impute on training set."
   ]
  },
  {
   "cell_type": "markdown",
   "metadata": {},
   "source": [
    "However, I still feel the problem is a little ill-defined. Notice we have Tip_amount and Total_amount as variables, so Tip_percent could be directly infer from them. There are inheritted relationships between all the fare related variables. For example, even if I drop the Total_amount column, the values can still be inferred from a sum of all appeared fees. Perhaps we should drop both Tip_amount and Total_amount and let the model predict tips on the remaining features, and then directly calculate Tip_percent from there."
   ]
  },
  {
   "cell_type": "code",
   "execution_count": 45,
   "metadata": {},
   "outputs": [
    {
     "name": "stdout",
     "output_type": "stream",
     "text": [
      "                       importance\n",
      "feature                          \n",
      "Tip_amount                  0.927\n",
      "Fare_amount                 0.054\n",
      "Total_amount                0.018\n",
      "VendorID                    0.000\n",
      "direction                   0.000\n",
      "dropoff_date                0.000\n",
      "dropoff_hour                0.000\n",
      "pickup_date                 0.000\n",
      "pickup_hour                 0.000\n",
      "Trip_type                   0.000\n",
      "Payment_type                0.000\n",
      "improvement_surcharge       0.000\n",
      "RateCodeID                  0.000\n",
      "Tolls_amount                0.000\n",
      "MTA_tax                     0.000\n",
      "Extra                       0.000\n",
      "Trip_distance               0.000\n",
      "Passenger_count             0.000\n",
      "flag_cat                    0.000\n",
      "airport                     0.000\n"
     ]
    },
    {
     "data": {
      "text/plain": [
       "<matplotlib.axes._subplots.AxesSubplot at 0x1150c2860>"
      ]
     },
     "execution_count": 45,
     "metadata": {},
     "output_type": "execute_result"
    },
    {
     "data": {
      "image/png": "[encoded data removed]",
      "text/plain": [
       "<Figure size 432x288 with 1 Axes>"
      ]
     },
     "metadata": {
      "needs_background": "light"
     },
     "output_type": "display_data"
    }
   ],
   "source": [
    "importances = pd.DataFrame({'feature': green.columns[:-1], 'importance': np.round(regr.feature_importances_, 3)})\n",
    "importances = importances.sort_values('importance', ascending=False).set_index('feature')\n",
    "print(importances)\n",
    "importances.plot.bar()"
   ]
  },
  {
   "cell_type": "markdown",
   "metadata": {},
   "source": [
    "Note: plotting the feature importance confirms my doubt. The only feature that are actually used in the model is Tip_amount, Fare_amount and Total_amount! Code for plotting feature importance is from [this post](https://www.kaggle.com/jkokatjuhha/in-depth-visualisations-simple-methods)."
   ]
  },
  {
   "cell_type": "code",
   "execution_count": null,
   "metadata": {},
   "outputs": [],
   "source": [
    "features_new = np.asarray(green.drop(['Tip_percent', 'Tip_amount', 'Total_amount'], axis=1))\n",
    "train_features_new, test_features_new, train_labels_new, test_labels_new = train_test_split(features_new, labels)\n",
    "\n",
    "regr_new = RandomForestRegressor(n_estimators=100, random_state=10).fit(train_features_new, train_labels_new)\n",
    "preds_new = regr_new.predict(test_features_new)\n",
    "\n",
    "print('Performance (r2 score):', r2_score(test_labels_new, preds_new))"
   ]
  },
  {
   "cell_type": "code",
   "execution_count": 50,
   "metadata": {},
   "outputs": [
    {
     "name": "stdout",
     "output_type": "stream",
     "text": [
      "                       importance\n",
      "feature                          \n",
      "Payment_type                0.636\n",
      "Trip_distance               0.105\n",
      "Fare_amount                 0.066\n",
      "pickup_date                 0.039\n",
      "dropoff_date                0.039\n",
      "dropoff_hour                0.031\n",
      "pickup_hour                 0.030\n",
      "direction                   0.020\n",
      "Passenger_count             0.012\n",
      "RateCodeID                  0.006\n",
      "VendorID                    0.005\n",
      "Extra                       0.005\n",
      "Tolls_amount                0.002\n",
      "improvement_surcharge       0.001\n",
      "Trip_type                   0.001\n",
      "flag_cat                    0.001\n",
      "MTA_tax                     0.000\n",
      "airport                     0.000\n"
     ]
    },
    {
     "data": {
      "text/plain": [
       "<matplotlib.axes._subplots.AxesSubplot at 0x11e7e8a58>"
      ]
     },
     "execution_count": 50,
     "metadata": {},
     "output_type": "execute_result"
    },
    {
     "data": {
      "image/png": "[encoded data removed]",
      "text/plain": [
       "<Figure size 432x288 with 1 Axes>"
      ]
     },
     "metadata": {
      "needs_background": "light"
     },
     "output_type": "display_data"
    }
   ],
   "source": [
    "feature_col = green.drop(['Tip_percent', 'Tip_amount', 'Total_amount'], axis=1).columns\n",
    "\n",
    "importances_new = pd.DataFrame({'feature': feature_col, 'importance': np.round(regr_new.feature_importances_, 3)})\n",
    "importances_new = importances_new.sort_values('importance', ascending=False).set_index('feature')\n",
    "print(importances_new)\n",
    "importances_new.plot.bar()"
   ]
  },
  {
   "cell_type": "markdown",
   "metadata": {},
   "source": [
    "Note: now the feature importance plot aligns well to the feature correlation heatmap, and Payment_type is decisive variable. Trip_distance, Fare_amount, pickup and dropoff time also play a significant role on inferring Tip_percent."
   ]
  },
  {
   "cell_type": "markdown",
   "metadata": {},
   "source": [
    "## <span style=\"color:DarkTurquoise\">Q5-A-1: average speed over the course of a trip</span>"
   ]
  },
  {
   "cell_type": "code",
   "execution_count": 51,
   "metadata": {
    "scrolled": true
   },
   "outputs": [
    {
     "name": "stdout",
     "output_type": "stream",
     "text": [
      "(1490170,)\n",
      "count    1.473912e+06\n",
      "mean     1.307191e+01\n",
      "std      6.184961e+00\n",
      "min      4.170866e-04\n",
      "25%      9.418605e+00\n",
      "50%      1.183099e+01\n",
      "75%      1.512356e+01\n",
      "max      9.977143e+01\n",
      "dtype: float64\n"
     ]
    }
   ],
   "source": [
    "duration = (dropoff_time - pickup_time).apply(lambda x: x.total_seconds())\n",
    "print(duration.shape)\n",
    "speed = (green['Trip_distance']/duration * 3600).dropna()\n",
    "speed = speed[speed < 100]\n",
    "print(speed.describe())"
   ]
  },
  {
   "cell_type": "markdown",
   "metadata": {},
   "source": [
    "Note: according to [New York speed limit](https://en.wikipedia.org/wiki/Speed_limits_in_the_United_States_by_jurisdiction), it is highly unlikely taxi speed will exceed 100 mph."
   ]
  },
  {
   "cell_type": "code",
   "execution_count": 52,
   "metadata": {},
   "outputs": [
    {
     "data": {
      "image/png": "[encoded data removed]",
      "text/plain": [
       "<Figure size 432x288 with 1 Axes>"
      ]
     },
     "metadata": {
      "needs_background": "light"
     },
     "output_type": "display_data"
    }
   ],
   "source": [
    "speed.plot(kind='hist', bins=50)\n",
    "plt.xlabel('Speed (mph)')\n",
    "plt.ylabel('Count')\n",
    "plt.xlim((0,100))\n",
    "plt.title('Average speed distribution')\n",
    "plt.show()"
   ]
  },
  {
   "cell_type": "markdown",
   "metadata": {},
   "source": [
    "## <span style=\"color:DarkTurquoise\">Q5-A-2: ANOVA test for week and speed</span>"
   ]
  },
  {
   "cell_type": "code",
   "execution_count": 53,
   "metadata": {},
   "outputs": [
    {
     "name": "stdout",
     "output_type": "stream",
     "text": [
      "37    362950\n",
      "38    359090\n",
      "39    338049\n",
      "36    298388\n",
      "40    131693\n",
      "Name: pickup_time, dtype: int64\n",
      "\n",
      "Mean speed by week:\n",
      "          speed\n",
      "week           \n",
      "36    13.528091\n",
      "37    12.835530\n",
      "38    12.846150\n",
      "39    13.320130\n",
      "40    12.668716\n"
     ]
    }
   ],
   "source": [
    "week = pickup_time.apply(lambda x: x.week)\n",
    "print(week.value_counts())\n",
    "\n",
    "speed_week = pd.concat([speed, week], keys=['speed', 'week'], axis=1).dropna()\n",
    "mean_speed_by_week = speed_week.groupby('week').mean()\n",
    "print('\\nMean speed by week:')\n",
    "print(mean_speed_by_week)"
   ]
  },
  {
   "cell_type": "code",
   "execution_count": 54,
   "metadata": {},
   "outputs": [
    {
     "data": {
      "text/plain": [
       "F_onewayResult(statistic=925.9657395232883, pvalue=0.0)"
      ]
     },
     "execution_count": 54,
     "metadata": {},
     "output_type": "execute_result"
    }
   ],
   "source": [
    "weeks = []\n",
    "for w in range(36, 41):\n",
    "    weeks.append(speed_week['speed'][speed_week['week'] == w].values)\n",
    "\n",
    "stats.f_oneway(weeks[0], weeks[1], weeks[2], weeks[3], weeks[4])"
   ]
  },
  {
   "cell_type": "markdown",
   "metadata": {},
   "source": [
    "Note: the ANOVA test indicates a large f-value and a small p-value, therefore we reject the null hypothesis and we conclude that the differences between the groups are statistically significant which implies that the week of the month does seem to be related to the average speed. "
   ]
  },
  {
   "cell_type": "code",
   "execution_count": 59,
   "metadata": {},
   "outputs": [
    {
     "data": {
      "image/png": "[encoded data removed]",
      "text/plain": [
       "<Figure size 432x288 with 1 Axes>"
      ]
     },
     "metadata": {
      "needs_background": "light"
     },
     "output_type": "display_data"
    },
    {
     "data": {
      "image/png": "[encoded data removed]",
      "text/plain": [
       "<Figure size 360x360 with 1 Axes>"
      ]
     },
     "metadata": {
      "needs_background": "light"
     },
     "output_type": "display_data"
    }
   ],
   "source": [
    "mean_speed_by_week.plot(kind='bar')\n",
    "plt.title('Average speed by week')\n",
    "plt.xlabel('Week')\n",
    "plt.ylabel('Average speed (mph)')\n",
    "plt.ylim((10,14))\n",
    "\n",
    "sns.catplot(kind='point', x='week', y='speed', data=speed_week)\n",
    "plt.show()"
   ]
  },
  {
   "cell_type": "markdown",
   "metadata": {},
   "source": [
    "Note: the first plot shows the mean of average speed per week because we use mean statistics in ANOVA test. The second plot shows a more holistics distribution including median and IQR. We can observe that although within each week there is not much variation in average speed, it varies greatly between different weeks."
   ]
  },
  {
   "cell_type": "markdown",
   "metadata": {},
   "source": [
    "### <span style=\"color:DarkTurquoise\">Answer to Q5-A-2: Hypothese: there might be seasonality factors, eg. the first week of September is the Labor Day holiday, there might be more traffic on highway than inner city, thus the average speed would be higher than other weeks.</span>"
   ]
  },
  {
   "cell_type": "markdown",
   "metadata": {},
   "source": [
    "## <span style=\"color:DarkTurquoise\">Q5-A-3: ANOVA test for hour and speed</span>"
   ]
  },
  {
   "cell_type": "code",
   "execution_count": 60,
   "metadata": {},
   "outputs": [
    {
     "name": "stdout",
     "output_type": "stream",
     "text": [
      "18    97064\n",
      "19    95971\n",
      "20    90607\n",
      "17    87808\n",
      "21    86363\n",
      "22    84513\n",
      "23    79635\n",
      "16    78895\n",
      "15    73527\n",
      "0     67007\n",
      "14    66405\n",
      "9     61785\n",
      "8     58694\n",
      "12    57582\n",
      "13    57250\n",
      "10    57182\n",
      "11    56519\n",
      "1     53642\n",
      "7     41730\n",
      "2     41108\n",
      "3     31531\n",
      "4     26297\n",
      "6     22475\n",
      "5     16580\n",
      "Name: pickup_hour, dtype: int64\n",
      "\n",
      "Mean speed by hour:\n",
      "          speed\n",
      "hour           \n",
      "0     14.750411\n",
      "1     15.016560\n",
      "2     15.277092\n",
      "3     15.671009\n",
      "4     16.471329\n",
      "5     18.316728\n",
      "6     17.339568\n",
      "7     13.664869\n",
      "8     12.458878\n",
      "9     12.744854\n",
      "10    12.753272\n",
      "11    12.501399\n",
      "12    12.413636\n",
      "13    12.332001\n",
      "14    11.775644\n",
      "15    11.432932\n",
      "16    11.145854\n",
      "17    11.097765\n",
      "18    11.668873\n",
      "19    12.205296\n",
      "20    12.902699\n",
      "21    13.750918\n",
      "22    14.223989\n",
      "23    14.499027\n"
     ]
    }
   ],
   "source": [
    "hour = green['pickup_hour']\n",
    "print(hour.value_counts())\n",
    "\n",
    "speed_hour = pd.concat([speed, hour], keys=['speed', 'hour'], axis=1).dropna()\n",
    "mean_speed_by_hour = speed_hour.groupby('hour').mean()\n",
    "print('\\nMean speed by hour:')\n",
    "print(mean_speed_by_hour)"
   ]
  },
  {
   "cell_type": "code",
   "execution_count": 61,
   "metadata": {},
   "outputs": [
    {
     "data": {
      "text/plain": [
       "F_onewayResult(statistic=4336.903969580409, pvalue=0.0)"
      ]
     },
     "execution_count": 61,
     "metadata": {},
     "output_type": "execute_result"
    }
   ],
   "source": [
    "hours = []\n",
    "for h in range(0, 24):\n",
    "    hours.append(speed_hour['speed'][speed_hour['hour'] == h].values)\n",
    "\n",
    "stats.f_oneway(hours[0], hours[1], hours[2], hours[3], hours[4], hours[5], hours[6], hours[7], hours[8], hours[9], hours[10], hours[11], hours[12], hours[13], hours[14], hours[15], hours[16], hours[17], hours[18], hours[19], hours[20], hours[21], hours[22], hours[23])   "
   ]
  },
  {
   "cell_type": "markdown",
   "metadata": {},
   "source": [
    "Note: similarly, the ANOVA test indicates a large f-value and a small p-value, therefore we reject the null hypothesis and we conclude that the differences between the groups are statistically significant which implies that the hour of the day does seem to be related to the average speed. "
   ]
  },
  {
   "cell_type": "code",
   "execution_count": 62,
   "metadata": {},
   "outputs": [
    {
     "data": {
      "image/png": "[encoded data removed]",
      "text/plain": [
       "<Figure size 432x288 with 1 Axes>"
      ]
     },
     "metadata": {
      "needs_background": "light"
     },
     "output_type": "display_data"
    },
    {
     "data": {
      "image/png": "[encoded data removed]",
      "text/plain": [
       "<Figure size 360x360 with 1 Axes>"
      ]
     },
     "metadata": {
      "needs_background": "light"
     },
     "output_type": "display_data"
    }
   ],
   "source": [
    "mean_speed_by_hour.plot(kind='bar')\n",
    "plt.title('Average speed by hour')\n",
    "plt.xlabel('Hour')\n",
    "plt.ylabel('Average speed (mph)')\n",
    "plt.ylim((10,20))\n",
    "\n",
    "sns.catplot(kind='point', x='hour', y='speed', data=speed_hour)\n",
    "plt.show()"
   ]
  },
  {
   "cell_type": "markdown",
   "metadata": {},
   "source": [
    "Note: a saliet discrepancy can be observed from both mean plot and median plot."
   ]
  },
  {
   "cell_type": "markdown",
   "metadata": {},
   "source": [
    "### <span style=\"color:DarkTurquoise\">Answer to Q5-A-3: Hypothesis: this might be a cyclic behavior, eg. on weekdays, there can be traffic jams when people commute to and back from work, thus speed at 8 and 16-17 are much lower; in early morning hours such as 4 or 5, there are few people taking a trip so that speed are higher.</span>"
   ]
  },
  {
   "cell_type": "markdown",
   "metadata": {},
   "source": [
    "### Future work\n",
    "<br> • A more scrutinized way of imputing zero Trip_distance and LGA area </br>\n",
    "<br> • A more thorough analysis of features should be carried out to deal with multicollinearity </br>\n",
    "<br> • A transformation of categorical variables to one-hot encoding\n",
    "<br> • Train-test split before major imputation </br>\n",
    "<br> • A grid search on hyperparameters such as max_depth, max_features, min_samples_leaf to optimize random forest regression and make it more robust </br>\n",
    "<br> • An experiment with other models such as SVM with non-linear kernels, LightGBM or ensemble models </br>\n",
    "<br> • A more general observation of multiple time slots (different months) and at multiple time window lengths (daily, weekly, monthly, yearly)"
   ]
  },
  {
   "cell_type": "markdown",
   "metadata": {},
   "source": [
    "### Reference</br>\n",
    "<br>[NYC Green Taxi data for September 2015](http://www.nyc.gov/html/tlc/html/about/trip_record_data.shtml)</br>\n",
    "<br>[Data dictionary](http://www.nyc.gov/html/tlc/downloads/pdf/data_dictionary_trip_records_green.pdf)</br>\n",
    "<br>[Factor correlation heatmap](https://www.kaggle.com/vincentlugat/lightgbm-plotly)</br>\n",
    "<br>[Outlier identification](https://github.com/kthouz/NYC_Green_Taxi)\n",
    "<br>[categorical variable encoding techniques](http://pbpython.com/categorical-encoding.html)</br>\n",
    "<br>[Feature importance plot](https://www.kaggle.com/jkokatjuhha/in-depth-visualisations-simple-methods)</br>"
   ]
  },
  {
   "cell_type": "code",
   "execution_count": null,
   "metadata": {},
   "outputs": [],
   "source": []
  }
 ],
 "metadata": {
  "kernelspec": {
   "display_name": "Python 3",
   "language": "python",
   "name": "python3"
  },
  "language_info": {
   "codemirror_mode": {
    "name": "ipython",
    "version": 3
   },
   "file_extension": ".py",
   "mimetype": "text/x-python",
   "name": "python",
   "nbconvert_exporter": "python",
   "pygments_lexer": "ipython3",
   "version": "3.6.5"
  }
 },
 "nbformat": 4,
 "nbformat_minor": 2
}
